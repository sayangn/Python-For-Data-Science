{
 "cells": [
  {
   "cell_type": "markdown",
   "id": "93d0a6c9",
   "metadata": {},
   "source": [
    "### Import Packages"
   ]
  },
  {
   "cell_type": "code",
   "execution_count": 3,
   "id": "061f6f23",
   "metadata": {},
   "outputs": [],
   "source": [
    "import numpy as np\n",
    "import pandas as pd\n",
    "import matplotlib.pyplot as plt\n",
    "import seaborn as sns\n",
    "import scipy.stats as stats\n",
    "%matplotlib inline"
   ]
  },
  {
   "cell_type": "markdown",
   "id": "5b39b4f7",
   "metadata": {},
   "source": [
    "## BUSINESS PROBLEM-1\n",
    "BACKGROUND: The Lending Club is a peer-to-peer lending site where members make loans to \n",
    "each other. The site makes anonymized data on loans and borrowers publicly available. "
   ]
  },
  {
   "cell_type": "markdown",
   "id": "a569d330",
   "metadata": {},
   "source": [
    "#### BUSINESS PROBLEM:\n",
    "Using lending club loans data, the team would like to test below hypothesis on how different \n",
    "factors effecing each other (Hint: You may leverage hypothesis testing using statistical tests)\n"
   ]
  },
  {
   "cell_type": "markdown",
   "id": "450fc61b",
   "metadata": {},
   "source": [
    "### Data Preparation"
   ]
  },
  {
   "cell_type": "code",
   "execution_count": 4,
   "id": "8e16516c",
   "metadata": {},
   "outputs": [
    {
     "data": {
      "text/html": [
       "<div>\n",
       "<style scoped>\n",
       "    .dataframe tbody tr th:only-of-type {\n",
       "        vertical-align: middle;\n",
       "    }\n",
       "\n",
       "    .dataframe tbody tr th {\n",
       "        vertical-align: top;\n",
       "    }\n",
       "\n",
       "    .dataframe thead th {\n",
       "        text-align: right;\n",
       "    }\n",
       "</style>\n",
       "<table border=\"1\" class=\"dataframe\">\n",
       "  <thead>\n",
       "    <tr style=\"text-align: right;\">\n",
       "      <th></th>\n",
       "      <th>Amount.Requested</th>\n",
       "      <th>Amount.Funded.By.Investors</th>\n",
       "      <th>Interest.Rate</th>\n",
       "      <th>Loan.Length</th>\n",
       "      <th>Loan.Purpose</th>\n",
       "      <th>Debt.To.Income.Ratio</th>\n",
       "      <th>State</th>\n",
       "      <th>Home.Ownership</th>\n",
       "      <th>Monthly.Income</th>\n",
       "      <th>FICO.Range</th>\n",
       "      <th>Open.CREDIT.Lines</th>\n",
       "      <th>Revolving.CREDIT.Balance</th>\n",
       "      <th>Inquiries.in.the.Last.6.Months</th>\n",
       "      <th>Employment.Length</th>\n",
       "    </tr>\n",
       "  </thead>\n",
       "  <tbody>\n",
       "    <tr>\n",
       "      <th>0</th>\n",
       "      <td>20000.0</td>\n",
       "      <td>20000.00</td>\n",
       "      <td>8.90%</td>\n",
       "      <td>36 months</td>\n",
       "      <td>debt_consolidation</td>\n",
       "      <td>14.90%</td>\n",
       "      <td>SC</td>\n",
       "      <td>MORTGAGE</td>\n",
       "      <td>6541.67</td>\n",
       "      <td>735-739</td>\n",
       "      <td>14.0</td>\n",
       "      <td>14272.0</td>\n",
       "      <td>2.0</td>\n",
       "      <td>&lt; 1 year</td>\n",
       "    </tr>\n",
       "    <tr>\n",
       "      <th>1</th>\n",
       "      <td>19200.0</td>\n",
       "      <td>19200.00</td>\n",
       "      <td>12.12%</td>\n",
       "      <td>36 months</td>\n",
       "      <td>debt_consolidation</td>\n",
       "      <td>28.36%</td>\n",
       "      <td>TX</td>\n",
       "      <td>MORTGAGE</td>\n",
       "      <td>4583.33</td>\n",
       "      <td>715-719</td>\n",
       "      <td>12.0</td>\n",
       "      <td>11140.0</td>\n",
       "      <td>1.0</td>\n",
       "      <td>2 years</td>\n",
       "    </tr>\n",
       "    <tr>\n",
       "      <th>2</th>\n",
       "      <td>35000.0</td>\n",
       "      <td>35000.00</td>\n",
       "      <td>21.98%</td>\n",
       "      <td>60 months</td>\n",
       "      <td>debt_consolidation</td>\n",
       "      <td>23.81%</td>\n",
       "      <td>CA</td>\n",
       "      <td>MORTGAGE</td>\n",
       "      <td>11500.00</td>\n",
       "      <td>690-694</td>\n",
       "      <td>14.0</td>\n",
       "      <td>21977.0</td>\n",
       "      <td>1.0</td>\n",
       "      <td>2 years</td>\n",
       "    </tr>\n",
       "    <tr>\n",
       "      <th>3</th>\n",
       "      <td>10000.0</td>\n",
       "      <td>9975.00</td>\n",
       "      <td>9.99%</td>\n",
       "      <td>36 months</td>\n",
       "      <td>debt_consolidation</td>\n",
       "      <td>14.30%</td>\n",
       "      <td>KS</td>\n",
       "      <td>MORTGAGE</td>\n",
       "      <td>3833.33</td>\n",
       "      <td>695-699</td>\n",
       "      <td>10.0</td>\n",
       "      <td>9346.0</td>\n",
       "      <td>0.0</td>\n",
       "      <td>5 years</td>\n",
       "    </tr>\n",
       "    <tr>\n",
       "      <th>4</th>\n",
       "      <td>12000.0</td>\n",
       "      <td>12000.00</td>\n",
       "      <td>11.71%</td>\n",
       "      <td>36 months</td>\n",
       "      <td>credit_card</td>\n",
       "      <td>18.78%</td>\n",
       "      <td>NJ</td>\n",
       "      <td>RENT</td>\n",
       "      <td>3195.00</td>\n",
       "      <td>695-699</td>\n",
       "      <td>11.0</td>\n",
       "      <td>14469.0</td>\n",
       "      <td>0.0</td>\n",
       "      <td>9 years</td>\n",
       "    </tr>\n",
       "    <tr>\n",
       "      <th>...</th>\n",
       "      <td>...</td>\n",
       "      <td>...</td>\n",
       "      <td>...</td>\n",
       "      <td>...</td>\n",
       "      <td>...</td>\n",
       "      <td>...</td>\n",
       "      <td>...</td>\n",
       "      <td>...</td>\n",
       "      <td>...</td>\n",
       "      <td>...</td>\n",
       "      <td>...</td>\n",
       "      <td>...</td>\n",
       "      <td>...</td>\n",
       "      <td>...</td>\n",
       "    </tr>\n",
       "    <tr>\n",
       "      <th>2495</th>\n",
       "      <td>30000.0</td>\n",
       "      <td>29950.00</td>\n",
       "      <td>16.77%</td>\n",
       "      <td>60 months</td>\n",
       "      <td>debt_consolidation</td>\n",
       "      <td>19.23%</td>\n",
       "      <td>NY</td>\n",
       "      <td>MORTGAGE</td>\n",
       "      <td>9250.00</td>\n",
       "      <td>705-709</td>\n",
       "      <td>15.0</td>\n",
       "      <td>45880.0</td>\n",
       "      <td>1.0</td>\n",
       "      <td>8 years</td>\n",
       "    </tr>\n",
       "    <tr>\n",
       "      <th>2496</th>\n",
       "      <td>16000.0</td>\n",
       "      <td>16000.00</td>\n",
       "      <td>14.09%</td>\n",
       "      <td>60 months</td>\n",
       "      <td>home_improvement</td>\n",
       "      <td>21.54%</td>\n",
       "      <td>MD</td>\n",
       "      <td>OWN</td>\n",
       "      <td>8903.25</td>\n",
       "      <td>740-744</td>\n",
       "      <td>18.0</td>\n",
       "      <td>18898.0</td>\n",
       "      <td>1.0</td>\n",
       "      <td>10+ years</td>\n",
       "    </tr>\n",
       "    <tr>\n",
       "      <th>2497</th>\n",
       "      <td>10000.0</td>\n",
       "      <td>10000.00</td>\n",
       "      <td>13.99%</td>\n",
       "      <td>36 months</td>\n",
       "      <td>debt_consolidation</td>\n",
       "      <td>4.89%</td>\n",
       "      <td>PA</td>\n",
       "      <td>MORTGAGE</td>\n",
       "      <td>2166.67</td>\n",
       "      <td>680-684</td>\n",
       "      <td>4.0</td>\n",
       "      <td>4544.0</td>\n",
       "      <td>0.0</td>\n",
       "      <td>10+ years</td>\n",
       "    </tr>\n",
       "    <tr>\n",
       "      <th>2498</th>\n",
       "      <td>6000.0</td>\n",
       "      <td>6000.00</td>\n",
       "      <td>12.42%</td>\n",
       "      <td>36 months</td>\n",
       "      <td>major_purchase</td>\n",
       "      <td>16.66%</td>\n",
       "      <td>NJ</td>\n",
       "      <td>RENT</td>\n",
       "      <td>3500.00</td>\n",
       "      <td>675-679</td>\n",
       "      <td>8.0</td>\n",
       "      <td>7753.0</td>\n",
       "      <td>0.0</td>\n",
       "      <td>5 years</td>\n",
       "    </tr>\n",
       "    <tr>\n",
       "      <th>2499</th>\n",
       "      <td>9000.0</td>\n",
       "      <td>5242.75</td>\n",
       "      <td>13.79%</td>\n",
       "      <td>36 months</td>\n",
       "      <td>debt_consolidation</td>\n",
       "      <td>6.76%</td>\n",
       "      <td>NY</td>\n",
       "      <td>RENT</td>\n",
       "      <td>3875.00</td>\n",
       "      <td>670-674</td>\n",
       "      <td>7.0</td>\n",
       "      <td>7589.0</td>\n",
       "      <td>0.0</td>\n",
       "      <td>10+ years</td>\n",
       "    </tr>\n",
       "  </tbody>\n",
       "</table>\n",
       "<p>2500 rows × 14 columns</p>\n",
       "</div>"
      ],
      "text/plain": [
       "      Amount.Requested  Amount.Funded.By.Investors Interest.Rate Loan.Length  \\\n",
       "0              20000.0                    20000.00         8.90%   36 months   \n",
       "1              19200.0                    19200.00        12.12%   36 months   \n",
       "2              35000.0                    35000.00        21.98%   60 months   \n",
       "3              10000.0                     9975.00         9.99%   36 months   \n",
       "4              12000.0                    12000.00        11.71%   36 months   \n",
       "...                ...                         ...           ...         ...   \n",
       "2495           30000.0                    29950.00        16.77%   60 months   \n",
       "2496           16000.0                    16000.00        14.09%   60 months   \n",
       "2497           10000.0                    10000.00        13.99%   36 months   \n",
       "2498            6000.0                     6000.00        12.42%   36 months   \n",
       "2499            9000.0                     5242.75        13.79%   36 months   \n",
       "\n",
       "            Loan.Purpose Debt.To.Income.Ratio State Home.Ownership  \\\n",
       "0     debt_consolidation               14.90%    SC       MORTGAGE   \n",
       "1     debt_consolidation               28.36%    TX       MORTGAGE   \n",
       "2     debt_consolidation               23.81%    CA       MORTGAGE   \n",
       "3     debt_consolidation               14.30%    KS       MORTGAGE   \n",
       "4            credit_card               18.78%    NJ           RENT   \n",
       "...                  ...                  ...   ...            ...   \n",
       "2495  debt_consolidation               19.23%    NY       MORTGAGE   \n",
       "2496    home_improvement               21.54%    MD            OWN   \n",
       "2497  debt_consolidation                4.89%    PA       MORTGAGE   \n",
       "2498      major_purchase               16.66%    NJ           RENT   \n",
       "2499  debt_consolidation                6.76%    NY           RENT   \n",
       "\n",
       "      Monthly.Income FICO.Range  Open.CREDIT.Lines  Revolving.CREDIT.Balance  \\\n",
       "0            6541.67    735-739               14.0                   14272.0   \n",
       "1            4583.33    715-719               12.0                   11140.0   \n",
       "2           11500.00    690-694               14.0                   21977.0   \n",
       "3            3833.33    695-699               10.0                    9346.0   \n",
       "4            3195.00    695-699               11.0                   14469.0   \n",
       "...              ...        ...                ...                       ...   \n",
       "2495         9250.00    705-709               15.0                   45880.0   \n",
       "2496         8903.25    740-744               18.0                   18898.0   \n",
       "2497         2166.67    680-684                4.0                    4544.0   \n",
       "2498         3500.00    675-679                8.0                    7753.0   \n",
       "2499         3875.00    670-674                7.0                    7589.0   \n",
       "\n",
       "      Inquiries.in.the.Last.6.Months Employment.Length  \n",
       "0                                2.0          < 1 year  \n",
       "1                                1.0           2 years  \n",
       "2                                1.0           2 years  \n",
       "3                                0.0           5 years  \n",
       "4                                0.0           9 years  \n",
       "...                              ...               ...  \n",
       "2495                             1.0           8 years  \n",
       "2496                             1.0         10+ years  \n",
       "2497                             0.0         10+ years  \n",
       "2498                             0.0           5 years  \n",
       "2499                             0.0         10+ years  \n",
       "\n",
       "[2500 rows x 14 columns]"
      ]
     },
     "execution_count": 4,
     "metadata": {},
     "output_type": "execute_result"
    }
   ],
   "source": [
    "#importing the data\n",
    "loan_data=pd.read_csv(r\"C:\\sayan\\data science interview\\course\\Python\\projects\\Python foundation\\Basic Statistics - Hypothesis Testing\\4. Basic Statistics - Hypothesis Testing\\LoansData.csv\")\n",
    "loan_data"
   ]
  },
  {
   "cell_type": "code",
   "execution_count": 5,
   "id": "1105fce1",
   "metadata": {},
   "outputs": [],
   "source": [
    "#the column names are not according to the INC rules, need to change them\n",
    "loan_data.columns=loan_data.columns.str.replace(\".\",\"_\")"
   ]
  },
  {
   "cell_type": "code",
   "execution_count": 6,
   "id": "dc3b255c",
   "metadata": {},
   "outputs": [
    {
     "data": {
      "text/html": [
       "<div>\n",
       "<style scoped>\n",
       "    .dataframe tbody tr th:only-of-type {\n",
       "        vertical-align: middle;\n",
       "    }\n",
       "\n",
       "    .dataframe tbody tr th {\n",
       "        vertical-align: top;\n",
       "    }\n",
       "\n",
       "    .dataframe thead th {\n",
       "        text-align: right;\n",
       "    }\n",
       "</style>\n",
       "<table border=\"1\" class=\"dataframe\">\n",
       "  <thead>\n",
       "    <tr style=\"text-align: right;\">\n",
       "      <th></th>\n",
       "      <th>Amount_Requested</th>\n",
       "      <th>Amount_Funded_By_Investors</th>\n",
       "      <th>Interest_Rate</th>\n",
       "      <th>Loan_Length</th>\n",
       "      <th>Loan_Purpose</th>\n",
       "      <th>Debt_To_Income_Ratio</th>\n",
       "      <th>State</th>\n",
       "      <th>Home_Ownership</th>\n",
       "      <th>Monthly_Income</th>\n",
       "      <th>FICO_Range</th>\n",
       "      <th>Open_CREDIT_Lines</th>\n",
       "      <th>Revolving_CREDIT_Balance</th>\n",
       "      <th>Inquiries_in_the_Last_6_Months</th>\n",
       "      <th>Employment_Length</th>\n",
       "    </tr>\n",
       "  </thead>\n",
       "  <tbody>\n",
       "    <tr>\n",
       "      <th>0</th>\n",
       "      <td>20000.0</td>\n",
       "      <td>20000.0</td>\n",
       "      <td>8.90%</td>\n",
       "      <td>36 months</td>\n",
       "      <td>debt_consolidation</td>\n",
       "      <td>14.90%</td>\n",
       "      <td>SC</td>\n",
       "      <td>MORTGAGE</td>\n",
       "      <td>6541.67</td>\n",
       "      <td>735-739</td>\n",
       "      <td>14.0</td>\n",
       "      <td>14272.0</td>\n",
       "      <td>2.0</td>\n",
       "      <td>&lt; 1 year</td>\n",
       "    </tr>\n",
       "  </tbody>\n",
       "</table>\n",
       "</div>"
      ],
      "text/plain": [
       "   Amount_Requested  Amount_Funded_By_Investors Interest_Rate Loan_Length  \\\n",
       "0           20000.0                     20000.0         8.90%   36 months   \n",
       "\n",
       "         Loan_Purpose Debt_To_Income_Ratio State Home_Ownership  \\\n",
       "0  debt_consolidation               14.90%    SC       MORTGAGE   \n",
       "\n",
       "   Monthly_Income FICO_Range  Open_CREDIT_Lines  Revolving_CREDIT_Balance  \\\n",
       "0         6541.67    735-739               14.0                   14272.0   \n",
       "\n",
       "   Inquiries_in_the_Last_6_Months Employment_Length  \n",
       "0                             2.0          < 1 year  "
      ]
     },
     "execution_count": 6,
     "metadata": {},
     "output_type": "execute_result"
    }
   ],
   "source": [
    "loan_data.head(1)"
   ]
  },
  {
   "cell_type": "code",
   "execution_count": 7,
   "id": "39355893",
   "metadata": {},
   "outputs": [
    {
     "name": "stdout",
     "output_type": "stream",
     "text": [
      "<class 'pandas.core.frame.DataFrame'>\n",
      "RangeIndex: 2500 entries, 0 to 2499\n",
      "Data columns (total 14 columns):\n",
      " #   Column                          Non-Null Count  Dtype  \n",
      "---  ------                          --------------  -----  \n",
      " 0   Amount_Requested                2499 non-null   float64\n",
      " 1   Amount_Funded_By_Investors      2499 non-null   float64\n",
      " 2   Interest_Rate                   2498 non-null   object \n",
      " 3   Loan_Length                     2500 non-null   object \n",
      " 4   Loan_Purpose                    2500 non-null   object \n",
      " 5   Debt_To_Income_Ratio            2499 non-null   object \n",
      " 6   State                           2500 non-null   object \n",
      " 7   Home_Ownership                  2499 non-null   object \n",
      " 8   Monthly_Income                  2499 non-null   float64\n",
      " 9   FICO_Range                      2498 non-null   object \n",
      " 10  Open_CREDIT_Lines               2497 non-null   float64\n",
      " 11  Revolving_CREDIT_Balance        2497 non-null   float64\n",
      " 12  Inquiries_in_the_Last_6_Months  2497 non-null   float64\n",
      " 13  Employment_Length               2423 non-null   object \n",
      "dtypes: float64(6), object(8)\n",
      "memory usage: 273.6+ KB\n"
     ]
    }
   ],
   "source": [
    "loan_data.info()"
   ]
  },
  {
   "cell_type": "code",
   "execution_count": 8,
   "id": "cd5e1c5a",
   "metadata": {},
   "outputs": [],
   "source": [
    "#changing the loan_length datatypes\n",
    "loan_data.Loan_Length=loan_data.Loan_Length.str.replace(' months','').astype(np.int16)"
   ]
  },
  {
   "cell_type": "code",
   "execution_count": 9,
   "id": "2463403c",
   "metadata": {},
   "outputs": [],
   "source": [
    "#changing the interest rate datatypes\n",
    "loan_data.loc[:,'Interest_Rate']=loan_data.Interest_Rate.str.replace('%','').astype(np.float32)"
   ]
  },
  {
   "cell_type": "code",
   "execution_count": 10,
   "id": "5a9d059f",
   "metadata": {},
   "outputs": [
    {
     "data": {
      "text/html": [
       "<div>\n",
       "<style scoped>\n",
       "    .dataframe tbody tr th:only-of-type {\n",
       "        vertical-align: middle;\n",
       "    }\n",
       "\n",
       "    .dataframe tbody tr th {\n",
       "        vertical-align: top;\n",
       "    }\n",
       "\n",
       "    .dataframe thead th {\n",
       "        text-align: right;\n",
       "    }\n",
       "</style>\n",
       "<table border=\"1\" class=\"dataframe\">\n",
       "  <thead>\n",
       "    <tr style=\"text-align: right;\">\n",
       "      <th></th>\n",
       "      <th>Amount_Requested</th>\n",
       "      <th>Amount_Funded_By_Investors</th>\n",
       "      <th>Interest_Rate</th>\n",
       "      <th>Loan_Length</th>\n",
       "      <th>Loan_Purpose</th>\n",
       "      <th>Debt_To_Income_Ratio</th>\n",
       "      <th>State</th>\n",
       "      <th>Home_Ownership</th>\n",
       "      <th>Monthly_Income</th>\n",
       "      <th>FICO_Range</th>\n",
       "      <th>Open_CREDIT_Lines</th>\n",
       "      <th>Revolving_CREDIT_Balance</th>\n",
       "      <th>Inquiries_in_the_Last_6_Months</th>\n",
       "      <th>Employment_Length</th>\n",
       "    </tr>\n",
       "  </thead>\n",
       "  <tbody>\n",
       "    <tr>\n",
       "      <th>2490</th>\n",
       "      <td>10000.0</td>\n",
       "      <td>NaN</td>\n",
       "      <td>11.71</td>\n",
       "      <td>36</td>\n",
       "      <td>debt_consolidation</td>\n",
       "      <td>8.40%</td>\n",
       "      <td>CA</td>\n",
       "      <td>RENT</td>\n",
       "      <td>4500.0</td>\n",
       "      <td>710-714</td>\n",
       "      <td>8.0</td>\n",
       "      <td>8404.0</td>\n",
       "      <td>1.0</td>\n",
       "      <td>3 years</td>\n",
       "    </tr>\n",
       "  </tbody>\n",
       "</table>\n",
       "</div>"
      ],
      "text/plain": [
       "      Amount_Requested  Amount_Funded_By_Investors Interest_Rate  Loan_Length  \\\n",
       "2490           10000.0                         NaN         11.71           36   \n",
       "\n",
       "            Loan_Purpose Debt_To_Income_Ratio State Home_Ownership  \\\n",
       "2490  debt_consolidation                8.40%    CA           RENT   \n",
       "\n",
       "      Monthly_Income FICO_Range  Open_CREDIT_Lines  Revolving_CREDIT_Balance  \\\n",
       "2490          4500.0    710-714                8.0                    8404.0   \n",
       "\n",
       "      Inquiries_in_the_Last_6_Months Employment_Length  \n",
       "2490                             1.0           3 years  "
      ]
     },
     "execution_count": 10,
     "metadata": {},
     "output_type": "execute_result"
    }
   ],
   "source": [
    "#checking Amount_Funded_By_Investors null record\n",
    "loan_data[loan_data.Amount_Funded_By_Investors.isnull()]"
   ]
  },
  {
   "cell_type": "code",
   "execution_count": 11,
   "id": "6cfbab5f",
   "metadata": {},
   "outputs": [
    {
     "data": {
      "text/plain": [
       "12002.374185674269"
      ]
     },
     "execution_count": 11,
     "metadata": {},
     "output_type": "execute_result"
    }
   ],
   "source": [
    "#I cannot take mean of the population because on investigation it is \n",
    "#observed that Amount_Funded_By_Investors will be greater than Amount_Requested\n",
    "loan_data.Amount_Funded_By_Investors.mean()"
   ]
  },
  {
   "cell_type": "code",
   "execution_count": 12,
   "id": "ae1d3117",
   "metadata": {},
   "outputs": [
    {
     "data": {
      "text/plain": [
       "Amount_Funded_By_Investors\n",
       "10000.00    156\n",
       "9975.00       8\n",
       "9850.00       4\n",
       "9950.00       3\n",
       "6350.00       1\n",
       "1300.00       1\n",
       "9767.84       1\n",
       "9925.00       1\n",
       "9725.00       1\n",
       "4082.56       1\n",
       "550.00        1\n",
       "8851.08       1\n",
       "9869.17       1\n",
       "525.00        1\n",
       "9875.00       1\n",
       "7945.17       1\n",
       "9325.00       1\n",
       "7586.93       1\n",
       "8175.26       1\n",
       "9500.00       1\n",
       "9225.43       1\n",
       "9924.07       1\n",
       "5334.01       1\n",
       "9700.00       1\n",
       "6301.07       1\n",
       "Name: count, dtype: int64"
      ]
     },
     "execution_count": 12,
     "metadata": {},
     "output_type": "execute_result"
    }
   ],
   "source": [
    "#In maximum cases the full amount was given as loan, so I am taking mode to fill missing value of Amount_Funded_By_Investors\n",
    "loan_data[(loan_data.Amount_Requested==10000) & (loan_data.Loan_Length==36)].Amount_Funded_By_Investors.value_counts()"
   ]
  },
  {
   "cell_type": "code",
   "execution_count": 13,
   "id": "528275f9",
   "metadata": {},
   "outputs": [],
   "source": [
    "loan_data.Amount_Funded_By_Investors.fillna(10000,inplace=True)"
   ]
  },
  {
   "cell_type": "code",
   "execution_count": 14,
   "id": "de349b6c",
   "metadata": {},
   "outputs": [
    {
     "data": {
      "text/plain": [
       "Amount_Requested\n",
       "15000.0    60\n",
       "Name: count, dtype: int64"
      ]
     },
     "execution_count": 14,
     "metadata": {},
     "output_type": "execute_result"
    }
   ],
   "source": [
    "#checking based on Amount_Funded_By_Investors & Loan_Length what can be the possible values to fillna of Amount_Requested\n",
    "#so going with mode\n",
    "loan_data[(loan_data.Amount_Funded_By_Investors==15000) & (loan_data.Loan_Length==36)].Amount_Requested.value_counts()"
   ]
  },
  {
   "cell_type": "code",
   "execution_count": 15,
   "id": "9504b552",
   "metadata": {},
   "outputs": [],
   "source": [
    "loan_data.Amount_Requested.fillna(15000,inplace=True)"
   ]
  },
  {
   "cell_type": "code",
   "execution_count": 16,
   "id": "27a5c527",
   "metadata": {},
   "outputs": [
    {
     "data": {
      "text/html": [
       "<div>\n",
       "<style scoped>\n",
       "    .dataframe tbody tr th:only-of-type {\n",
       "        vertical-align: middle;\n",
       "    }\n",
       "\n",
       "    .dataframe tbody tr th {\n",
       "        vertical-align: top;\n",
       "    }\n",
       "\n",
       "    .dataframe thead th {\n",
       "        text-align: right;\n",
       "    }\n",
       "</style>\n",
       "<table border=\"1\" class=\"dataframe\">\n",
       "  <thead>\n",
       "    <tr style=\"text-align: right;\">\n",
       "      <th></th>\n",
       "      <th>Amount_Requested</th>\n",
       "      <th>Amount_Funded_By_Investors</th>\n",
       "      <th>Interest_Rate</th>\n",
       "      <th>Loan_Length</th>\n",
       "      <th>Loan_Purpose</th>\n",
       "      <th>Debt_To_Income_Ratio</th>\n",
       "      <th>State</th>\n",
       "      <th>Home_Ownership</th>\n",
       "      <th>Monthly_Income</th>\n",
       "      <th>FICO_Range</th>\n",
       "      <th>Open_CREDIT_Lines</th>\n",
       "      <th>Revolving_CREDIT_Balance</th>\n",
       "      <th>Inquiries_in_the_Last_6_Months</th>\n",
       "      <th>Employment_Length</th>\n",
       "    </tr>\n",
       "  </thead>\n",
       "  <tbody>\n",
       "    <tr>\n",
       "      <th>2484</th>\n",
       "      <td>15000.0</td>\n",
       "      <td>15000.0</td>\n",
       "      <td>NaN</td>\n",
       "      <td>36</td>\n",
       "      <td>credit_card</td>\n",
       "      <td>28.28%</td>\n",
       "      <td>OH</td>\n",
       "      <td>MORTGAGE</td>\n",
       "      <td>6666.67</td>\n",
       "      <td>690-694</td>\n",
       "      <td>15.0</td>\n",
       "      <td>14880.0</td>\n",
       "      <td>0.0</td>\n",
       "      <td>10+ years</td>\n",
       "    </tr>\n",
       "    <tr>\n",
       "      <th>2487</th>\n",
       "      <td>15000.0</td>\n",
       "      <td>15000.0</td>\n",
       "      <td>NaN</td>\n",
       "      <td>36</td>\n",
       "      <td>wedding</td>\n",
       "      <td>18.05%</td>\n",
       "      <td>CA</td>\n",
       "      <td>RENT</td>\n",
       "      <td>8000.00</td>\n",
       "      <td>660-664</td>\n",
       "      <td>6.0</td>\n",
       "      <td>45976.0</td>\n",
       "      <td>1.0</td>\n",
       "      <td>2 years</td>\n",
       "    </tr>\n",
       "  </tbody>\n",
       "</table>\n",
       "</div>"
      ],
      "text/plain": [
       "      Amount_Requested  Amount_Funded_By_Investors Interest_Rate  Loan_Length  \\\n",
       "2484           15000.0                     15000.0           NaN           36   \n",
       "2487           15000.0                     15000.0           NaN           36   \n",
       "\n",
       "     Loan_Purpose Debt_To_Income_Ratio State Home_Ownership  Monthly_Income  \\\n",
       "2484  credit_card               28.28%    OH       MORTGAGE         6666.67   \n",
       "2487      wedding               18.05%    CA           RENT         8000.00   \n",
       "\n",
       "     FICO_Range  Open_CREDIT_Lines  Revolving_CREDIT_Balance  \\\n",
       "2484    690-694               15.0                   14880.0   \n",
       "2487    660-664                6.0                   45976.0   \n",
       "\n",
       "      Inquiries_in_the_Last_6_Months Employment_Length  \n",
       "2484                             0.0         10+ years  \n",
       "2487                             1.0           2 years  "
      ]
     },
     "execution_count": 16,
     "metadata": {},
     "output_type": "execute_result"
    }
   ],
   "source": [
    "loan_data[loan_data.Interest_Rate.isnull()]"
   ]
  },
  {
   "cell_type": "code",
   "execution_count": 17,
   "id": "a8db3036",
   "metadata": {},
   "outputs": [
    {
     "data": {
      "text/plain": [
       "12.808135557982881"
      ]
     },
     "execution_count": 17,
     "metadata": {},
     "output_type": "execute_result"
    }
   ],
   "source": [
    "#since interest rate is missing for 36 months and Amount_Requested= 15000 in the data, \n",
    "#so filling na with the mean of 36 months interests \n",
    "mean_int=loan_data[(loan_data.Amount_Funded_By_Investors==15000) & (loan_data.Loan_Length==36)]['Interest_Rate'].mean()\n",
    "mean_int"
   ]
  },
  {
   "cell_type": "code",
   "execution_count": 18,
   "id": "00f1bd8a",
   "metadata": {},
   "outputs": [],
   "source": [
    "loan_data.Interest_Rate.fillna(mean_int,inplace=True)"
   ]
  },
  {
   "cell_type": "code",
   "execution_count": 19,
   "id": "be2c4e4b",
   "metadata": {},
   "outputs": [
    {
     "name": "stdout",
     "output_type": "stream",
     "text": [
      "<class 'pandas.core.frame.DataFrame'>\n",
      "RangeIndex: 2500 entries, 0 to 2499\n",
      "Data columns (total 14 columns):\n",
      " #   Column                          Non-Null Count  Dtype  \n",
      "---  ------                          --------------  -----  \n",
      " 0   Amount_Requested                2500 non-null   float64\n",
      " 1   Amount_Funded_By_Investors      2500 non-null   float64\n",
      " 2   Interest_Rate                   2500 non-null   float64\n",
      " 3   Loan_Length                     2500 non-null   int16  \n",
      " 4   Loan_Purpose                    2500 non-null   object \n",
      " 5   Debt_To_Income_Ratio            2499 non-null   object \n",
      " 6   State                           2500 non-null   object \n",
      " 7   Home_Ownership                  2499 non-null   object \n",
      " 8   Monthly_Income                  2499 non-null   float64\n",
      " 9   FICO_Range                      2498 non-null   object \n",
      " 10  Open_CREDIT_Lines               2497 non-null   float64\n",
      " 11  Revolving_CREDIT_Balance        2497 non-null   float64\n",
      " 12  Inquiries_in_the_Last_6_Months  2497 non-null   float64\n",
      " 13  Employment_Length               2423 non-null   object \n",
      "dtypes: float64(7), int16(1), object(6)\n",
      "memory usage: 258.9+ KB\n"
     ]
    }
   ],
   "source": [
    "loan_data.info()"
   ]
  },
  {
   "cell_type": "markdown",
   "id": "996ee0fc",
   "metadata": {},
   "source": [
    "### a. Intrest rate is varied for different loan amounts (Less intrest charged for high loan amounts)"
   ]
  },
  {
   "cell_type": "code",
   "execution_count": 20,
   "id": "ed230d87",
   "metadata": {},
   "outputs": [],
   "source": [
    "#State the Null hypothesis(Ho) and Alternate hypothesis(Ha)\n",
    "#Ho=Intrest rate is not varying for different loan amounts\n",
    "#Ha=Intrest rate is varying for different loan amounts\n",
    "\n",
    "#CI=95%\n",
    "#the level of siginificance(p-Value=0.05)\n",
    "\n",
    "#both the variables are continuous in nature so using Pearson's test(Relationship of two continuous variables)"
   ]
  },
  {
   "cell_type": "code",
   "execution_count": 21,
   "id": "281976cc",
   "metadata": {},
   "outputs": [
    {
     "data": {
      "text/plain": [
       "PearsonRResult(statistic=0.337436070969501, pvalue=1.2650048759645328e-67)"
      ]
     },
     "execution_count": 21,
     "metadata": {},
     "output_type": "execute_result"
    }
   ],
   "source": [
    "stats.pearsonr(loan_data.Interest_Rate, loan_data.Amount_Funded_By_Investors)"
   ]
  },
  {
   "cell_type": "code",
   "execution_count": 22,
   "id": "39f43f19",
   "metadata": {},
   "outputs": [],
   "source": [
    "#Business conclusion\n",
    "#since p value is less than 0.05 we can reject null hypothesis with 95% Confidence Level\n",
    "#There is significant relation between loan amounts and interest rate"
   ]
  },
  {
   "cell_type": "markdown",
   "id": "bfe2017b",
   "metadata": {},
   "source": [
    "### b. Loan length is directly effecting intrest rate."
   ]
  },
  {
   "cell_type": "code",
   "execution_count": 23,
   "id": "f8a591c9",
   "metadata": {},
   "outputs": [],
   "source": [
    "#State the Null hypothesis(Ho) and Alternate hypothesis(Ha)\n",
    "#Ho=Loan length is not directly effecting intrest rate\n",
    "#Ha=Loan length is directly effecting intrest rate\n",
    "\n",
    "#CI=95%\n",
    "#the level of siginificance(p-Value=0.05)\n",
    "\n",
    "#We have two loan lengths--36 and 60\n",
    "#so comparing the mean of two samples using T-test"
   ]
  },
  {
   "cell_type": "code",
   "execution_count": 24,
   "id": "035b7271",
   "metadata": {},
   "outputs": [],
   "source": [
    "int_36=loan_data[loan_data.Loan_Length==36].loc[:,'Interest_Rate']\n",
    "int_60=loan_data[loan_data.Loan_Length==60].loc[:,'Interest_Rate']"
   ]
  },
  {
   "cell_type": "code",
   "execution_count": 25,
   "id": "3d5c7be0",
   "metadata": {},
   "outputs": [
    {
     "data": {
      "text/plain": [
       "TtestResult(statistic=-23.412204361488634, pvalue=9.239888210616625e-110, df=2498.0)"
      ]
     },
     "execution_count": 25,
     "metadata": {},
     "output_type": "execute_result"
    }
   ],
   "source": [
    "stats.ttest_ind( int_36, int_60 )"
   ]
  },
  {
   "cell_type": "code",
   "execution_count": 26,
   "id": "4b75bb61",
   "metadata": {},
   "outputs": [],
   "source": [
    "#Business conclusion\n",
    "#since p value is less than 0.05 we can reject null hypothesis with 95% Confidence Level\n",
    "#There is significant relation between loan length and interest rate"
   ]
  },
  {
   "cell_type": "markdown",
   "id": "9cf6eee0",
   "metadata": {},
   "source": [
    "### c. Interest rate varies for different purpose of loans"
   ]
  },
  {
   "cell_type": "code",
   "execution_count": 27,
   "id": "d2ba7251",
   "metadata": {},
   "outputs": [
    {
     "data": {
      "text/plain": [
       "Loan_Purpose\n",
       "debt_consolidation    1307\n",
       "credit_card            444\n",
       "other                  201\n",
       "home_improvement       152\n",
       "major_purchase         101\n",
       "small_business          87\n",
       "car                     50\n",
       "wedding                 39\n",
       "medical                 30\n",
       "moving                  29\n",
       "vacation                21\n",
       "house                   20\n",
       "educational             15\n",
       "renewable_energy         4\n",
       "Name: count, dtype: int64"
      ]
     },
     "execution_count": 27,
     "metadata": {},
     "output_type": "execute_result"
    }
   ],
   "source": [
    "loan_data.Loan_Purpose.value_counts()"
   ]
  },
  {
   "cell_type": "code",
   "execution_count": 28,
   "id": "29bf1468",
   "metadata": {},
   "outputs": [],
   "source": [
    "int_debt_consolidation=loan_data[loan_data.Loan_Purpose=='debt_consolidation'].loc[:,'Interest_Rate']\n",
    "int_credit_card=loan_data[loan_data.Loan_Purpose=='credit_card'].loc[:,'Interest_Rate']\n",
    "int_other=loan_data[loan_data.Loan_Purpose=='other'].loc[:,'Interest_Rate']\n",
    "int_home_improvement=loan_data[loan_data.Loan_Purpose=='home_improvement'].loc[:,'Interest_Rate']\n",
    "int_major_purchase=loan_data[loan_data.Loan_Purpose=='major_purchase'].loc[:,'Interest_Rate']\n",
    "int_small_business=loan_data[loan_data.Loan_Purpose=='small_business'].loc[:,'Interest_Rate']\n",
    "int_car=loan_data[loan_data.Loan_Purpose=='car'].loc[:,'Interest_Rate']\n",
    "int_wedding=loan_data[loan_data.Loan_Purpose=='wedding'].loc[:,'Interest_Rate']\n",
    "int_medical=loan_data[loan_data.Loan_Purpose=='medical'].loc[:,'Interest_Rate']\n",
    "int_moving=loan_data[loan_data.Loan_Purpose=='moving'].loc[:,'Interest_Rate']\n",
    "int_vacation=loan_data[loan_data.Loan_Purpose=='vacation'].loc[:,'Interest_Rate']\n",
    "int_house=loan_data[loan_data.Loan_Purpose=='house'].loc[:,'Interest_Rate']\n",
    "int_educational=loan_data[loan_data.Loan_Purpose=='educational'].loc[:,'Interest_Rate']\n",
    "int_renewable_energy=loan_data[loan_data.Loan_Purpose=='renewable_energy'].loc[:,'Interest_Rate']"
   ]
  },
  {
   "cell_type": "code",
   "execution_count": 29,
   "id": "4cf16655",
   "metadata": {},
   "outputs": [],
   "source": [
    "#State the Null hypothesis(Ho) and Alternate hypothesis(Ha)\n",
    "#Ho=Interest rates do not vary for different purpose of loans\n",
    "#Ha=Interest rate varies for different purpose of loans\n",
    "\n",
    "#CI=95%\n",
    "#the level of siginificance(p-Value=0.05)\n",
    "\n",
    "#We have many categories\n",
    "#so comparing the mean of the samples using Anova/F-test"
   ]
  },
  {
   "cell_type": "code",
   "execution_count": 30,
   "id": "57c2dc7e",
   "metadata": {},
   "outputs": [
    {
     "data": {
      "text/plain": [
       "F_onewayResult(statistic=7.485078523876354, pvalue=1.1443262925297694e-14)"
      ]
     },
     "execution_count": 30,
     "metadata": {},
     "output_type": "execute_result"
    }
   ],
   "source": [
    "stats.f_oneway( int_debt_consolidation,int_credit_card,int_other,int_home_improvement,int_major_purchase,int_small_business,\n",
    "               int_car,int_wedding,int_medical,int_moving,int_vacation,int_house,int_educational,int_renewable_energy)"
   ]
  },
  {
   "cell_type": "code",
   "execution_count": 31,
   "id": "8ea4242d",
   "metadata": {},
   "outputs": [],
   "source": [
    "#Business conclusion\n",
    "#since p value is less than 0.05 we can reject null hypothesis with 95% Confidence Level\n",
    "#There is significant variation in interest rates based on loan purposes."
   ]
  },
  {
   "cell_type": "markdown",
   "id": "2e159731",
   "metadata": {},
   "source": [
    "### d. There is relationship between FICO scores and Home Ownership. It means that, People with owning home will have high FICO scores"
   ]
  },
  {
   "cell_type": "code",
   "execution_count": 32,
   "id": "11b41b1d",
   "metadata": {},
   "outputs": [],
   "source": [
    "#State the Null hypothesis(Ho) and Alternate hypothesis(Ha)\n",
    "#Ho=There is no relationship between FICO scores and Home Ownership\n",
    "#Ha=There is relationship between FICO scores and Home Ownership\n",
    "\n",
    "#CI=95%\n",
    "#the level of siginificance(p-Value=0.05)\n",
    "\n",
    "#We have two categorical datas\n",
    "#So doing chi square test"
   ]
  },
  {
   "cell_type": "code",
   "execution_count": 33,
   "id": "6ed42c90",
   "metadata": {},
   "outputs": [
    {
     "data": {
      "text/html": [
       "<div>\n",
       "<style scoped>\n",
       "    .dataframe tbody tr th:only-of-type {\n",
       "        vertical-align: middle;\n",
       "    }\n",
       "\n",
       "    .dataframe tbody tr th {\n",
       "        vertical-align: top;\n",
       "    }\n",
       "\n",
       "    .dataframe thead th {\n",
       "        text-align: right;\n",
       "    }\n",
       "</style>\n",
       "<table border=\"1\" class=\"dataframe\">\n",
       "  <thead>\n",
       "    <tr style=\"text-align: right;\">\n",
       "      <th>Home_Ownership</th>\n",
       "      <th>MORTGAGE</th>\n",
       "      <th>NONE</th>\n",
       "      <th>OTHER</th>\n",
       "      <th>OWN</th>\n",
       "      <th>RENT</th>\n",
       "    </tr>\n",
       "    <tr>\n",
       "      <th>FICO_Range</th>\n",
       "      <th></th>\n",
       "      <th></th>\n",
       "      <th></th>\n",
       "      <th></th>\n",
       "      <th></th>\n",
       "    </tr>\n",
       "  </thead>\n",
       "  <tbody>\n",
       "    <tr>\n",
       "      <th>640-644</th>\n",
       "      <td>0</td>\n",
       "      <td>0</td>\n",
       "      <td>0</td>\n",
       "      <td>1</td>\n",
       "      <td>4</td>\n",
       "    </tr>\n",
       "    <tr>\n",
       "      <th>645-649</th>\n",
       "      <td>1</td>\n",
       "      <td>0</td>\n",
       "      <td>0</td>\n",
       "      <td>0</td>\n",
       "      <td>2</td>\n",
       "    </tr>\n",
       "    <tr>\n",
       "      <th>650-654</th>\n",
       "      <td>1</td>\n",
       "      <td>0</td>\n",
       "      <td>0</td>\n",
       "      <td>0</td>\n",
       "      <td>0</td>\n",
       "    </tr>\n",
       "    <tr>\n",
       "      <th>655-659</th>\n",
       "      <td>0</td>\n",
       "      <td>0</td>\n",
       "      <td>1</td>\n",
       "      <td>0</td>\n",
       "      <td>3</td>\n",
       "    </tr>\n",
       "    <tr>\n",
       "      <th>660-664</th>\n",
       "      <td>41</td>\n",
       "      <td>0</td>\n",
       "      <td>0</td>\n",
       "      <td>17</td>\n",
       "      <td>67</td>\n",
       "    </tr>\n",
       "    <tr>\n",
       "      <th>665-669</th>\n",
       "      <td>52</td>\n",
       "      <td>0</td>\n",
       "      <td>0</td>\n",
       "      <td>18</td>\n",
       "      <td>75</td>\n",
       "    </tr>\n",
       "    <tr>\n",
       "      <th>670-674</th>\n",
       "      <td>67</td>\n",
       "      <td>0</td>\n",
       "      <td>1</td>\n",
       "      <td>13</td>\n",
       "      <td>90</td>\n",
       "    </tr>\n",
       "    <tr>\n",
       "      <th>675-679</th>\n",
       "      <td>79</td>\n",
       "      <td>0</td>\n",
       "      <td>1</td>\n",
       "      <td>11</td>\n",
       "      <td>75</td>\n",
       "    </tr>\n",
       "    <tr>\n",
       "      <th>680-684</th>\n",
       "      <td>55</td>\n",
       "      <td>0</td>\n",
       "      <td>2</td>\n",
       "      <td>9</td>\n",
       "      <td>91</td>\n",
       "    </tr>\n",
       "    <tr>\n",
       "      <th>685-689</th>\n",
       "      <td>61</td>\n",
       "      <td>0</td>\n",
       "      <td>0</td>\n",
       "      <td>10</td>\n",
       "      <td>65</td>\n",
       "    </tr>\n",
       "    <tr>\n",
       "      <th>690-694</th>\n",
       "      <td>55</td>\n",
       "      <td>0</td>\n",
       "      <td>0</td>\n",
       "      <td>10</td>\n",
       "      <td>75</td>\n",
       "    </tr>\n",
       "    <tr>\n",
       "      <th>695-699</th>\n",
       "      <td>68</td>\n",
       "      <td>0</td>\n",
       "      <td>0</td>\n",
       "      <td>10</td>\n",
       "      <td>75</td>\n",
       "    </tr>\n",
       "    <tr>\n",
       "      <th>700-704</th>\n",
       "      <td>60</td>\n",
       "      <td>0</td>\n",
       "      <td>0</td>\n",
       "      <td>12</td>\n",
       "      <td>59</td>\n",
       "    </tr>\n",
       "    <tr>\n",
       "      <th>705-709</th>\n",
       "      <td>66</td>\n",
       "      <td>0</td>\n",
       "      <td>0</td>\n",
       "      <td>12</td>\n",
       "      <td>56</td>\n",
       "    </tr>\n",
       "    <tr>\n",
       "      <th>710-714</th>\n",
       "      <td>54</td>\n",
       "      <td>0</td>\n",
       "      <td>0</td>\n",
       "      <td>10</td>\n",
       "      <td>47</td>\n",
       "    </tr>\n",
       "    <tr>\n",
       "      <th>715-719</th>\n",
       "      <td>46</td>\n",
       "      <td>0</td>\n",
       "      <td>0</td>\n",
       "      <td>2</td>\n",
       "      <td>45</td>\n",
       "    </tr>\n",
       "    <tr>\n",
       "      <th>720-724</th>\n",
       "      <td>49</td>\n",
       "      <td>0</td>\n",
       "      <td>0</td>\n",
       "      <td>1</td>\n",
       "      <td>64</td>\n",
       "    </tr>\n",
       "    <tr>\n",
       "      <th>725-729</th>\n",
       "      <td>48</td>\n",
       "      <td>0</td>\n",
       "      <td>0</td>\n",
       "      <td>5</td>\n",
       "      <td>41</td>\n",
       "    </tr>\n",
       "    <tr>\n",
       "      <th>730-734</th>\n",
       "      <td>46</td>\n",
       "      <td>0</td>\n",
       "      <td>0</td>\n",
       "      <td>7</td>\n",
       "      <td>41</td>\n",
       "    </tr>\n",
       "    <tr>\n",
       "      <th>735-739</th>\n",
       "      <td>30</td>\n",
       "      <td>0</td>\n",
       "      <td>0</td>\n",
       "      <td>6</td>\n",
       "      <td>29</td>\n",
       "    </tr>\n",
       "    <tr>\n",
       "      <th>740-744</th>\n",
       "      <td>26</td>\n",
       "      <td>0</td>\n",
       "      <td>0</td>\n",
       "      <td>4</td>\n",
       "      <td>23</td>\n",
       "    </tr>\n",
       "    <tr>\n",
       "      <th>745-749</th>\n",
       "      <td>26</td>\n",
       "      <td>0</td>\n",
       "      <td>0</td>\n",
       "      <td>7</td>\n",
       "      <td>21</td>\n",
       "    </tr>\n",
       "    <tr>\n",
       "      <th>750-754</th>\n",
       "      <td>32</td>\n",
       "      <td>0</td>\n",
       "      <td>0</td>\n",
       "      <td>4</td>\n",
       "      <td>25</td>\n",
       "    </tr>\n",
       "    <tr>\n",
       "      <th>755-759</th>\n",
       "      <td>28</td>\n",
       "      <td>0</td>\n",
       "      <td>0</td>\n",
       "      <td>6</td>\n",
       "      <td>12</td>\n",
       "    </tr>\n",
       "    <tr>\n",
       "      <th>760-764</th>\n",
       "      <td>28</td>\n",
       "      <td>0</td>\n",
       "      <td>0</td>\n",
       "      <td>4</td>\n",
       "      <td>14</td>\n",
       "    </tr>\n",
       "    <tr>\n",
       "      <th>765-769</th>\n",
       "      <td>22</td>\n",
       "      <td>0</td>\n",
       "      <td>0</td>\n",
       "      <td>3</td>\n",
       "      <td>11</td>\n",
       "    </tr>\n",
       "    <tr>\n",
       "      <th>770-774</th>\n",
       "      <td>12</td>\n",
       "      <td>0</td>\n",
       "      <td>0</td>\n",
       "      <td>1</td>\n",
       "      <td>4</td>\n",
       "    </tr>\n",
       "    <tr>\n",
       "      <th>775-779</th>\n",
       "      <td>13</td>\n",
       "      <td>0</td>\n",
       "      <td>0</td>\n",
       "      <td>3</td>\n",
       "      <td>6</td>\n",
       "    </tr>\n",
       "    <tr>\n",
       "      <th>780-784</th>\n",
       "      <td>21</td>\n",
       "      <td>0</td>\n",
       "      <td>0</td>\n",
       "      <td>3</td>\n",
       "      <td>4</td>\n",
       "    </tr>\n",
       "    <tr>\n",
       "      <th>785-789</th>\n",
       "      <td>12</td>\n",
       "      <td>0</td>\n",
       "      <td>0</td>\n",
       "      <td>2</td>\n",
       "      <td>5</td>\n",
       "    </tr>\n",
       "    <tr>\n",
       "      <th>790-794</th>\n",
       "      <td>15</td>\n",
       "      <td>0</td>\n",
       "      <td>0</td>\n",
       "      <td>1</td>\n",
       "      <td>4</td>\n",
       "    </tr>\n",
       "    <tr>\n",
       "      <th>795-799</th>\n",
       "      <td>7</td>\n",
       "      <td>0</td>\n",
       "      <td>0</td>\n",
       "      <td>1</td>\n",
       "      <td>5</td>\n",
       "    </tr>\n",
       "    <tr>\n",
       "      <th>800-804</th>\n",
       "      <td>7</td>\n",
       "      <td>1</td>\n",
       "      <td>0</td>\n",
       "      <td>3</td>\n",
       "      <td>2</td>\n",
       "    </tr>\n",
       "    <tr>\n",
       "      <th>805-809</th>\n",
       "      <td>6</td>\n",
       "      <td>0</td>\n",
       "      <td>0</td>\n",
       "      <td>2</td>\n",
       "      <td>3</td>\n",
       "    </tr>\n",
       "    <tr>\n",
       "      <th>810-814</th>\n",
       "      <td>5</td>\n",
       "      <td>0</td>\n",
       "      <td>0</td>\n",
       "      <td>1</td>\n",
       "      <td>2</td>\n",
       "    </tr>\n",
       "    <tr>\n",
       "      <th>815-819</th>\n",
       "      <td>6</td>\n",
       "      <td>0</td>\n",
       "      <td>0</td>\n",
       "      <td>0</td>\n",
       "      <td>0</td>\n",
       "    </tr>\n",
       "    <tr>\n",
       "      <th>820-824</th>\n",
       "      <td>0</td>\n",
       "      <td>0</td>\n",
       "      <td>0</td>\n",
       "      <td>1</td>\n",
       "      <td>0</td>\n",
       "    </tr>\n",
       "    <tr>\n",
       "      <th>830-834</th>\n",
       "      <td>1</td>\n",
       "      <td>0</td>\n",
       "      <td>0</td>\n",
       "      <td>0</td>\n",
       "      <td>0</td>\n",
       "    </tr>\n",
       "  </tbody>\n",
       "</table>\n",
       "</div>"
      ],
      "text/plain": [
       "Home_Ownership  MORTGAGE  NONE  OTHER  OWN  RENT\n",
       "FICO_Range                                      \n",
       "640-644                0     0      0    1     4\n",
       "645-649                1     0      0    0     2\n",
       "650-654                1     0      0    0     0\n",
       "655-659                0     0      1    0     3\n",
       "660-664               41     0      0   17    67\n",
       "665-669               52     0      0   18    75\n",
       "670-674               67     0      1   13    90\n",
       "675-679               79     0      1   11    75\n",
       "680-684               55     0      2    9    91\n",
       "685-689               61     0      0   10    65\n",
       "690-694               55     0      0   10    75\n",
       "695-699               68     0      0   10    75\n",
       "700-704               60     0      0   12    59\n",
       "705-709               66     0      0   12    56\n",
       "710-714               54     0      0   10    47\n",
       "715-719               46     0      0    2    45\n",
       "720-724               49     0      0    1    64\n",
       "725-729               48     0      0    5    41\n",
       "730-734               46     0      0    7    41\n",
       "735-739               30     0      0    6    29\n",
       "740-744               26     0      0    4    23\n",
       "745-749               26     0      0    7    21\n",
       "750-754               32     0      0    4    25\n",
       "755-759               28     0      0    6    12\n",
       "760-764               28     0      0    4    14\n",
       "765-769               22     0      0    3    11\n",
       "770-774               12     0      0    1     4\n",
       "775-779               13     0      0    3     6\n",
       "780-784               21     0      0    3     4\n",
       "785-789               12     0      0    2     5\n",
       "790-794               15     0      0    1     4\n",
       "795-799                7     0      0    1     5\n",
       "800-804                7     1      0    3     2\n",
       "805-809                6     0      0    2     3\n",
       "810-814                5     0      0    1     2\n",
       "815-819                6     0      0    0     0\n",
       "820-824                0     0      0    1     0\n",
       "830-834                1     0      0    0     0"
      ]
     },
     "execution_count": 33,
     "metadata": {},
     "output_type": "execute_result"
    }
   ],
   "source": [
    "table=pd.crosstab(loan_data.FICO_Range,loan_data.Home_Ownership)\n",
    "table"
   ]
  },
  {
   "cell_type": "code",
   "execution_count": 34,
   "id": "303e8d69",
   "metadata": {},
   "outputs": [
    {
     "data": {
      "text/plain": [
       "1.2021592010244615e-35"
      ]
     },
     "execution_count": 34,
     "metadata": {},
     "output_type": "execute_result"
    }
   ],
   "source": [
    "stats.chi2_contingency( table )[1]"
   ]
  },
  {
   "cell_type": "code",
   "execution_count": 35,
   "id": "dae9bd3a",
   "metadata": {},
   "outputs": [],
   "source": [
    "#Business conclusion\n",
    "#since p value is less than 0.05 we can reject null hypothesis with 95% Confidence Level\n",
    "#There is significant relationship between FICO scores and Home Ownership"
   ]
  },
  {
   "cell_type": "code",
   "execution_count": null,
   "id": "744a341f",
   "metadata": {},
   "outputs": [],
   "source": []
  },
  {
   "cell_type": "markdown",
   "id": "246f3b6e",
   "metadata": {},
   "source": [
    "## BUSINESS PROBLEM - 2"
   ]
  },
  {
   "cell_type": "markdown",
   "id": "38b582cb",
   "metadata": {},
   "source": [
    "#### BUSINESS PROBLEM: We would like to assess if there is any difference in the average price quotes provided by Mary and Barry.\n"
   ]
  },
  {
   "cell_type": "code",
   "execution_count": 36,
   "id": "f5c53978",
   "metadata": {},
   "outputs": [
    {
     "data": {
      "text/html": [
       "<div>\n",
       "<style scoped>\n",
       "    .dataframe tbody tr th:only-of-type {\n",
       "        vertical-align: middle;\n",
       "    }\n",
       "\n",
       "    .dataframe tbody tr th {\n",
       "        vertical-align: top;\n",
       "    }\n",
       "\n",
       "    .dataframe thead th {\n",
       "        text-align: right;\n",
       "    }\n",
       "</style>\n",
       "<table border=\"1\" class=\"dataframe\">\n",
       "  <thead>\n",
       "    <tr style=\"text-align: right;\">\n",
       "      <th></th>\n",
       "      <th>Order_Number</th>\n",
       "      <th>Barry_Price</th>\n",
       "      <th>Mary_Price</th>\n",
       "    </tr>\n",
       "  </thead>\n",
       "  <tbody>\n",
       "    <tr>\n",
       "      <th>0</th>\n",
       "      <td>1</td>\n",
       "      <td>126</td>\n",
       "      <td>114</td>\n",
       "    </tr>\n",
       "    <tr>\n",
       "      <th>1</th>\n",
       "      <td>2</td>\n",
       "      <td>110</td>\n",
       "      <td>118</td>\n",
       "    </tr>\n",
       "    <tr>\n",
       "      <th>2</th>\n",
       "      <td>3</td>\n",
       "      <td>138</td>\n",
       "      <td>114</td>\n",
       "    </tr>\n",
       "    <tr>\n",
       "      <th>3</th>\n",
       "      <td>4</td>\n",
       "      <td>142</td>\n",
       "      <td>111</td>\n",
       "    </tr>\n",
       "    <tr>\n",
       "      <th>4</th>\n",
       "      <td>5</td>\n",
       "      <td>146</td>\n",
       "      <td>129</td>\n",
       "    </tr>\n",
       "    <tr>\n",
       "      <th>5</th>\n",
       "      <td>6</td>\n",
       "      <td>136</td>\n",
       "      <td>119</td>\n",
       "    </tr>\n",
       "    <tr>\n",
       "      <th>6</th>\n",
       "      <td>7</td>\n",
       "      <td>94</td>\n",
       "      <td>97</td>\n",
       "    </tr>\n",
       "    <tr>\n",
       "      <th>7</th>\n",
       "      <td>8</td>\n",
       "      <td>103</td>\n",
       "      <td>104</td>\n",
       "    </tr>\n",
       "    <tr>\n",
       "      <th>8</th>\n",
       "      <td>9</td>\n",
       "      <td>140</td>\n",
       "      <td>127</td>\n",
       "    </tr>\n",
       "    <tr>\n",
       "      <th>9</th>\n",
       "      <td>10</td>\n",
       "      <td>152</td>\n",
       "      <td>133</td>\n",
       "    </tr>\n",
       "    <tr>\n",
       "      <th>10</th>\n",
       "      <td>11</td>\n",
       "      <td>108</td>\n",
       "      <td>103</td>\n",
       "    </tr>\n",
       "    <tr>\n",
       "      <th>11</th>\n",
       "      <td>12</td>\n",
       "      <td>97</td>\n",
       "      <td>108</td>\n",
       "    </tr>\n",
       "  </tbody>\n",
       "</table>\n",
       "</div>"
      ],
      "text/plain": [
       "    Order_Number  Barry_Price  Mary_Price\n",
       "0              1          126         114\n",
       "1              2          110         118\n",
       "2              3          138         114\n",
       "3              4          142         111\n",
       "4              5          146         129\n",
       "5              6          136         119\n",
       "6              7           94          97\n",
       "7              8          103         104\n",
       "8              9          140         127\n",
       "9             10          152         133\n",
       "10            11          108         103\n",
       "11            12           97         108"
      ]
     },
     "execution_count": 36,
     "metadata": {},
     "output_type": "execute_result"
    }
   ],
   "source": [
    "price_Quotes=pd.read_csv(r\"C:\\sayan\\data science interview\\course\\Python\\projects\\Python foundation\\Basic Statistics - Hypothesis Testing\\4. Basic Statistics - Hypothesis Testing\\Price_Quotes.csv\")\n",
    "price_Quotes"
   ]
  },
  {
   "cell_type": "code",
   "execution_count": 37,
   "id": "4858bae6",
   "metadata": {},
   "outputs": [],
   "source": [
    "#State the Null hypothesis(Ho) and Alternate hypothesis(Ha)\n",
    "#Ho=There is no difference in the average price quotes provided by Mary and Barry\n",
    "#Ha=There is difference in the average price quotes provided by Mary and Barry\n",
    "\n",
    "#CI=95%\n",
    "#the level of siginificance(p-Value=0.05)\n",
    "\n",
    "#We have two samples\n",
    "#so comparing the mean of two samples using T-test"
   ]
  },
  {
   "cell_type": "code",
   "execution_count": 38,
   "id": "5484c65c",
   "metadata": {},
   "outputs": [
    {
     "data": {
      "text/plain": [
       "TtestResult(statistic=1.4147436739281787, pvalue=0.17114226132118285, df=22.0)"
      ]
     },
     "execution_count": 38,
     "metadata": {},
     "output_type": "execute_result"
    }
   ],
   "source": [
    "stats.ttest_ind(price_Quotes['Barry_Price'], price_Quotes['Mary_Price'])"
   ]
  },
  {
   "cell_type": "code",
   "execution_count": 39,
   "id": "fcfce52d",
   "metadata": {},
   "outputs": [],
   "source": [
    "#Business conclusion\n",
    "#since p value is greater than 0.05 we cannot reject null hypothesis with 95% Confidence Level\n",
    "#There is no difference in the average price quotes provided by Mary and Barry"
   ]
  },
  {
   "cell_type": "code",
   "execution_count": null,
   "id": "1a291743",
   "metadata": {},
   "outputs": [],
   "source": []
  },
  {
   "cell_type": "markdown",
   "id": "e6922fa8",
   "metadata": {},
   "source": [
    "## BUSINESS PROBLEM-3"
   ]
  },
  {
   "cell_type": "markdown",
   "id": "ef090ba1",
   "metadata": {},
   "source": [
    "#### BUSINESS PROBLEM: Determine what effect, if any, the reengineering effort had on the incidence behavioral problems and staff turnover. i.e To determine if the reengineering effort changed the critical incidence rate. Is there evidence that the critical incidence rate improved?"
   ]
  },
  {
   "cell_type": "code",
   "execution_count": 40,
   "id": "bbf62400",
   "metadata": {},
   "outputs": [
    {
     "data": {
      "text/html": [
       "<div>\n",
       "<style scoped>\n",
       "    .dataframe tbody tr th:only-of-type {\n",
       "        vertical-align: middle;\n",
       "    }\n",
       "\n",
       "    .dataframe tbody tr th {\n",
       "        vertical-align: top;\n",
       "    }\n",
       "\n",
       "    .dataframe thead th {\n",
       "        text-align: right;\n",
       "    }\n",
       "</style>\n",
       "<table border=\"1\" class=\"dataframe\">\n",
       "  <thead>\n",
       "    <tr style=\"text-align: right;\">\n",
       "      <th></th>\n",
       "      <th>Month</th>\n",
       "      <th>Reengineer</th>\n",
       "      <th>Employee_Turnover</th>\n",
       "      <th>VAR4</th>\n",
       "      <th>VAR5</th>\n",
       "    </tr>\n",
       "  </thead>\n",
       "  <tbody>\n",
       "    <tr>\n",
       "      <th>0</th>\n",
       "      <td>1</td>\n",
       "      <td>Prior</td>\n",
       "      <td>0.0000</td>\n",
       "      <td>24.390244</td>\n",
       "      <td>42.682927</td>\n",
       "    </tr>\n",
       "    <tr>\n",
       "      <th>1</th>\n",
       "      <td>2</td>\n",
       "      <td>Prior</td>\n",
       "      <td>6.0606</td>\n",
       "      <td>19.354839</td>\n",
       "      <td>25.806452</td>\n",
       "    </tr>\n",
       "    <tr>\n",
       "      <th>2</th>\n",
       "      <td>3</td>\n",
       "      <td>Prior</td>\n",
       "      <td>12.1212</td>\n",
       "      <td>35.087719</td>\n",
       "      <td>146.198830</td>\n",
       "    </tr>\n",
       "    <tr>\n",
       "      <th>3</th>\n",
       "      <td>4</td>\n",
       "      <td>Prior</td>\n",
       "      <td>3.3333</td>\n",
       "      <td>18.404908</td>\n",
       "      <td>110.429448</td>\n",
       "    </tr>\n",
       "    <tr>\n",
       "      <th>4</th>\n",
       "      <td>5</td>\n",
       "      <td>Prior</td>\n",
       "      <td>12.9032</td>\n",
       "      <td>17.964072</td>\n",
       "      <td>23.952096</td>\n",
       "    </tr>\n",
       "    <tr>\n",
       "      <th>5</th>\n",
       "      <td>6</td>\n",
       "      <td>Prior</td>\n",
       "      <td>9.6774</td>\n",
       "      <td>41.176471</td>\n",
       "      <td>47.058824</td>\n",
       "    </tr>\n",
       "    <tr>\n",
       "      <th>6</th>\n",
       "      <td>7</td>\n",
       "      <td>Prior</td>\n",
       "      <td>11.7647</td>\n",
       "      <td>13.422819</td>\n",
       "      <td>0.000000</td>\n",
       "    </tr>\n",
       "    <tr>\n",
       "      <th>7</th>\n",
       "      <td>8</td>\n",
       "      <td>Prior</td>\n",
       "      <td>11.4286</td>\n",
       "      <td>31.250000</td>\n",
       "      <td>25.000000</td>\n",
       "    </tr>\n",
       "    <tr>\n",
       "      <th>8</th>\n",
       "      <td>9</td>\n",
       "      <td>Prior</td>\n",
       "      <td>23.0769</td>\n",
       "      <td>17.241379</td>\n",
       "      <td>132.183908</td>\n",
       "    </tr>\n",
       "    <tr>\n",
       "      <th>9</th>\n",
       "      <td>10</td>\n",
       "      <td>Prior</td>\n",
       "      <td>15.0000</td>\n",
       "      <td>16.574586</td>\n",
       "      <td>16.574586</td>\n",
       "    </tr>\n",
       "    <tr>\n",
       "      <th>10</th>\n",
       "      <td>11</td>\n",
       "      <td>Prior</td>\n",
       "      <td>10.0000</td>\n",
       "      <td>5.917160</td>\n",
       "      <td>88.757396</td>\n",
       "    </tr>\n",
       "    <tr>\n",
       "      <th>11</th>\n",
       "      <td>12</td>\n",
       "      <td>Prior</td>\n",
       "      <td>26.0870</td>\n",
       "      <td>21.164021</td>\n",
       "      <td>31.746032</td>\n",
       "    </tr>\n",
       "    <tr>\n",
       "      <th>12</th>\n",
       "      <td>13</td>\n",
       "      <td>Prior</td>\n",
       "      <td>11.1111</td>\n",
       "      <td>5.076142</td>\n",
       "      <td>10.152284</td>\n",
       "    </tr>\n",
       "    <tr>\n",
       "      <th>13</th>\n",
       "      <td>14</td>\n",
       "      <td>Post</td>\n",
       "      <td>26.6667</td>\n",
       "      <td>9.708738</td>\n",
       "      <td>29.126214</td>\n",
       "    </tr>\n",
       "    <tr>\n",
       "      <th>14</th>\n",
       "      <td>15</td>\n",
       "      <td>Post</td>\n",
       "      <td>17.9487</td>\n",
       "      <td>4.201681</td>\n",
       "      <td>21.008403</td>\n",
       "    </tr>\n",
       "    <tr>\n",
       "      <th>15</th>\n",
       "      <td>16</td>\n",
       "      <td>Post</td>\n",
       "      <td>12.8205</td>\n",
       "      <td>13.043478</td>\n",
       "      <td>34.782609</td>\n",
       "    </tr>\n",
       "    <tr>\n",
       "      <th>16</th>\n",
       "      <td>17</td>\n",
       "      <td>Post</td>\n",
       "      <td>15.7895</td>\n",
       "      <td>9.950249</td>\n",
       "      <td>19.900498</td>\n",
       "    </tr>\n",
       "    <tr>\n",
       "      <th>17</th>\n",
       "      <td>18</td>\n",
       "      <td>Post</td>\n",
       "      <td>0.0000</td>\n",
       "      <td>9.950249</td>\n",
       "      <td>9.950249</td>\n",
       "    </tr>\n",
       "    <tr>\n",
       "      <th>18</th>\n",
       "      <td>19</td>\n",
       "      <td>Post</td>\n",
       "      <td>30.7692</td>\n",
       "      <td>8.510638</td>\n",
       "      <td>25.531915</td>\n",
       "    </tr>\n",
       "    <tr>\n",
       "      <th>19</th>\n",
       "      <td>20</td>\n",
       "      <td>Post</td>\n",
       "      <td>26.8293</td>\n",
       "      <td>9.259259</td>\n",
       "      <td>23.148148</td>\n",
       "    </tr>\n",
       "  </tbody>\n",
       "</table>\n",
       "</div>"
      ],
      "text/plain": [
       "    Month Reengineer  Employee_Turnover       VAR4        VAR5\n",
       "0       1      Prior             0.0000  24.390244   42.682927\n",
       "1       2      Prior             6.0606  19.354839   25.806452\n",
       "2       3      Prior            12.1212  35.087719  146.198830\n",
       "3       4      Prior             3.3333  18.404908  110.429448\n",
       "4       5      Prior            12.9032  17.964072   23.952096\n",
       "5       6      Prior             9.6774  41.176471   47.058824\n",
       "6       7      Prior            11.7647  13.422819    0.000000\n",
       "7       8      Prior            11.4286  31.250000   25.000000\n",
       "8       9      Prior            23.0769  17.241379  132.183908\n",
       "9      10      Prior            15.0000  16.574586   16.574586\n",
       "10     11      Prior            10.0000   5.917160   88.757396\n",
       "11     12      Prior            26.0870  21.164021   31.746032\n",
       "12     13      Prior            11.1111   5.076142   10.152284\n",
       "13     14       Post            26.6667   9.708738   29.126214\n",
       "14     15       Post            17.9487   4.201681   21.008403\n",
       "15     16       Post            12.8205  13.043478   34.782609\n",
       "16     17       Post            15.7895   9.950249   19.900498\n",
       "17     18       Post             0.0000   9.950249    9.950249\n",
       "18     19       Post            30.7692   8.510638   25.531915\n",
       "19     20       Post            26.8293   9.259259   23.148148"
      ]
     },
     "execution_count": 40,
     "metadata": {},
     "output_type": "execute_result"
    }
   ],
   "source": [
    "treatment_facility=pd.read_csv(r\"C:\\sayan\\data science interview\\course\\Python\\projects\\Python foundation\\Basic Statistics - Hypothesis Testing\\4. Basic Statistics - Hypothesis Testing\\Treatment_Facility.csv\")\n",
    "treatment_facility"
   ]
  },
  {
   "cell_type": "code",
   "execution_count": 41,
   "id": "af39d2ba",
   "metadata": {},
   "outputs": [
    {
     "data": {
      "text/html": [
       "<div>\n",
       "<style scoped>\n",
       "    .dataframe tbody tr th:only-of-type {\n",
       "        vertical-align: middle;\n",
       "    }\n",
       "\n",
       "    .dataframe tbody tr th {\n",
       "        vertical-align: top;\n",
       "    }\n",
       "\n",
       "    .dataframe thead th {\n",
       "        text-align: right;\n",
       "    }\n",
       "</style>\n",
       "<table border=\"1\" class=\"dataframe\">\n",
       "  <thead>\n",
       "    <tr style=\"text-align: right;\">\n",
       "      <th></th>\n",
       "      <th>Month</th>\n",
       "      <th>Reengineer</th>\n",
       "      <th>Employee_Turnover</th>\n",
       "      <th>TRFF_percentage</th>\n",
       "      <th>CI_percentage</th>\n",
       "    </tr>\n",
       "  </thead>\n",
       "  <tbody>\n",
       "    <tr>\n",
       "      <th>0</th>\n",
       "      <td>1</td>\n",
       "      <td>Prior</td>\n",
       "      <td>0.0000</td>\n",
       "      <td>24.390244</td>\n",
       "      <td>42.682927</td>\n",
       "    </tr>\n",
       "    <tr>\n",
       "      <th>1</th>\n",
       "      <td>2</td>\n",
       "      <td>Prior</td>\n",
       "      <td>6.0606</td>\n",
       "      <td>19.354839</td>\n",
       "      <td>25.806452</td>\n",
       "    </tr>\n",
       "    <tr>\n",
       "      <th>2</th>\n",
       "      <td>3</td>\n",
       "      <td>Prior</td>\n",
       "      <td>12.1212</td>\n",
       "      <td>35.087719</td>\n",
       "      <td>146.198830</td>\n",
       "    </tr>\n",
       "    <tr>\n",
       "      <th>3</th>\n",
       "      <td>4</td>\n",
       "      <td>Prior</td>\n",
       "      <td>3.3333</td>\n",
       "      <td>18.404908</td>\n",
       "      <td>110.429448</td>\n",
       "    </tr>\n",
       "    <tr>\n",
       "      <th>4</th>\n",
       "      <td>5</td>\n",
       "      <td>Prior</td>\n",
       "      <td>12.9032</td>\n",
       "      <td>17.964072</td>\n",
       "      <td>23.952096</td>\n",
       "    </tr>\n",
       "    <tr>\n",
       "      <th>5</th>\n",
       "      <td>6</td>\n",
       "      <td>Prior</td>\n",
       "      <td>9.6774</td>\n",
       "      <td>41.176471</td>\n",
       "      <td>47.058824</td>\n",
       "    </tr>\n",
       "    <tr>\n",
       "      <th>6</th>\n",
       "      <td>7</td>\n",
       "      <td>Prior</td>\n",
       "      <td>11.7647</td>\n",
       "      <td>13.422819</td>\n",
       "      <td>0.000000</td>\n",
       "    </tr>\n",
       "    <tr>\n",
       "      <th>7</th>\n",
       "      <td>8</td>\n",
       "      <td>Prior</td>\n",
       "      <td>11.4286</td>\n",
       "      <td>31.250000</td>\n",
       "      <td>25.000000</td>\n",
       "    </tr>\n",
       "    <tr>\n",
       "      <th>8</th>\n",
       "      <td>9</td>\n",
       "      <td>Prior</td>\n",
       "      <td>23.0769</td>\n",
       "      <td>17.241379</td>\n",
       "      <td>132.183908</td>\n",
       "    </tr>\n",
       "    <tr>\n",
       "      <th>9</th>\n",
       "      <td>10</td>\n",
       "      <td>Prior</td>\n",
       "      <td>15.0000</td>\n",
       "      <td>16.574586</td>\n",
       "      <td>16.574586</td>\n",
       "    </tr>\n",
       "    <tr>\n",
       "      <th>10</th>\n",
       "      <td>11</td>\n",
       "      <td>Prior</td>\n",
       "      <td>10.0000</td>\n",
       "      <td>5.917160</td>\n",
       "      <td>88.757396</td>\n",
       "    </tr>\n",
       "    <tr>\n",
       "      <th>11</th>\n",
       "      <td>12</td>\n",
       "      <td>Prior</td>\n",
       "      <td>26.0870</td>\n",
       "      <td>21.164021</td>\n",
       "      <td>31.746032</td>\n",
       "    </tr>\n",
       "    <tr>\n",
       "      <th>12</th>\n",
       "      <td>13</td>\n",
       "      <td>Prior</td>\n",
       "      <td>11.1111</td>\n",
       "      <td>5.076142</td>\n",
       "      <td>10.152284</td>\n",
       "    </tr>\n",
       "    <tr>\n",
       "      <th>13</th>\n",
       "      <td>14</td>\n",
       "      <td>Post</td>\n",
       "      <td>26.6667</td>\n",
       "      <td>9.708738</td>\n",
       "      <td>29.126214</td>\n",
       "    </tr>\n",
       "    <tr>\n",
       "      <th>14</th>\n",
       "      <td>15</td>\n",
       "      <td>Post</td>\n",
       "      <td>17.9487</td>\n",
       "      <td>4.201681</td>\n",
       "      <td>21.008403</td>\n",
       "    </tr>\n",
       "    <tr>\n",
       "      <th>15</th>\n",
       "      <td>16</td>\n",
       "      <td>Post</td>\n",
       "      <td>12.8205</td>\n",
       "      <td>13.043478</td>\n",
       "      <td>34.782609</td>\n",
       "    </tr>\n",
       "    <tr>\n",
       "      <th>16</th>\n",
       "      <td>17</td>\n",
       "      <td>Post</td>\n",
       "      <td>15.7895</td>\n",
       "      <td>9.950249</td>\n",
       "      <td>19.900498</td>\n",
       "    </tr>\n",
       "    <tr>\n",
       "      <th>17</th>\n",
       "      <td>18</td>\n",
       "      <td>Post</td>\n",
       "      <td>0.0000</td>\n",
       "      <td>9.950249</td>\n",
       "      <td>9.950249</td>\n",
       "    </tr>\n",
       "    <tr>\n",
       "      <th>18</th>\n",
       "      <td>19</td>\n",
       "      <td>Post</td>\n",
       "      <td>30.7692</td>\n",
       "      <td>8.510638</td>\n",
       "      <td>25.531915</td>\n",
       "    </tr>\n",
       "    <tr>\n",
       "      <th>19</th>\n",
       "      <td>20</td>\n",
       "      <td>Post</td>\n",
       "      <td>26.8293</td>\n",
       "      <td>9.259259</td>\n",
       "      <td>23.148148</td>\n",
       "    </tr>\n",
       "  </tbody>\n",
       "</table>\n",
       "</div>"
      ],
      "text/plain": [
       "    Month Reengineer  Employee_Turnover  TRFF_percentage  CI_percentage\n",
       "0       1      Prior             0.0000        24.390244      42.682927\n",
       "1       2      Prior             6.0606        19.354839      25.806452\n",
       "2       3      Prior            12.1212        35.087719     146.198830\n",
       "3       4      Prior             3.3333        18.404908     110.429448\n",
       "4       5      Prior            12.9032        17.964072      23.952096\n",
       "5       6      Prior             9.6774        41.176471      47.058824\n",
       "6       7      Prior            11.7647        13.422819       0.000000\n",
       "7       8      Prior            11.4286        31.250000      25.000000\n",
       "8       9      Prior            23.0769        17.241379     132.183908\n",
       "9      10      Prior            15.0000        16.574586      16.574586\n",
       "10     11      Prior            10.0000         5.917160      88.757396\n",
       "11     12      Prior            26.0870        21.164021      31.746032\n",
       "12     13      Prior            11.1111         5.076142      10.152284\n",
       "13     14       Post            26.6667         9.708738      29.126214\n",
       "14     15       Post            17.9487         4.201681      21.008403\n",
       "15     16       Post            12.8205        13.043478      34.782609\n",
       "16     17       Post            15.7895         9.950249      19.900498\n",
       "17     18       Post             0.0000         9.950249       9.950249\n",
       "18     19       Post            30.7692         8.510638      25.531915\n",
       "19     20       Post            26.8293         9.259259      23.148148"
      ]
     },
     "execution_count": 41,
     "metadata": {},
     "output_type": "execute_result"
    }
   ],
   "source": [
    "treatment_facility.rename( columns={'VAR4':'TRFF_percentage','VAR5':'CI_percentage'}, inplace=True)\n",
    "treatment_facility"
   ]
  },
  {
   "cell_type": "code",
   "execution_count": 42,
   "id": "14443b74",
   "metadata": {},
   "outputs": [],
   "source": [
    "prior=treatment_facility[treatment_facility.Reengineer=='Prior'].loc[:,'CI_percentage']\n",
    "post=treatment_facility[treatment_facility.Reengineer=='Post'].loc[:,'CI_percentage']"
   ]
  },
  {
   "cell_type": "code",
   "execution_count": 43,
   "id": "5389a98a",
   "metadata": {},
   "outputs": [],
   "source": [
    "#State the Null hypothesis(Ho) and Alternate hypothesis(Ha)\n",
    "#Ho=There is no improvement of the critical incidence rate\n",
    "#Ha=There is improvement of the critical incidence rate\n",
    "\n",
    "#CI=95%\n",
    "#the level of siginificance(p-Value=0.05)\n",
    "\n",
    "#We have two samples\n",
    "#so comparing the mean of two samples using T-test"
   ]
  },
  {
   "cell_type": "code",
   "execution_count": 44,
   "id": "10804d16",
   "metadata": {},
   "outputs": [
    {
     "data": {
      "text/plain": [
       "TtestResult(statistic=1.627914425352865, pvalue=0.12091989189884148, df=18.0)"
      ]
     },
     "execution_count": 44,
     "metadata": {},
     "output_type": "execute_result"
    }
   ],
   "source": [
    " stats.ttest_ind( prior, post )"
   ]
  },
  {
   "cell_type": "code",
   "execution_count": 45,
   "id": "251bbd3d",
   "metadata": {},
   "outputs": [],
   "source": [
    "#Business conclusion\n",
    "#since p value is greater than 0.05 we cannot reject null hypothesis with 95% Confidence Level\n",
    "#There is no improvement of the critical incidence rate.\n",
    "#The reengineering effort had no impact on incidence behavioral problems and staff turnover"
   ]
  },
  {
   "cell_type": "code",
   "execution_count": null,
   "id": "1cbe4c80",
   "metadata": {},
   "outputs": [],
   "source": []
  },
  {
   "cell_type": "markdown",
   "id": "81a046c6",
   "metadata": {},
   "source": [
    "## BUSINESS PROBLEM-4"
   ]
  },
  {
   "cell_type": "markdown",
   "id": "c0bf8a0e",
   "metadata": {},
   "source": [
    "#### BUSINESS PROBLEM: We will focus on the prioritization system. If the system is working, then high priority jobs, on average, should be completed more quickly than medium priority jobs, and medium priority jobs should be completed more quickly than low priority jobs. Use the data provided to determine whether this is, in fact, occurring"
   ]
  },
  {
   "cell_type": "code",
   "execution_count": 46,
   "id": "f473f56a",
   "metadata": {},
   "outputs": [
    {
     "data": {
      "text/html": [
       "<div>\n",
       "<style scoped>\n",
       "    .dataframe tbody tr th:only-of-type {\n",
       "        vertical-align: middle;\n",
       "    }\n",
       "\n",
       "    .dataframe tbody tr th {\n",
       "        vertical-align: top;\n",
       "    }\n",
       "\n",
       "    .dataframe thead th {\n",
       "        text-align: right;\n",
       "    }\n",
       "</style>\n",
       "<table border=\"1\" class=\"dataframe\">\n",
       "  <thead>\n",
       "    <tr style=\"text-align: right;\">\n",
       "      <th></th>\n",
       "      <th>Days</th>\n",
       "      <th>Priority</th>\n",
       "    </tr>\n",
       "  </thead>\n",
       "  <tbody>\n",
       "    <tr>\n",
       "      <th>0</th>\n",
       "      <td>3.3</td>\n",
       "      <td>High</td>\n",
       "    </tr>\n",
       "    <tr>\n",
       "      <th>1</th>\n",
       "      <td>7.9</td>\n",
       "      <td>Medium</td>\n",
       "    </tr>\n",
       "    <tr>\n",
       "      <th>2</th>\n",
       "      <td>0.3</td>\n",
       "      <td>High</td>\n",
       "    </tr>\n",
       "    <tr>\n",
       "      <th>3</th>\n",
       "      <td>0.7</td>\n",
       "      <td>Medium</td>\n",
       "    </tr>\n",
       "    <tr>\n",
       "      <th>4</th>\n",
       "      <td>8.6</td>\n",
       "      <td>Medium</td>\n",
       "    </tr>\n",
       "    <tr>\n",
       "      <th>...</th>\n",
       "      <td>...</td>\n",
       "      <td>...</td>\n",
       "    </tr>\n",
       "    <tr>\n",
       "      <th>637</th>\n",
       "      <td>2.5</td>\n",
       "      <td>Low</td>\n",
       "    </tr>\n",
       "    <tr>\n",
       "      <th>638</th>\n",
       "      <td>0.3</td>\n",
       "      <td>High</td>\n",
       "    </tr>\n",
       "    <tr>\n",
       "      <th>639</th>\n",
       "      <td>0.3</td>\n",
       "      <td>Medium</td>\n",
       "    </tr>\n",
       "    <tr>\n",
       "      <th>640</th>\n",
       "      <td>1.3</td>\n",
       "      <td>Medium</td>\n",
       "    </tr>\n",
       "    <tr>\n",
       "      <th>641</th>\n",
       "      <td>0.5</td>\n",
       "      <td>High</td>\n",
       "    </tr>\n",
       "  </tbody>\n",
       "</table>\n",
       "<p>642 rows × 2 columns</p>\n",
       "</div>"
      ],
      "text/plain": [
       "     Days Priority\n",
       "0     3.3     High\n",
       "1     7.9   Medium\n",
       "2     0.3     High\n",
       "3     0.7   Medium\n",
       "4     8.6   Medium\n",
       "..    ...      ...\n",
       "637   2.5      Low\n",
       "638   0.3     High\n",
       "639   0.3   Medium\n",
       "640   1.3   Medium\n",
       "641   0.5     High\n",
       "\n",
       "[642 rows x 2 columns]"
      ]
     },
     "execution_count": 46,
     "metadata": {},
     "output_type": "execute_result"
    }
   ],
   "source": [
    "priority=pd.read_csv(r\"C:\\sayan\\data science interview\\course\\Python\\projects\\Python foundation\\Basic Statistics - Hypothesis Testing\\4. Basic Statistics - Hypothesis Testing\\Priority_Assessment.csv\")\n",
    "priority"
   ]
  },
  {
   "cell_type": "code",
   "execution_count": 47,
   "id": "2f06f0f3",
   "metadata": {},
   "outputs": [],
   "source": [
    "high=priority[priority.Priority=='High'].loc[:,'Days']\n",
    "medium=priority[priority.Priority=='Medium'].loc[:,'Days']\n",
    "low=priority[priority.Priority=='Low'].loc[:,'Days']"
   ]
  },
  {
   "cell_type": "code",
   "execution_count": 48,
   "id": "e60dc76e",
   "metadata": {},
   "outputs": [
    {
     "name": "stdout",
     "output_type": "stream",
     "text": [
      "High: 3.0236196319018402 |Medium: 2.5 |Low: 4.228358208955224\n"
     ]
    }
   ],
   "source": [
    "print('High:', high.mean(),\n",
    "      '|Medium:', medium.mean(),\n",
    "      '|Low:', low.mean())"
   ]
  },
  {
   "cell_type": "code",
   "execution_count": 49,
   "id": "3103d1aa",
   "metadata": {},
   "outputs": [],
   "source": [
    "#State the Null hypothesis(Ho) and Alternate hypothesis(Ha)\n",
    "#Ho=The prioritization system is not working\n",
    "#Ha=The prioritization system is working\n",
    "\n",
    "#CI=95%\n",
    "#the level of siginificance(p-Value=0.05)\n",
    "\n",
    "#We have many categories\n",
    "#so comparing the mean of the samples using Anova/F-test"
   ]
  },
  {
   "cell_type": "code",
   "execution_count": 50,
   "id": "7072db04",
   "metadata": {},
   "outputs": [
    {
     "data": {
      "text/plain": [
       "F_onewayResult(statistic=1.812311010076072, pvalue=0.16411459461716182)"
      ]
     },
     "execution_count": 50,
     "metadata": {},
     "output_type": "execute_result"
    }
   ],
   "source": [
    "stats.f_oneway(high,medium,low)"
   ]
  },
  {
   "cell_type": "code",
   "execution_count": 51,
   "id": "9eb99027",
   "metadata": {},
   "outputs": [],
   "source": [
    "#Business conclusion\n",
    "#since p value is greater than 0.05 we cannot reject null hypothesis with 95% Confidence Level\n",
    "#The prioritization system is not working."
   ]
  },
  {
   "cell_type": "code",
   "execution_count": null,
   "id": "35c6f02a",
   "metadata": {},
   "outputs": [],
   "source": []
  },
  {
   "cell_type": "markdown",
   "id": "b398050a",
   "metadata": {},
   "source": [
    "## BUSINESS PROBLEM-5"
   ]
  },
  {
   "cell_type": "markdown",
   "id": "dea6c2cb",
   "metadata": {},
   "source": [
    "#### BUSINESS PROBLEM: Use the survey resultsto addressthe following questions"
   ]
  },
  {
   "cell_type": "code",
   "execution_count": 52,
   "id": "7756b37d",
   "metadata": {},
   "outputs": [
    {
     "data": {
      "text/html": [
       "<div>\n",
       "<style scoped>\n",
       "    .dataframe tbody tr th:only-of-type {\n",
       "        vertical-align: middle;\n",
       "    }\n",
       "\n",
       "    .dataframe tbody tr th {\n",
       "        vertical-align: top;\n",
       "    }\n",
       "\n",
       "    .dataframe thead th {\n",
       "        text-align: right;\n",
       "    }\n",
       "</style>\n",
       "<table border=\"1\" class=\"dataframe\">\n",
       "  <thead>\n",
       "    <tr style=\"text-align: right;\">\n",
       "      <th></th>\n",
       "      <th>_rowstate_</th>\n",
       "      <th>Movie</th>\n",
       "      <th>Gender</th>\n",
       "      <th>Marital_Status</th>\n",
       "      <th>Sinage</th>\n",
       "      <th>Parking</th>\n",
       "      <th>Clean</th>\n",
       "      <th>Overall</th>\n",
       "      <th>Age</th>\n",
       "      <th>Income</th>\n",
       "      <th>Hear_About</th>\n",
       "    </tr>\n",
       "  </thead>\n",
       "  <tbody>\n",
       "    <tr>\n",
       "      <th>0</th>\n",
       "      <td>0</td>\n",
       "      <td>Ferris Buellers Day Off</td>\n",
       "      <td>Female</td>\n",
       "      <td>Married</td>\n",
       "      <td>2.0</td>\n",
       "      <td>2.0</td>\n",
       "      <td>2.0</td>\n",
       "      <td>2.0</td>\n",
       "      <td>3.0</td>\n",
       "      <td>1.0</td>\n",
       "      <td>5</td>\n",
       "    </tr>\n",
       "    <tr>\n",
       "      <th>1</th>\n",
       "      <td>0</td>\n",
       "      <td>Ferris Buellers Day Off</td>\n",
       "      <td>Female</td>\n",
       "      <td>Single</td>\n",
       "      <td>1.0</td>\n",
       "      <td>1.0</td>\n",
       "      <td>1.0</td>\n",
       "      <td>1.0</td>\n",
       "      <td>2.0</td>\n",
       "      <td>1.0</td>\n",
       "      <td>5</td>\n",
       "    </tr>\n",
       "    <tr>\n",
       "      <th>2</th>\n",
       "      <td>0</td>\n",
       "      <td>Ferris Buellers Day Off</td>\n",
       "      <td>Male</td>\n",
       "      <td>Married</td>\n",
       "      <td>2.0</td>\n",
       "      <td>4.0</td>\n",
       "      <td>3.0</td>\n",
       "      <td>2.0</td>\n",
       "      <td>4.0</td>\n",
       "      <td>1.0</td>\n",
       "      <td>5</td>\n",
       "    </tr>\n",
       "    <tr>\n",
       "      <th>3</th>\n",
       "      <td>0</td>\n",
       "      <td>Ferris Buellers Day Off</td>\n",
       "      <td>Female</td>\n",
       "      <td>Married</td>\n",
       "      <td>1.0</td>\n",
       "      <td>3.0</td>\n",
       "      <td>2.0</td>\n",
       "      <td>2.0</td>\n",
       "      <td>4.0</td>\n",
       "      <td>1.0</td>\n",
       "      <td>5</td>\n",
       "    </tr>\n",
       "    <tr>\n",
       "      <th>4</th>\n",
       "      <td>0</td>\n",
       "      <td>Ferris Buellers Day Off</td>\n",
       "      <td>Female</td>\n",
       "      <td>Married</td>\n",
       "      <td>1.0</td>\n",
       "      <td>1.0</td>\n",
       "      <td>1.0</td>\n",
       "      <td>1.0</td>\n",
       "      <td>3.0</td>\n",
       "      <td>3.0</td>\n",
       "      <td>1</td>\n",
       "    </tr>\n",
       "    <tr>\n",
       "      <th>...</th>\n",
       "      <td>...</td>\n",
       "      <td>...</td>\n",
       "      <td>...</td>\n",
       "      <td>...</td>\n",
       "      <td>...</td>\n",
       "      <td>...</td>\n",
       "      <td>...</td>\n",
       "      <td>...</td>\n",
       "      <td>...</td>\n",
       "      <td>...</td>\n",
       "      <td>...</td>\n",
       "    </tr>\n",
       "    <tr>\n",
       "      <th>325</th>\n",
       "      <td>0</td>\n",
       "      <td>Old School</td>\n",
       "      <td>2</td>\n",
       "      <td>2</td>\n",
       "      <td>1.0</td>\n",
       "      <td>2.0</td>\n",
       "      <td>1.0</td>\n",
       "      <td>1.0</td>\n",
       "      <td>2.0</td>\n",
       "      <td>1.0</td>\n",
       "      <td>1</td>\n",
       "    </tr>\n",
       "    <tr>\n",
       "      <th>326</th>\n",
       "      <td>0</td>\n",
       "      <td>Old School</td>\n",
       "      <td>1</td>\n",
       "      <td>1</td>\n",
       "      <td>2.0</td>\n",
       "      <td>2.0</td>\n",
       "      <td>2.0</td>\n",
       "      <td>2.0</td>\n",
       "      <td>3.0</td>\n",
       "      <td>3.0</td>\n",
       "      <td>5</td>\n",
       "    </tr>\n",
       "    <tr>\n",
       "      <th>327</th>\n",
       "      <td>0</td>\n",
       "      <td>Old School</td>\n",
       "      <td>2</td>\n",
       "      <td>1</td>\n",
       "      <td>2.0</td>\n",
       "      <td>1.0</td>\n",
       "      <td>1.0</td>\n",
       "      <td>2.0</td>\n",
       "      <td>2.0</td>\n",
       "      <td>2.0</td>\n",
       "      <td>5</td>\n",
       "    </tr>\n",
       "    <tr>\n",
       "      <th>328</th>\n",
       "      <td>0</td>\n",
       "      <td>Old School</td>\n",
       "      <td>1</td>\n",
       "      <td>1</td>\n",
       "      <td>1.0</td>\n",
       "      <td>1.0</td>\n",
       "      <td>1.0</td>\n",
       "      <td>1.0</td>\n",
       "      <td>2.0</td>\n",
       "      <td>1.0</td>\n",
       "      <td>3</td>\n",
       "    </tr>\n",
       "    <tr>\n",
       "      <th>329</th>\n",
       "      <td>0</td>\n",
       "      <td>Old School</td>\n",
       "      <td>2</td>\n",
       "      <td>2</td>\n",
       "      <td>2.0</td>\n",
       "      <td>2.0</td>\n",
       "      <td>3.0</td>\n",
       "      <td>1.0</td>\n",
       "      <td>2.0</td>\n",
       "      <td>1.0</td>\n",
       "      <td>5</td>\n",
       "    </tr>\n",
       "  </tbody>\n",
       "</table>\n",
       "<p>330 rows × 11 columns</p>\n",
       "</div>"
      ],
      "text/plain": [
       "     _rowstate_                    Movie  Gender Marital_Status  Sinage  \\\n",
       "0             0  Ferris Buellers Day Off  Female        Married     2.0   \n",
       "1             0  Ferris Buellers Day Off  Female         Single     1.0   \n",
       "2             0  Ferris Buellers Day Off    Male        Married     2.0   \n",
       "3             0  Ferris Buellers Day Off  Female        Married     1.0   \n",
       "4             0  Ferris Buellers Day Off  Female        Married     1.0   \n",
       "..          ...                      ...     ...            ...     ...   \n",
       "325           0               Old School       2              2     1.0   \n",
       "326           0               Old School       1              1     2.0   \n",
       "327           0               Old School       2              1     2.0   \n",
       "328           0               Old School       1              1     1.0   \n",
       "329           0               Old School       2              2     2.0   \n",
       "\n",
       "     Parking  Clean  Overall  Age  Income Hear_About  \n",
       "0        2.0    2.0      2.0  3.0     1.0          5  \n",
       "1        1.0    1.0      1.0  2.0     1.0          5  \n",
       "2        4.0    3.0      2.0  4.0     1.0          5  \n",
       "3        3.0    2.0      2.0  4.0     1.0          5  \n",
       "4        1.0    1.0      1.0  3.0     3.0          1  \n",
       "..       ...    ...      ...  ...     ...        ...  \n",
       "325      2.0    1.0      1.0  2.0     1.0          1  \n",
       "326      2.0    2.0      2.0  3.0     3.0          5  \n",
       "327      1.0    1.0      2.0  2.0     2.0          5  \n",
       "328      1.0    1.0      1.0  2.0     1.0          3  \n",
       "329      2.0    3.0      1.0  2.0     1.0          5  \n",
       "\n",
       "[330 rows x 11 columns]"
      ]
     },
     "execution_count": 52,
     "metadata": {},
     "output_type": "execute_result"
    }
   ],
   "source": [
    "film=pd.read_csv(r\"C:\\sayan\\data science interview\\course\\Python\\projects\\Python foundation\\Basic Statistics - Hypothesis Testing\\4. Basic Statistics - Hypothesis Testing\\Films.csv\")\n",
    "film"
   ]
  },
  {
   "cell_type": "markdown",
   "id": "07f86368",
   "metadata": {},
   "source": [
    "#### a. What is the overall level of customer satisfaction?"
   ]
  },
  {
   "cell_type": "code",
   "execution_count": 53,
   "id": "23acbe7b",
   "metadata": {},
   "outputs": [],
   "source": [
    "def review(x):\n",
    "    if x==1:\n",
    "        return 'Excellent'\n",
    "    elif x==2:\n",
    "        return 'Good'\n",
    "    elif x==3:\n",
    "        return 'Average/Fair'\n",
    "    elif x==4:\n",
    "        return  'Poor'\n",
    "    else:\n",
    "        return 'Very Poor'"
   ]
  },
  {
   "cell_type": "code",
   "execution_count": 54,
   "id": "10432032",
   "metadata": {},
   "outputs": [],
   "source": [
    "film.Overall=film.Overall.apply(review)"
   ]
  },
  {
   "cell_type": "code",
   "execution_count": 55,
   "id": "9ccb782e",
   "metadata": {},
   "outputs": [
    {
     "data": {
      "text/plain": [
       "<Axes: xlabel='Overall', ylabel='count'>"
      ]
     },
     "execution_count": 55,
     "metadata": {},
     "output_type": "execute_result"
    },
    {
     "data": {
      "image/png": "[encoded data removed]",
      "text/plain": [
       "<Figure size 640x480 with 1 Axes>"
      ]
     },
     "metadata": {},
     "output_type": "display_data"
    }
   ],
   "source": [
    "#So overall customers are well satisfied\n",
    "sns.countplot(data=film,x='Overall')"
   ]
  },
  {
   "cell_type": "markdown",
   "id": "d5e81f72",
   "metadata": {},
   "source": [
    "#### b. What factors are linked to satisfaction?"
   ]
  },
  {
   "cell_type": "code",
   "execution_count": 56,
   "id": "98caf669",
   "metadata": {},
   "outputs": [],
   "source": [
    "#Signage-Overall Relationship\n",
    "#State the Null hypothesis(Ho) and Alternate hypothesis(Ha)\n",
    "#Ho=No relationship\n",
    "#Ha=There is relationship\n",
    "\n",
    "#CI=95%\n",
    "#the level of siginificance(p-Value=0.05)\n",
    "\n",
    "#We have two categorical datas\n",
    "#So doing chi square test"
   ]
  },
  {
   "cell_type": "code",
   "execution_count": 57,
   "id": "1f857304",
   "metadata": {},
   "outputs": [
    {
     "data": {
      "text/html": [
       "<div>\n",
       "<style scoped>\n",
       "    .dataframe tbody tr th:only-of-type {\n",
       "        vertical-align: middle;\n",
       "    }\n",
       "\n",
       "    .dataframe tbody tr th {\n",
       "        vertical-align: top;\n",
       "    }\n",
       "\n",
       "    .dataframe thead th {\n",
       "        text-align: right;\n",
       "    }\n",
       "</style>\n",
       "<table border=\"1\" class=\"dataframe\">\n",
       "  <thead>\n",
       "    <tr style=\"text-align: right;\">\n",
       "      <th>Overall</th>\n",
       "      <th>Average/Fair</th>\n",
       "      <th>Excellent</th>\n",
       "      <th>Good</th>\n",
       "      <th>Poor</th>\n",
       "      <th>Very Poor</th>\n",
       "    </tr>\n",
       "    <tr>\n",
       "      <th>Sinage</th>\n",
       "      <th></th>\n",
       "      <th></th>\n",
       "      <th></th>\n",
       "      <th></th>\n",
       "      <th></th>\n",
       "    </tr>\n",
       "  </thead>\n",
       "  <tbody>\n",
       "    <tr>\n",
       "      <th>1.0</th>\n",
       "      <td>0</td>\n",
       "      <td>90</td>\n",
       "      <td>22</td>\n",
       "      <td>0</td>\n",
       "      <td>1</td>\n",
       "    </tr>\n",
       "    <tr>\n",
       "      <th>2.0</th>\n",
       "      <td>4</td>\n",
       "      <td>43</td>\n",
       "      <td>107</td>\n",
       "      <td>0</td>\n",
       "      <td>2</td>\n",
       "    </tr>\n",
       "    <tr>\n",
       "      <th>3.0</th>\n",
       "      <td>8</td>\n",
       "      <td>13</td>\n",
       "      <td>25</td>\n",
       "      <td>1</td>\n",
       "      <td>1</td>\n",
       "    </tr>\n",
       "    <tr>\n",
       "      <th>4.0</th>\n",
       "      <td>0</td>\n",
       "      <td>2</td>\n",
       "      <td>4</td>\n",
       "      <td>0</td>\n",
       "      <td>0</td>\n",
       "    </tr>\n",
       "    <tr>\n",
       "      <th>5.0</th>\n",
       "      <td>0</td>\n",
       "      <td>2</td>\n",
       "      <td>2</td>\n",
       "      <td>0</td>\n",
       "      <td>1</td>\n",
       "    </tr>\n",
       "  </tbody>\n",
       "</table>\n",
       "</div>"
      ],
      "text/plain": [
       "Overall  Average/Fair  Excellent  Good  Poor  Very Poor\n",
       "Sinage                                                 \n",
       "1.0                 0         90    22     0          1\n",
       "2.0                 4         43   107     0          2\n",
       "3.0                 8         13    25     1          1\n",
       "4.0                 0          2     4     0          0\n",
       "5.0                 0          2     2     0          1"
      ]
     },
     "execution_count": 57,
     "metadata": {},
     "output_type": "execute_result"
    }
   ],
   "source": [
    "ovr_sin = pd.crosstab( film.Sinage,film.Overall )\n",
    "ovr_sin"
   ]
  },
  {
   "cell_type": "code",
   "execution_count": 58,
   "id": "c5f71d71",
   "metadata": {},
   "outputs": [
    {
     "data": {
      "text/plain": [
       "2.916411365201814e-18"
      ]
     },
     "execution_count": 58,
     "metadata": {},
     "output_type": "execute_result"
    }
   ],
   "source": [
    "stats.chi2_contingency( ovr_sin )[1]"
   ]
  },
  {
   "cell_type": "code",
   "execution_count": 59,
   "id": "189851ef",
   "metadata": {},
   "outputs": [],
   "source": [
    "#Business conclusion\n",
    "#since p value is less than 0.05 we can reject null hypothesis with 95% Confidence Level\n",
    "#There is significant relationship between Signage and Overall"
   ]
  },
  {
   "cell_type": "code",
   "execution_count": 60,
   "id": "6abbfbc0",
   "metadata": {},
   "outputs": [],
   "source": [
    "#Parking-Overall Relationship\n",
    "#State the Null hypothesis(Ho) and Alternate hypothesis(Ha)\n",
    "#Ho=No relationship\n",
    "#Ha=There is relationship\n",
    "\n",
    "#CI=95%\n",
    "#the level of siginificance(p-Value=0.05)\n",
    "\n",
    "#We have two categorical datas\n",
    "#So doing chi square test"
   ]
  },
  {
   "cell_type": "code",
   "execution_count": 61,
   "id": "055e11b1",
   "metadata": {},
   "outputs": [
    {
     "data": {
      "text/html": [
       "<div>\n",
       "<style scoped>\n",
       "    .dataframe tbody tr th:only-of-type {\n",
       "        vertical-align: middle;\n",
       "    }\n",
       "\n",
       "    .dataframe tbody tr th {\n",
       "        vertical-align: top;\n",
       "    }\n",
       "\n",
       "    .dataframe thead th {\n",
       "        text-align: right;\n",
       "    }\n",
       "</style>\n",
       "<table border=\"1\" class=\"dataframe\">\n",
       "  <thead>\n",
       "    <tr style=\"text-align: right;\">\n",
       "      <th>Overall</th>\n",
       "      <th>Average/Fair</th>\n",
       "      <th>Excellent</th>\n",
       "      <th>Good</th>\n",
       "      <th>Poor</th>\n",
       "      <th>Very Poor</th>\n",
       "    </tr>\n",
       "    <tr>\n",
       "      <th>Parking</th>\n",
       "      <th></th>\n",
       "      <th></th>\n",
       "      <th></th>\n",
       "      <th></th>\n",
       "      <th></th>\n",
       "    </tr>\n",
       "  </thead>\n",
       "  <tbody>\n",
       "    <tr>\n",
       "      <th>1.0</th>\n",
       "      <td>2</td>\n",
       "      <td>105</td>\n",
       "      <td>26</td>\n",
       "      <td>0</td>\n",
       "      <td>2</td>\n",
       "    </tr>\n",
       "    <tr>\n",
       "      <th>2.0</th>\n",
       "      <td>3</td>\n",
       "      <td>40</td>\n",
       "      <td>109</td>\n",
       "      <td>0</td>\n",
       "      <td>1</td>\n",
       "    </tr>\n",
       "    <tr>\n",
       "      <th>3.0</th>\n",
       "      <td>5</td>\n",
       "      <td>4</td>\n",
       "      <td>20</td>\n",
       "      <td>0</td>\n",
       "      <td>0</td>\n",
       "    </tr>\n",
       "    <tr>\n",
       "      <th>4.0</th>\n",
       "      <td>1</td>\n",
       "      <td>2</td>\n",
       "      <td>3</td>\n",
       "      <td>0</td>\n",
       "      <td>1</td>\n",
       "    </tr>\n",
       "    <tr>\n",
       "      <th>5.0</th>\n",
       "      <td>1</td>\n",
       "      <td>0</td>\n",
       "      <td>1</td>\n",
       "      <td>1</td>\n",
       "      <td>1</td>\n",
       "    </tr>\n",
       "  </tbody>\n",
       "</table>\n",
       "</div>"
      ],
      "text/plain": [
       "Overall  Average/Fair  Excellent  Good  Poor  Very Poor\n",
       "Parking                                                \n",
       "1.0                 2        105    26     0          2\n",
       "2.0                 3         40   109     0          1\n",
       "3.0                 5          4    20     0          0\n",
       "4.0                 1          2     3     0          1\n",
       "5.0                 1          0     1     1          1"
      ]
     },
     "execution_count": 61,
     "metadata": {},
     "output_type": "execute_result"
    }
   ],
   "source": [
    "ovr_park = pd.crosstab( film.Parking,film.Overall )\n",
    "ovr_park"
   ]
  },
  {
   "cell_type": "code",
   "execution_count": 62,
   "id": "833ddfd1",
   "metadata": {},
   "outputs": [
    {
     "data": {
      "text/plain": [
       "1.316195441814311e-38"
      ]
     },
     "execution_count": 62,
     "metadata": {},
     "output_type": "execute_result"
    }
   ],
   "source": [
    "stats.chi2_contingency( ovr_park )[1]"
   ]
  },
  {
   "cell_type": "code",
   "execution_count": 63,
   "id": "4a09be99",
   "metadata": {},
   "outputs": [],
   "source": [
    "#Business conclusion\n",
    "#since p value is less than 0.05 we can reject null hypothesis with 95% Confidence Level\n",
    "#There is significant relationship between Parking and Overall"
   ]
  },
  {
   "cell_type": "code",
   "execution_count": 64,
   "id": "33f38af8",
   "metadata": {},
   "outputs": [],
   "source": [
    "#Clean-Overall Relationship\n",
    "#State the Null hypothesis(Ho) and Alternate hypothesis(Ha)\n",
    "#Ho=No relationship\n",
    "#Ha=There is relationship\n",
    "\n",
    "#CI=95%\n",
    "#the level of siginificance(p-Value=0.05)\n",
    "\n",
    "#We have two categorical datas\n",
    "#So doing chi square test"
   ]
  },
  {
   "cell_type": "code",
   "execution_count": 65,
   "id": "aedd0133",
   "metadata": {},
   "outputs": [
    {
     "data": {
      "text/html": [
       "<div>\n",
       "<style scoped>\n",
       "    .dataframe tbody tr th:only-of-type {\n",
       "        vertical-align: middle;\n",
       "    }\n",
       "\n",
       "    .dataframe tbody tr th {\n",
       "        vertical-align: top;\n",
       "    }\n",
       "\n",
       "    .dataframe thead th {\n",
       "        text-align: right;\n",
       "    }\n",
       "</style>\n",
       "<table border=\"1\" class=\"dataframe\">\n",
       "  <thead>\n",
       "    <tr style=\"text-align: right;\">\n",
       "      <th>Overall</th>\n",
       "      <th>Average/Fair</th>\n",
       "      <th>Excellent</th>\n",
       "      <th>Good</th>\n",
       "      <th>Poor</th>\n",
       "      <th>Very Poor</th>\n",
       "    </tr>\n",
       "    <tr>\n",
       "      <th>Clean</th>\n",
       "      <th></th>\n",
       "      <th></th>\n",
       "      <th></th>\n",
       "      <th></th>\n",
       "      <th></th>\n",
       "    </tr>\n",
       "  </thead>\n",
       "  <tbody>\n",
       "    <tr>\n",
       "      <th>1.0</th>\n",
       "      <td>3</td>\n",
       "      <td>104</td>\n",
       "      <td>35</td>\n",
       "      <td>0</td>\n",
       "      <td>2</td>\n",
       "    </tr>\n",
       "    <tr>\n",
       "      <th>2.0</th>\n",
       "      <td>5</td>\n",
       "      <td>39</td>\n",
       "      <td>106</td>\n",
       "      <td>1</td>\n",
       "      <td>1</td>\n",
       "    </tr>\n",
       "    <tr>\n",
       "      <th>3.0</th>\n",
       "      <td>4</td>\n",
       "      <td>6</td>\n",
       "      <td>14</td>\n",
       "      <td>0</td>\n",
       "      <td>0</td>\n",
       "    </tr>\n",
       "    <tr>\n",
       "      <th>4.0</th>\n",
       "      <td>0</td>\n",
       "      <td>1</td>\n",
       "      <td>4</td>\n",
       "      <td>0</td>\n",
       "      <td>0</td>\n",
       "    </tr>\n",
       "    <tr>\n",
       "      <th>5.0</th>\n",
       "      <td>0</td>\n",
       "      <td>1</td>\n",
       "      <td>0</td>\n",
       "      <td>0</td>\n",
       "      <td>1</td>\n",
       "    </tr>\n",
       "  </tbody>\n",
       "</table>\n",
       "</div>"
      ],
      "text/plain": [
       "Overall  Average/Fair  Excellent  Good  Poor  Very Poor\n",
       "Clean                                                  \n",
       "1.0                 3        104    35     0          2\n",
       "2.0                 5         39   106     1          1\n",
       "3.0                 4          6    14     0          0\n",
       "4.0                 0          1     4     0          0\n",
       "5.0                 0          1     0     0          1"
      ]
     },
     "execution_count": 65,
     "metadata": {},
     "output_type": "execute_result"
    }
   ],
   "source": [
    "ovr_clean = pd.crosstab( film.Clean,film.Overall )\n",
    "ovr_clean"
   ]
  },
  {
   "cell_type": "code",
   "execution_count": 66,
   "id": "de9794a7",
   "metadata": {},
   "outputs": [
    {
     "data": {
      "text/plain": [
       "5.517448379868074e-19"
      ]
     },
     "execution_count": 66,
     "metadata": {},
     "output_type": "execute_result"
    }
   ],
   "source": [
    "stats.chi2_contingency( ovr_clean )[1]"
   ]
  },
  {
   "cell_type": "code",
   "execution_count": 67,
   "id": "c297b395",
   "metadata": {},
   "outputs": [],
   "source": [
    "#Business conclusion\n",
    "#since p value is less than 0.05 we can reject null hypothesis with 95% Confidence Level\n",
    "#There is significant relationship between Clean and Overall"
   ]
  },
  {
   "cell_type": "markdown",
   "id": "9010c34c",
   "metadata": {},
   "source": [
    "#### c. What is the demographic profile of Film on the Rocks patrons?"
   ]
  },
  {
   "cell_type": "code",
   "execution_count": 68,
   "id": "2a04ced2",
   "metadata": {},
   "outputs": [
    {
     "data": {
      "text/plain": [
       "Movie\n",
       "Willy Wonka                161\n",
       "Ferris Buellers Day Off    137\n",
       "Old School                  32\n",
       "Name: count, dtype: int64"
      ]
     },
     "execution_count": 68,
     "metadata": {},
     "output_type": "execute_result"
    }
   ],
   "source": [
    "film.Movie.value_counts()"
   ]
  },
  {
   "cell_type": "code",
   "execution_count": 69,
   "id": "6142693e",
   "metadata": {},
   "outputs": [
    {
     "data": {
      "text/plain": [
       "array(['Female', 'Male', '2', '1'], dtype=object)"
      ]
     },
     "execution_count": 69,
     "metadata": {},
     "output_type": "execute_result"
    }
   ],
   "source": [
    "film.Gender.unique()"
   ]
  },
  {
   "cell_type": "code",
   "execution_count": 70,
   "id": "211a4d6f",
   "metadata": {},
   "outputs": [],
   "source": [
    "#Changing the name\n",
    "film.Gender=np.where(film.Gender=='1','Male',np.where(film.Gender=='2','Female',film.Gender))"
   ]
  },
  {
   "cell_type": "code",
   "execution_count": 71,
   "id": "84b67e69",
   "metadata": {},
   "outputs": [
    {
     "data": {
      "image/png": "[encoded data removed]",
      "text/plain": [
       "<Figure size 640x480 with 1 Axes>"
      ]
     },
     "metadata": {},
     "output_type": "display_data"
    }
   ],
   "source": [
    "plt.title('Count of Female vs Male')\n",
    "film.Gender.value_counts().plot(kind='pie',autopct='%1.2f%%')\n",
    "plt.show()"
   ]
  },
  {
   "cell_type": "code",
   "execution_count": 72,
   "id": "4b260f34",
   "metadata": {},
   "outputs": [
    {
     "data": {
      "text/plain": [
       "array(['Married', 'Single', 'Slngle', '1', '2', nan], dtype=object)"
      ]
     },
     "execution_count": 72,
     "metadata": {},
     "output_type": "execute_result"
    }
   ],
   "source": [
    "film.Marital_Status.unique()"
   ]
  },
  {
   "cell_type": "code",
   "execution_count": 73,
   "id": "fe5d6211",
   "metadata": {},
   "outputs": [
    {
     "data": {
      "text/plain": [
       "Marital_Status\n",
       "2          208\n",
       "1           88\n",
       "Single      18\n",
       "Married     12\n",
       "Slngle       2\n",
       "Name: count, dtype: int64"
      ]
     },
     "execution_count": 73,
     "metadata": {},
     "output_type": "execute_result"
    }
   ],
   "source": [
    "film.Marital_Status.value_counts()"
   ]
  },
  {
   "cell_type": "code",
   "execution_count": 74,
   "id": "cbc56a59",
   "metadata": {},
   "outputs": [],
   "source": [
    "film.Marital_Status=np.where(film.Marital_Status=='1','Married',np.where(film.Marital_Status=='2','Single',\n",
    "                                                     np.where(film.Marital_Status=='Slngle','Single',film.Marital_Status)))"
   ]
  },
  {
   "cell_type": "code",
   "execution_count": 75,
   "id": "d5100660",
   "metadata": {},
   "outputs": [
    {
     "data": {
      "image/png": "[encoded data removed]",
      "text/plain": [
       "<Figure size 640x480 with 1 Axes>"
      ]
     },
     "metadata": {},
     "output_type": "display_data"
    }
   ],
   "source": [
    "plt.title('Count of Married vs Single')\n",
    "film.Marital_Status.value_counts().plot(kind='pie',autopct='%1.2f%%')\n",
    "plt.show()"
   ]
  },
  {
   "cell_type": "code",
   "execution_count": 97,
   "id": "f0e99485",
   "metadata": {},
   "outputs": [
    {
     "data": {
      "text/plain": [
       "<Figure size 640x480 with 0 Axes>"
      ]
     },
     "metadata": {},
     "output_type": "display_data"
    },
    {
     "data": {
      "image/png": "[encoded data removed]",
      "text/plain": [
       "<Figure size 800x800 with 2 Axes>"
      ]
     },
     "metadata": {},
     "output_type": "display_data"
    }
   ],
   "source": [
    "plt.figure(layout='constrained')\n",
    "film.pivot_table(index='Marital_Status',columns='Gender',\n",
    "                 values='Movie',aggfunc='count').plot(kind='pie',subplots=True,\n",
    "                                                      title='Percentage of Male and Female who are Single or Married',figsize=(8,8))\n",
    "plt.show()"
   ]
  },
  {
   "cell_type": "code",
   "execution_count": 91,
   "id": "2735e625",
   "metadata": {},
   "outputs": [
    {
     "data": {
      "image/png": "[encoded data removed]",
      "text/plain": [
       "<Figure size 640x480 with 1 Axes>"
      ]
     },
     "metadata": {},
     "output_type": "display_data"
    }
   ],
   "source": [
    "film.pivot_table(index='Marital_Status',columns='Gender',values='Movie',aggfunc='count').plot(kind='bar',rot=0,title='Number of Maried or Single Male or Female')\n",
    "plt.show()"
   ]
  },
  {
   "cell_type": "code",
   "execution_count": 78,
   "id": "7b0f2de4",
   "metadata": {},
   "outputs": [
    {
     "data": {
      "text/plain": [
       "Income\n",
       "1.0    142\n",
       "3.0     90\n",
       "2.0     82\n",
       "Name: count, dtype: int64"
      ]
     },
     "execution_count": 78,
     "metadata": {},
     "output_type": "execute_result"
    }
   ],
   "source": [
    "film.Income.value_counts()"
   ]
  },
  {
   "cell_type": "code",
   "execution_count": 79,
   "id": "8f68018d",
   "metadata": {},
   "outputs": [],
   "source": [
    "film.Income=np.where(film.Income==1,'Less than $50,000',np.where(film.Income==2,\"$ 50,000-$ 100,000\",\n",
    "                                                     np.where(film.Income==3,'$100,000+',film.Income)))"
   ]
  },
  {
   "cell_type": "code",
   "execution_count": 92,
   "id": "2b9163c3",
   "metadata": {},
   "outputs": [
    {
     "data": {
      "image/png": "[encoded data removed]",
      "text/plain": [
       "<Figure size 640x480 with 1 Axes>"
      ]
     },
     "metadata": {},
     "output_type": "display_data"
    }
   ],
   "source": [
    "film.Income.value_counts()[:3].plot(kind='bar',rot=0,title='Number of Viewers in Different Income Bracket')\n",
    "plt.show()"
   ]
  },
  {
   "cell_type": "code",
   "execution_count": 94,
   "id": "ca6c4162",
   "metadata": {},
   "outputs": [
    {
     "data": {
      "image/png": "[encoded data removed]",
      "text/plain": [
       "<Figure size 640x480 with 1 Axes>"
      ]
     },
     "metadata": {},
     "output_type": "display_data"
    }
   ],
   "source": [
    "film.pivot_table(index='Income',columns='Gender',values='Movie',aggfunc='count')[:3].plot(kind='bar',rot=0,title='Income distribution over Male and Female')\n",
    "plt.show()"
   ]
  },
  {
   "cell_type": "markdown",
   "id": "5fde6df7",
   "metadata": {},
   "source": [
    "#### d. In what media outlet(s) should the film series be advertised?"
   ]
  },
  {
   "cell_type": "code",
   "execution_count": 98,
   "id": "85d3f4b0",
   "metadata": {},
   "outputs": [
    {
     "data": {
      "text/html": [
       "<div>\n",
       "<style scoped>\n",
       "    .dataframe tbody tr th:only-of-type {\n",
       "        vertical-align: middle;\n",
       "    }\n",
       "\n",
       "    .dataframe tbody tr th {\n",
       "        vertical-align: top;\n",
       "    }\n",
       "\n",
       "    .dataframe thead th {\n",
       "        text-align: right;\n",
       "    }\n",
       "</style>\n",
       "<table border=\"1\" class=\"dataframe\">\n",
       "  <thead>\n",
       "    <tr style=\"text-align: right;\">\n",
       "      <th></th>\n",
       "      <th>_rowstate_</th>\n",
       "      <th>Movie</th>\n",
       "      <th>Gender</th>\n",
       "      <th>Marital_Status</th>\n",
       "      <th>Sinage</th>\n",
       "      <th>Parking</th>\n",
       "      <th>Clean</th>\n",
       "      <th>Overall</th>\n",
       "      <th>Age</th>\n",
       "      <th>Income</th>\n",
       "      <th>Hear_About</th>\n",
       "    </tr>\n",
       "  </thead>\n",
       "  <tbody>\n",
       "    <tr>\n",
       "      <th>0</th>\n",
       "      <td>0</td>\n",
       "      <td>Ferris Buellers Day Off</td>\n",
       "      <td>Female</td>\n",
       "      <td>Married</td>\n",
       "      <td>2.0</td>\n",
       "      <td>2.0</td>\n",
       "      <td>2.0</td>\n",
       "      <td>Good</td>\n",
       "      <td>3.0</td>\n",
       "      <td>Less than $50,000</td>\n",
       "      <td>5</td>\n",
       "    </tr>\n",
       "    <tr>\n",
       "      <th>1</th>\n",
       "      <td>0</td>\n",
       "      <td>Ferris Buellers Day Off</td>\n",
       "      <td>Female</td>\n",
       "      <td>Single</td>\n",
       "      <td>1.0</td>\n",
       "      <td>1.0</td>\n",
       "      <td>1.0</td>\n",
       "      <td>Excellent</td>\n",
       "      <td>2.0</td>\n",
       "      <td>Less than $50,000</td>\n",
       "      <td>5</td>\n",
       "    </tr>\n",
       "    <tr>\n",
       "      <th>2</th>\n",
       "      <td>0</td>\n",
       "      <td>Ferris Buellers Day Off</td>\n",
       "      <td>Male</td>\n",
       "      <td>Married</td>\n",
       "      <td>2.0</td>\n",
       "      <td>4.0</td>\n",
       "      <td>3.0</td>\n",
       "      <td>Good</td>\n",
       "      <td>4.0</td>\n",
       "      <td>Less than $50,000</td>\n",
       "      <td>5</td>\n",
       "    </tr>\n",
       "    <tr>\n",
       "      <th>3</th>\n",
       "      <td>0</td>\n",
       "      <td>Ferris Buellers Day Off</td>\n",
       "      <td>Female</td>\n",
       "      <td>Married</td>\n",
       "      <td>1.0</td>\n",
       "      <td>3.0</td>\n",
       "      <td>2.0</td>\n",
       "      <td>Good</td>\n",
       "      <td>4.0</td>\n",
       "      <td>Less than $50,000</td>\n",
       "      <td>5</td>\n",
       "    </tr>\n",
       "    <tr>\n",
       "      <th>4</th>\n",
       "      <td>0</td>\n",
       "      <td>Ferris Buellers Day Off</td>\n",
       "      <td>Female</td>\n",
       "      <td>Married</td>\n",
       "      <td>1.0</td>\n",
       "      <td>1.0</td>\n",
       "      <td>1.0</td>\n",
       "      <td>Excellent</td>\n",
       "      <td>3.0</td>\n",
       "      <td>$100,000+</td>\n",
       "      <td>1</td>\n",
       "    </tr>\n",
       "    <tr>\n",
       "      <th>...</th>\n",
       "      <td>...</td>\n",
       "      <td>...</td>\n",
       "      <td>...</td>\n",
       "      <td>...</td>\n",
       "      <td>...</td>\n",
       "      <td>...</td>\n",
       "      <td>...</td>\n",
       "      <td>...</td>\n",
       "      <td>...</td>\n",
       "      <td>...</td>\n",
       "      <td>...</td>\n",
       "    </tr>\n",
       "    <tr>\n",
       "      <th>325</th>\n",
       "      <td>0</td>\n",
       "      <td>Old School</td>\n",
       "      <td>Female</td>\n",
       "      <td>Single</td>\n",
       "      <td>1.0</td>\n",
       "      <td>2.0</td>\n",
       "      <td>1.0</td>\n",
       "      <td>Excellent</td>\n",
       "      <td>2.0</td>\n",
       "      <td>Less than $50,000</td>\n",
       "      <td>1</td>\n",
       "    </tr>\n",
       "    <tr>\n",
       "      <th>326</th>\n",
       "      <td>0</td>\n",
       "      <td>Old School</td>\n",
       "      <td>Male</td>\n",
       "      <td>Married</td>\n",
       "      <td>2.0</td>\n",
       "      <td>2.0</td>\n",
       "      <td>2.0</td>\n",
       "      <td>Good</td>\n",
       "      <td>3.0</td>\n",
       "      <td>$100,000+</td>\n",
       "      <td>5</td>\n",
       "    </tr>\n",
       "    <tr>\n",
       "      <th>327</th>\n",
       "      <td>0</td>\n",
       "      <td>Old School</td>\n",
       "      <td>Female</td>\n",
       "      <td>Married</td>\n",
       "      <td>2.0</td>\n",
       "      <td>1.0</td>\n",
       "      <td>1.0</td>\n",
       "      <td>Good</td>\n",
       "      <td>2.0</td>\n",
       "      <td>$ 50,000-$ 100,000</td>\n",
       "      <td>5</td>\n",
       "    </tr>\n",
       "    <tr>\n",
       "      <th>328</th>\n",
       "      <td>0</td>\n",
       "      <td>Old School</td>\n",
       "      <td>Male</td>\n",
       "      <td>Married</td>\n",
       "      <td>1.0</td>\n",
       "      <td>1.0</td>\n",
       "      <td>1.0</td>\n",
       "      <td>Excellent</td>\n",
       "      <td>2.0</td>\n",
       "      <td>Less than $50,000</td>\n",
       "      <td>3</td>\n",
       "    </tr>\n",
       "    <tr>\n",
       "      <th>329</th>\n",
       "      <td>0</td>\n",
       "      <td>Old School</td>\n",
       "      <td>Female</td>\n",
       "      <td>Single</td>\n",
       "      <td>2.0</td>\n",
       "      <td>2.0</td>\n",
       "      <td>3.0</td>\n",
       "      <td>Excellent</td>\n",
       "      <td>2.0</td>\n",
       "      <td>Less than $50,000</td>\n",
       "      <td>5</td>\n",
       "    </tr>\n",
       "  </tbody>\n",
       "</table>\n",
       "<p>330 rows × 11 columns</p>\n",
       "</div>"
      ],
      "text/plain": [
       "     _rowstate_                    Movie  Gender Marital_Status  Sinage  \\\n",
       "0             0  Ferris Buellers Day Off  Female        Married     2.0   \n",
       "1             0  Ferris Buellers Day Off  Female         Single     1.0   \n",
       "2             0  Ferris Buellers Day Off    Male        Married     2.0   \n",
       "3             0  Ferris Buellers Day Off  Female        Married     1.0   \n",
       "4             0  Ferris Buellers Day Off  Female        Married     1.0   \n",
       "..          ...                      ...     ...            ...     ...   \n",
       "325           0               Old School  Female         Single     1.0   \n",
       "326           0               Old School    Male        Married     2.0   \n",
       "327           0               Old School  Female        Married     2.0   \n",
       "328           0               Old School    Male        Married     1.0   \n",
       "329           0               Old School  Female         Single     2.0   \n",
       "\n",
       "     Parking  Clean    Overall  Age              Income Hear_About  \n",
       "0        2.0    2.0       Good  3.0   Less than $50,000          5  \n",
       "1        1.0    1.0  Excellent  2.0   Less than $50,000          5  \n",
       "2        4.0    3.0       Good  4.0   Less than $50,000          5  \n",
       "3        3.0    2.0       Good  4.0   Less than $50,000          5  \n",
       "4        1.0    1.0  Excellent  3.0           $100,000+          1  \n",
       "..       ...    ...        ...  ...                 ...        ...  \n",
       "325      2.0    1.0  Excellent  2.0   Less than $50,000          1  \n",
       "326      2.0    2.0       Good  3.0           $100,000+          5  \n",
       "327      1.0    1.0       Good  2.0  $ 50,000-$ 100,000          5  \n",
       "328      1.0    1.0  Excellent  2.0   Less than $50,000          3  \n",
       "329      2.0    3.0  Excellent  2.0   Less than $50,000          5  \n",
       "\n",
       "[330 rows x 11 columns]"
      ]
     },
     "execution_count": 98,
     "metadata": {},
     "output_type": "execute_result"
    }
   ],
   "source": [
    "film"
   ]
  },
  {
   "cell_type": "markdown",
   "id": "be4aea40",
   "metadata": {},
   "source": [
    "Hear_About:The patron’s response\n",
    "\n",
    "1 = television\n",
    "\n",
    "2 = newspaper\n",
    "\n",
    "3 = radio\n",
    "\n",
    "4 = website\n",
    "\n",
    "5 = word of mouth\n"
   ]
  },
  {
   "cell_type": "code",
   "execution_count": 99,
   "id": "cdad30b8",
   "metadata": {},
   "outputs": [
    {
     "data": {
      "text/plain": [
       "Hear_About\n",
       "5      226\n",
       "4       41\n",
       "1       22\n",
       "3       14\n",
       "2       12\n",
       "2,5      2\n",
       "3,4      2\n",
       "4,5      1\n",
       "1,5      1\n",
       "5,4      1\n",
       "3,5      1\n",
       "Name: count, dtype: int64"
      ]
     },
     "execution_count": 99,
     "metadata": {},
     "output_type": "execute_result"
    }
   ],
   "source": [
    "film.Hear_About.value_counts()"
   ]
  },
  {
   "cell_type": "code",
   "execution_count": null,
   "id": "518dbfdd",
   "metadata": {},
   "outputs": [],
   "source": [
    "#Conclusion\n",
    "#The popularity of the film is mainly due to word of mouth\n",
    "#The frequency of advertisement should be increased on website and television"
   ]
  }
 ],
 "metadata": {
  "kernelspec": {
   "display_name": "Python 3 (ipykernel)",
   "language": "python",
   "name": "python3"
  },
  "language_info": {
   "codemirror_mode": {
    "name": "ipython",
    "version": 3
   },
   "file_extension": ".py",
   "mimetype": "text/x-python",
   "name": "python",
   "nbconvert_exporter": "python",
   "pygments_lexer": "ipython3",
   "version": "3.11.5"
  }
 },
 "nbformat": 4,
 "nbformat_minor": 5
}
