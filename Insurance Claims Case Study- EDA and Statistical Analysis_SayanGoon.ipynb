{
 "cells": [
  {
   "cell_type": "markdown",
   "id": "26d1dd01",
   "metadata": {},
   "source": [
    "## Import packages"
   ]
  },
  {
   "cell_type": "code",
   "execution_count": 2,
   "id": "4a3f3171",
   "metadata": {},
   "outputs": [],
   "source": [
    "import numpy as np\n",
    "import pandas as pd\n",
    "import matplotlib.pyplot as plt\n",
    "import seaborn as sns\n",
    "import scipy.stats as stats"
   ]
  },
  {
   "cell_type": "markdown",
   "id": "c37ce56b",
   "metadata": {},
   "source": [
    "### Import data"
   ]
  },
  {
   "cell_type": "code",
   "execution_count": 3,
   "id": "a80ffa02",
   "metadata": {},
   "outputs": [],
   "source": [
    "demographic=pd.read_csv(r\"C:\\sayan\\data science interview\\course\\Python\\projects\\Python foundation\\Python Foundation Case Study 3 - Insurance Claims Case Study\\Case Study 3 - Insurance Claims Case Study\\cust_demographics.csv\")\n",
    "claims=pd.read_csv(r\"C:\\sayan\\data science interview\\course\\Python\\projects\\Python foundation\\Python Foundation Case Study 3 - Insurance Claims Case Study\\Case Study 3 - Insurance Claims Case Study\\claims.csv\")"
   ]
  },
  {
   "cell_type": "code",
   "execution_count": 4,
   "id": "0ff2079d",
   "metadata": {},
   "outputs": [
    {
     "data": {
      "text/html": [
       "<div>\n",
       "<style scoped>\n",
       "    .dataframe tbody tr th:only-of-type {\n",
       "        vertical-align: middle;\n",
       "    }\n",
       "\n",
       "    .dataframe tbody tr th {\n",
       "        vertical-align: top;\n",
       "    }\n",
       "\n",
       "    .dataframe thead th {\n",
       "        text-align: right;\n",
       "    }\n",
       "</style>\n",
       "<table border=\"1\" class=\"dataframe\">\n",
       "  <thead>\n",
       "    <tr style=\"text-align: right;\">\n",
       "      <th></th>\n",
       "      <th>CUST_ID</th>\n",
       "      <th>gender</th>\n",
       "      <th>DateOfBirth</th>\n",
       "      <th>State</th>\n",
       "      <th>Contact</th>\n",
       "      <th>Segment</th>\n",
       "    </tr>\n",
       "  </thead>\n",
       "  <tbody>\n",
       "    <tr>\n",
       "      <th>506</th>\n",
       "      <td>89479887</td>\n",
       "      <td>Male</td>\n",
       "      <td>26-Feb-96</td>\n",
       "      <td>MO</td>\n",
       "      <td>527-156-6825</td>\n",
       "      <td>Platinum</td>\n",
       "    </tr>\n",
       "    <tr>\n",
       "      <th>210</th>\n",
       "      <td>94041088</td>\n",
       "      <td>Male</td>\n",
       "      <td>16-Jul-90</td>\n",
       "      <td>NM</td>\n",
       "      <td>815-641-3516</td>\n",
       "      <td>Silver</td>\n",
       "    </tr>\n",
       "    <tr>\n",
       "      <th>309</th>\n",
       "      <td>84229777</td>\n",
       "      <td>Female</td>\n",
       "      <td>18-Mar-76</td>\n",
       "      <td>TN</td>\n",
       "      <td>728-184-5376</td>\n",
       "      <td>Platinum</td>\n",
       "    </tr>\n",
       "    <tr>\n",
       "      <th>891</th>\n",
       "      <td>68709394</td>\n",
       "      <td>Female</td>\n",
       "      <td>23-Sep-66</td>\n",
       "      <td>ID</td>\n",
       "      <td>461-259-2635</td>\n",
       "      <td>Silver</td>\n",
       "    </tr>\n",
       "    <tr>\n",
       "      <th>764</th>\n",
       "      <td>11982382</td>\n",
       "      <td>Male</td>\n",
       "      <td>14-Mar-88</td>\n",
       "      <td>OH</td>\n",
       "      <td>439-628-2835</td>\n",
       "      <td>Gold</td>\n",
       "    </tr>\n",
       "  </tbody>\n",
       "</table>\n",
       "</div>"
      ],
      "text/plain": [
       "      CUST_ID  gender DateOfBirth State       Contact   Segment\n",
       "506  89479887    Male   26-Feb-96    MO  527-156-6825  Platinum\n",
       "210  94041088    Male   16-Jul-90    NM  815-641-3516    Silver\n",
       "309  84229777  Female   18-Mar-76    TN  728-184-5376  Platinum\n",
       "891  68709394  Female   23-Sep-66    ID  461-259-2635    Silver\n",
       "764  11982382    Male   14-Mar-88    OH  439-628-2835      Gold"
      ]
     },
     "execution_count": 4,
     "metadata": {},
     "output_type": "execute_result"
    }
   ],
   "source": [
    "demographic.sample(5)"
   ]
  },
  {
   "cell_type": "code",
   "execution_count": 5,
   "id": "ddb3ffe2",
   "metadata": {},
   "outputs": [
    {
     "name": "stdout",
     "output_type": "stream",
     "text": [
      "<class 'pandas.core.frame.DataFrame'>\n",
      "RangeIndex: 1085 entries, 0 to 1084\n",
      "Data columns (total 6 columns):\n",
      " #   Column       Non-Null Count  Dtype \n",
      "---  ------       --------------  ----- \n",
      " 0   CUST_ID      1085 non-null   int64 \n",
      " 1   gender       1085 non-null   object\n",
      " 2   DateOfBirth  1085 non-null   object\n",
      " 3   State        1085 non-null   object\n",
      " 4   Contact      1085 non-null   object\n",
      " 5   Segment      1085 non-null   object\n",
      "dtypes: int64(1), object(5)\n",
      "memory usage: 51.0+ KB\n"
     ]
    }
   ],
   "source": [
    "demographic.info()"
   ]
  },
  {
   "cell_type": "code",
   "execution_count": 6,
   "id": "5108b0e7",
   "metadata": {},
   "outputs": [
    {
     "data": {
      "text/html": [
       "<div>\n",
       "<style scoped>\n",
       "    .dataframe tbody tr th:only-of-type {\n",
       "        vertical-align: middle;\n",
       "    }\n",
       "\n",
       "    .dataframe tbody tr th {\n",
       "        vertical-align: top;\n",
       "    }\n",
       "\n",
       "    .dataframe thead th {\n",
       "        text-align: right;\n",
       "    }\n",
       "</style>\n",
       "<table border=\"1\" class=\"dataframe\">\n",
       "  <thead>\n",
       "    <tr style=\"text-align: right;\">\n",
       "      <th></th>\n",
       "      <th>claim_id</th>\n",
       "      <th>customer_id</th>\n",
       "      <th>incident_cause</th>\n",
       "      <th>claim_date</th>\n",
       "      <th>claim_area</th>\n",
       "      <th>police_report</th>\n",
       "      <th>claim_type</th>\n",
       "      <th>claim_amount</th>\n",
       "      <th>total_policy_claims</th>\n",
       "      <th>fraudulent</th>\n",
       "    </tr>\n",
       "  </thead>\n",
       "  <tbody>\n",
       "    <tr>\n",
       "      <th>948</th>\n",
       "      <td>834460</td>\n",
       "      <td>12826843</td>\n",
       "      <td>Crime</td>\n",
       "      <td>10/24/2017</td>\n",
       "      <td>Home</td>\n",
       "      <td>Unknown</td>\n",
       "      <td>Material only</td>\n",
       "      <td>$1340</td>\n",
       "      <td>1.0</td>\n",
       "      <td>No</td>\n",
       "    </tr>\n",
       "    <tr>\n",
       "      <th>938</th>\n",
       "      <td>57309481</td>\n",
       "      <td>16859101</td>\n",
       "      <td>Other driver error</td>\n",
       "      <td>04/18/2017</td>\n",
       "      <td>Auto</td>\n",
       "      <td>Unknown</td>\n",
       "      <td>Material only</td>\n",
       "      <td>$1970</td>\n",
       "      <td>5.0</td>\n",
       "      <td>No</td>\n",
       "    </tr>\n",
       "    <tr>\n",
       "      <th>1045</th>\n",
       "      <td>67344180</td>\n",
       "      <td>72664684</td>\n",
       "      <td>Other causes</td>\n",
       "      <td>07/28/2017</td>\n",
       "      <td>Home</td>\n",
       "      <td>Unknown</td>\n",
       "      <td>Material only</td>\n",
       "      <td>$2590</td>\n",
       "      <td>1.0</td>\n",
       "      <td>No</td>\n",
       "    </tr>\n",
       "    <tr>\n",
       "      <th>535</th>\n",
       "      <td>32756328</td>\n",
       "      <td>30864915</td>\n",
       "      <td>Driver error</td>\n",
       "      <td>05/28/2018</td>\n",
       "      <td>Auto</td>\n",
       "      <td>No</td>\n",
       "      <td>Material only</td>\n",
       "      <td>$2440</td>\n",
       "      <td>1.0</td>\n",
       "      <td>No</td>\n",
       "    </tr>\n",
       "    <tr>\n",
       "      <th>793</th>\n",
       "      <td>73088898</td>\n",
       "      <td>2121802</td>\n",
       "      <td>Other causes</td>\n",
       "      <td>02/17/2017</td>\n",
       "      <td>Auto</td>\n",
       "      <td>Yes</td>\n",
       "      <td>Material and injury</td>\n",
       "      <td>$32090</td>\n",
       "      <td>1.0</td>\n",
       "      <td>No</td>\n",
       "    </tr>\n",
       "  </tbody>\n",
       "</table>\n",
       "</div>"
      ],
      "text/plain": [
       "      claim_id  customer_id      incident_cause  claim_date claim_area  \\\n",
       "948     834460     12826843               Crime  10/24/2017       Home   \n",
       "938   57309481     16859101  Other driver error  04/18/2017       Auto   \n",
       "1045  67344180     72664684        Other causes  07/28/2017       Home   \n",
       "535   32756328     30864915        Driver error  05/28/2018       Auto   \n",
       "793   73088898      2121802        Other causes  02/17/2017       Auto   \n",
       "\n",
       "     police_report           claim_type claim_amount  total_policy_claims  \\\n",
       "948        Unknown        Material only        $1340                  1.0   \n",
       "938        Unknown        Material only        $1970                  5.0   \n",
       "1045       Unknown        Material only        $2590                  1.0   \n",
       "535             No        Material only        $2440                  1.0   \n",
       "793            Yes  Material and injury       $32090                  1.0   \n",
       "\n",
       "     fraudulent  \n",
       "948          No  \n",
       "938          No  \n",
       "1045         No  \n",
       "535          No  \n",
       "793          No  "
      ]
     },
     "execution_count": 6,
     "metadata": {},
     "output_type": "execute_result"
    }
   ],
   "source": [
    "claims.sample(5)"
   ]
  },
  {
   "cell_type": "code",
   "execution_count": 7,
   "id": "c7c3ecf6",
   "metadata": {},
   "outputs": [
    {
     "name": "stdout",
     "output_type": "stream",
     "text": [
      "<class 'pandas.core.frame.DataFrame'>\n",
      "RangeIndex: 1100 entries, 0 to 1099\n",
      "Data columns (total 10 columns):\n",
      " #   Column               Non-Null Count  Dtype  \n",
      "---  ------               --------------  -----  \n",
      " 0   claim_id             1100 non-null   int64  \n",
      " 1   customer_id          1100 non-null   int64  \n",
      " 2   incident_cause       1100 non-null   object \n",
      " 3   claim_date           1100 non-null   object \n",
      " 4   claim_area           1100 non-null   object \n",
      " 5   police_report        1100 non-null   object \n",
      " 6   claim_type           1100 non-null   object \n",
      " 7   claim_amount         1035 non-null   object \n",
      " 8   total_policy_claims  1090 non-null   float64\n",
      " 9   fraudulent           1100 non-null   object \n",
      "dtypes: float64(1), int64(2), object(7)\n",
      "memory usage: 86.1+ KB\n"
     ]
    }
   ],
   "source": [
    "claims.info()"
   ]
  },
  {
   "cell_type": "markdown",
   "id": "f82b5a03",
   "metadata": {},
   "source": [
    "### DATA PREPARATION (includes question 2 and 3)"
   ]
  },
  {
   "cell_type": "markdown",
   "id": "1719bc92",
   "metadata": {},
   "source": [
    "#### 2. Perform a data audit for the datatypes and find out if there are any mismatch within the current datatypes of the columns and their business significance."
   ]
  },
  {
   "cell_type": "markdown",
   "id": "5f83cde7",
   "metadata": {},
   "source": [
    "#### 3. Convert the column claim_amount to numeric. Use the appropriate modules/attributes to remove the $ sign"
   ]
  },
  {
   "cell_type": "code",
   "execution_count": 8,
   "id": "c2378703",
   "metadata": {},
   "outputs": [],
   "source": [
    "#CHANGING DOB DTYPES IN DEMOGRAPHIC\n",
    "demographic.DateOfBirth=pd.to_datetime(demographic.DateOfBirth,format='%d-%b-%y')"
   ]
  },
  {
   "cell_type": "code",
   "execution_count": 9,
   "id": "3a342bc3",
   "metadata": {},
   "outputs": [
    {
     "name": "stdout",
     "output_type": "stream",
     "text": [
      "<class 'pandas.core.frame.DataFrame'>\n",
      "RangeIndex: 1085 entries, 0 to 1084\n",
      "Data columns (total 6 columns):\n",
      " #   Column       Non-Null Count  Dtype         \n",
      "---  ------       --------------  -----         \n",
      " 0   CUST_ID      1085 non-null   int64         \n",
      " 1   gender       1085 non-null   object        \n",
      " 2   DateOfBirth  1085 non-null   datetime64[ns]\n",
      " 3   State        1085 non-null   object        \n",
      " 4   Contact      1085 non-null   object        \n",
      " 5   Segment      1085 non-null   object        \n",
      "dtypes: datetime64[ns](1), int64(1), object(4)\n",
      "memory usage: 51.0+ KB\n"
     ]
    }
   ],
   "source": [
    "demographic.info()"
   ]
  },
  {
   "cell_type": "code",
   "execution_count": 10,
   "id": "52267f2e",
   "metadata": {},
   "outputs": [
    {
     "data": {
      "text/html": [
       "<div>\n",
       "<style scoped>\n",
       "    .dataframe tbody tr th:only-of-type {\n",
       "        vertical-align: middle;\n",
       "    }\n",
       "\n",
       "    .dataframe tbody tr th {\n",
       "        vertical-align: top;\n",
       "    }\n",
       "\n",
       "    .dataframe thead th {\n",
       "        text-align: right;\n",
       "    }\n",
       "</style>\n",
       "<table border=\"1\" class=\"dataframe\">\n",
       "  <thead>\n",
       "    <tr style=\"text-align: right;\">\n",
       "      <th></th>\n",
       "      <th>CUST_ID</th>\n",
       "      <th>gender</th>\n",
       "      <th>DateOfBirth</th>\n",
       "      <th>State</th>\n",
       "      <th>Contact</th>\n",
       "      <th>Segment</th>\n",
       "    </tr>\n",
       "  </thead>\n",
       "  <tbody>\n",
       "    <tr>\n",
       "      <th>9</th>\n",
       "      <td>33507197</td>\n",
       "      <td>Female</td>\n",
       "      <td>2066-09-09</td>\n",
       "      <td>RI</td>\n",
       "      <td>165-519-4583</td>\n",
       "      <td>Gold</td>\n",
       "    </tr>\n",
       "    <tr>\n",
       "      <th>13</th>\n",
       "      <td>21240703</td>\n",
       "      <td>Male</td>\n",
       "      <td>2063-07-22</td>\n",
       "      <td>MD</td>\n",
       "      <td>473-561-2675</td>\n",
       "      <td>Silver</td>\n",
       "    </tr>\n",
       "    <tr>\n",
       "      <th>17</th>\n",
       "      <td>63916778</td>\n",
       "      <td>Male</td>\n",
       "      <td>2066-09-07</td>\n",
       "      <td>IL</td>\n",
       "      <td>146-157-4572</td>\n",
       "      <td>Platinum</td>\n",
       "    </tr>\n",
       "    <tr>\n",
       "      <th>18</th>\n",
       "      <td>17004138</td>\n",
       "      <td>Female</td>\n",
       "      <td>2065-08-13</td>\n",
       "      <td>WA</td>\n",
       "      <td>436-354-4682</td>\n",
       "      <td>Silver</td>\n",
       "    </tr>\n",
       "    <tr>\n",
       "      <th>20</th>\n",
       "      <td>75584003</td>\n",
       "      <td>Female</td>\n",
       "      <td>2067-04-22</td>\n",
       "      <td>OK</td>\n",
       "      <td>723-418-3248</td>\n",
       "      <td>Silver</td>\n",
       "    </tr>\n",
       "    <tr>\n",
       "      <th>...</th>\n",
       "      <td>...</td>\n",
       "      <td>...</td>\n",
       "      <td>...</td>\n",
       "      <td>...</td>\n",
       "      <td>...</td>\n",
       "      <td>...</td>\n",
       "    </tr>\n",
       "    <tr>\n",
       "      <th>1058</th>\n",
       "      <td>56425562</td>\n",
       "      <td>Female</td>\n",
       "      <td>2063-03-18</td>\n",
       "      <td>GA</td>\n",
       "      <td>823-712-3528</td>\n",
       "      <td>Platinum</td>\n",
       "    </tr>\n",
       "    <tr>\n",
       "      <th>1074</th>\n",
       "      <td>87596868</td>\n",
       "      <td>Male</td>\n",
       "      <td>2061-11-18</td>\n",
       "      <td>AZ</td>\n",
       "      <td>573-396-3182</td>\n",
       "      <td>Silver</td>\n",
       "    </tr>\n",
       "    <tr>\n",
       "      <th>1077</th>\n",
       "      <td>65208809</td>\n",
       "      <td>Male</td>\n",
       "      <td>2064-04-22</td>\n",
       "      <td>VA</td>\n",
       "      <td>286-128-6132</td>\n",
       "      <td>Platinum</td>\n",
       "    </tr>\n",
       "    <tr>\n",
       "      <th>1079</th>\n",
       "      <td>46850495</td>\n",
       "      <td>Male</td>\n",
       "      <td>2062-08-21</td>\n",
       "      <td>NV</td>\n",
       "      <td>761-193-2346</td>\n",
       "      <td>Platinum</td>\n",
       "    </tr>\n",
       "    <tr>\n",
       "      <th>1083</th>\n",
       "      <td>11256802</td>\n",
       "      <td>Female</td>\n",
       "      <td>2064-10-22</td>\n",
       "      <td>LA</td>\n",
       "      <td>469-345-5617</td>\n",
       "      <td>Silver</td>\n",
       "    </tr>\n",
       "  </tbody>\n",
       "</table>\n",
       "<p>246 rows × 6 columns</p>\n",
       "</div>"
      ],
      "text/plain": [
       "       CUST_ID  gender DateOfBirth State       Contact   Segment\n",
       "9     33507197  Female  2066-09-09    RI  165-519-4583      Gold\n",
       "13    21240703    Male  2063-07-22    MD  473-561-2675    Silver\n",
       "17    63916778    Male  2066-09-07    IL  146-157-4572  Platinum\n",
       "18    17004138  Female  2065-08-13    WA  436-354-4682    Silver\n",
       "20    75584003  Female  2067-04-22    OK  723-418-3248    Silver\n",
       "...        ...     ...         ...   ...           ...       ...\n",
       "1058  56425562  Female  2063-03-18    GA  823-712-3528  Platinum\n",
       "1074  87596868    Male  2061-11-18    AZ  573-396-3182    Silver\n",
       "1077  65208809    Male  2064-04-22    VA  286-128-6132  Platinum\n",
       "1079  46850495    Male  2062-08-21    NV  761-193-2346  Platinum\n",
       "1083  11256802  Female  2064-10-22    LA  469-345-5617    Silver\n",
       "\n",
       "[246 rows x 6 columns]"
      ]
     },
     "execution_count": 10,
     "metadata": {},
     "output_type": "execute_result"
    }
   ],
   "source": [
    "#NEED TO FIX THIS YEAR\n",
    "demographic[demographic.DateOfBirth.apply(lambda x: x.year>2024)]"
   ]
  },
  {
   "cell_type": "code",
   "execution_count": 11,
   "id": "05dd0908",
   "metadata": {},
   "outputs": [],
   "source": [
    "def rectify_year(x):\n",
    "    if x.year>2024:\n",
    "        return x+pd.DateOffset(years=-100)\n",
    "    else:\n",
    "        return x"
   ]
  },
  {
   "cell_type": "code",
   "execution_count": 12,
   "id": "6841164e",
   "metadata": {},
   "outputs": [
    {
     "data": {
      "text/plain": [
       "0      1979-01-12\n",
       "1      1970-01-13\n",
       "2      1984-03-11\n",
       "3      1986-05-01\n",
       "4      1977-05-13\n",
       "          ...    \n",
       "1080   1981-03-15\n",
       "1081   1996-07-07\n",
       "1082   1990-04-11\n",
       "1083   1964-10-22\n",
       "1084   1995-07-12\n",
       "Name: DateOfBirth, Length: 1085, dtype: datetime64[ns]"
      ]
     },
     "execution_count": 12,
     "metadata": {},
     "output_type": "execute_result"
    }
   ],
   "source": [
    "demographic.DateOfBirth.apply(rectify_year)"
   ]
  },
  {
   "cell_type": "code",
   "execution_count": 13,
   "id": "33274f7c",
   "metadata": {},
   "outputs": [],
   "source": [
    "demographic.DateOfBirth=demographic.DateOfBirth.apply(rectify_year)"
   ]
  },
  {
   "cell_type": "code",
   "execution_count": 14,
   "id": "3238aed5",
   "metadata": {},
   "outputs": [
    {
     "data": {
      "text/html": [
       "<div>\n",
       "<style scoped>\n",
       "    .dataframe tbody tr th:only-of-type {\n",
       "        vertical-align: middle;\n",
       "    }\n",
       "\n",
       "    .dataframe tbody tr th {\n",
       "        vertical-align: top;\n",
       "    }\n",
       "\n",
       "    .dataframe thead th {\n",
       "        text-align: right;\n",
       "    }\n",
       "</style>\n",
       "<table border=\"1\" class=\"dataframe\">\n",
       "  <thead>\n",
       "    <tr style=\"text-align: right;\">\n",
       "      <th></th>\n",
       "      <th>CUST_ID</th>\n",
       "      <th>gender</th>\n",
       "      <th>DateOfBirth</th>\n",
       "      <th>State</th>\n",
       "      <th>Contact</th>\n",
       "      <th>Segment</th>\n",
       "    </tr>\n",
       "  </thead>\n",
       "  <tbody>\n",
       "  </tbody>\n",
       "</table>\n",
       "</div>"
      ],
      "text/plain": [
       "Empty DataFrame\n",
       "Columns: [CUST_ID, gender, DateOfBirth, State, Contact, Segment]\n",
       "Index: []"
      ]
     },
     "execution_count": 14,
     "metadata": {},
     "output_type": "execute_result"
    }
   ],
   "source": [
    "demographic[demographic.DateOfBirth.apply(lambda x: x.year>2024)]"
   ]
  },
  {
   "cell_type": "code",
   "execution_count": 15,
   "id": "dfa5754d",
   "metadata": {},
   "outputs": [
    {
     "data": {
      "text/plain": [
       "CUST_ID                   33507197\n",
       "gender                      Female\n",
       "DateOfBirth    1966-09-09 00:00:00\n",
       "State                           RI\n",
       "Contact               165-519-4583\n",
       "Segment                       Gold\n",
       "Name: 9, dtype: object"
      ]
     },
     "execution_count": 15,
     "metadata": {},
     "output_type": "execute_result"
    }
   ],
   "source": [
    "#RECTIFIED\n",
    "demographic.iloc[9]"
   ]
  },
  {
   "cell_type": "code",
   "execution_count": 16,
   "id": "4d735950",
   "metadata": {},
   "outputs": [],
   "source": [
    "#CHANGING CLAIM AMOUNT DTYPES\n",
    "claims.claim_amount=claims.claim_amount.str.replace('$','').astype(np.float32)"
   ]
  },
  {
   "cell_type": "code",
   "execution_count": 17,
   "id": "108a7cbf",
   "metadata": {},
   "outputs": [],
   "source": [
    "#CHANGING CLAIM DATE DTYPES\n",
    "claims.claim_date=pd.to_datetime(claims.claim_date, format='%m/%d/%Y')"
   ]
  },
  {
   "cell_type": "code",
   "execution_count": 18,
   "id": "1cb609f7",
   "metadata": {},
   "outputs": [],
   "source": [
    "#FLOAT64 NOT REQUIRED TO STORE\n",
    "claims.total_policy_claims=claims.total_policy_claims.astype(np.float16)"
   ]
  },
  {
   "cell_type": "code",
   "execution_count": 19,
   "id": "3b268763",
   "metadata": {},
   "outputs": [
    {
     "name": "stdout",
     "output_type": "stream",
     "text": [
      "<class 'pandas.core.frame.DataFrame'>\n",
      "RangeIndex: 1100 entries, 0 to 1099\n",
      "Data columns (total 10 columns):\n",
      " #   Column               Non-Null Count  Dtype         \n",
      "---  ------               --------------  -----         \n",
      " 0   claim_id             1100 non-null   int64         \n",
      " 1   customer_id          1100 non-null   int64         \n",
      " 2   incident_cause       1100 non-null   object        \n",
      " 3   claim_date           1100 non-null   datetime64[ns]\n",
      " 4   claim_area           1100 non-null   object        \n",
      " 5   police_report        1100 non-null   object        \n",
      " 6   claim_type           1100 non-null   object        \n",
      " 7   claim_amount         1035 non-null   float32       \n",
      " 8   total_policy_claims  1090 non-null   float16       \n",
      " 9   fraudulent           1100 non-null   object        \n",
      "dtypes: datetime64[ns](1), float16(1), float32(1), int64(2), object(5)\n",
      "memory usage: 75.3+ KB\n"
     ]
    }
   ],
   "source": [
    "claims.info()"
   ]
  },
  {
   "cell_type": "markdown",
   "id": "50a4d800",
   "metadata": {},
   "source": [
    "### 1. Import claims_data.csv and cust_data.csv which is provided to you and combine the two datasets appropriately to create a 360-degree view of the data. Use the same for the subsequent questions.\n"
   ]
  },
  {
   "cell_type": "code",
   "execution_count": 20,
   "id": "ee354e60",
   "metadata": {},
   "outputs": [
    {
     "data": {
      "text/html": [
       "<div>\n",
       "<style scoped>\n",
       "    .dataframe tbody tr th:only-of-type {\n",
       "        vertical-align: middle;\n",
       "    }\n",
       "\n",
       "    .dataframe tbody tr th {\n",
       "        vertical-align: top;\n",
       "    }\n",
       "\n",
       "    .dataframe thead th {\n",
       "        text-align: right;\n",
       "    }\n",
       "</style>\n",
       "<table border=\"1\" class=\"dataframe\">\n",
       "  <thead>\n",
       "    <tr style=\"text-align: right;\">\n",
       "      <th></th>\n",
       "      <th>CUST_ID</th>\n",
       "      <th>gender</th>\n",
       "      <th>DateOfBirth</th>\n",
       "      <th>State</th>\n",
       "      <th>Contact</th>\n",
       "      <th>Segment</th>\n",
       "      <th>claim_id</th>\n",
       "      <th>incident_cause</th>\n",
       "      <th>claim_date</th>\n",
       "      <th>claim_area</th>\n",
       "      <th>police_report</th>\n",
       "      <th>claim_type</th>\n",
       "      <th>claim_amount</th>\n",
       "      <th>total_policy_claims</th>\n",
       "      <th>fraudulent</th>\n",
       "    </tr>\n",
       "  </thead>\n",
       "  <tbody>\n",
       "    <tr>\n",
       "      <th>0</th>\n",
       "      <td>21868593</td>\n",
       "      <td>Female</td>\n",
       "      <td>1979-01-12</td>\n",
       "      <td>VT</td>\n",
       "      <td>789-916-8172</td>\n",
       "      <td>Platinum</td>\n",
       "      <td>54004764</td>\n",
       "      <td>Driver error</td>\n",
       "      <td>2017-11-27</td>\n",
       "      <td>Auto</td>\n",
       "      <td>No</td>\n",
       "      <td>Material only</td>\n",
       "      <td>2980.0</td>\n",
       "      <td>1.0</td>\n",
       "      <td>No</td>\n",
       "    </tr>\n",
       "    <tr>\n",
       "      <th>1</th>\n",
       "      <td>75740424</td>\n",
       "      <td>Female</td>\n",
       "      <td>1970-01-13</td>\n",
       "      <td>ME</td>\n",
       "      <td>265-543-1264</td>\n",
       "      <td>Silver</td>\n",
       "      <td>33985796</td>\n",
       "      <td>Crime</td>\n",
       "      <td>2018-10-03</td>\n",
       "      <td>Home</td>\n",
       "      <td>Unknown</td>\n",
       "      <td>Material only</td>\n",
       "      <td>2980.0</td>\n",
       "      <td>3.0</td>\n",
       "      <td>No</td>\n",
       "    </tr>\n",
       "    <tr>\n",
       "      <th>2</th>\n",
       "      <td>30308357</td>\n",
       "      <td>Female</td>\n",
       "      <td>1984-03-11</td>\n",
       "      <td>TN</td>\n",
       "      <td>798-631-4758</td>\n",
       "      <td>Silver</td>\n",
       "      <td>53522022</td>\n",
       "      <td>Other driver error</td>\n",
       "      <td>2018-02-02</td>\n",
       "      <td>Auto</td>\n",
       "      <td>No</td>\n",
       "      <td>Material only</td>\n",
       "      <td>3369.5</td>\n",
       "      <td>1.0</td>\n",
       "      <td>Yes</td>\n",
       "    </tr>\n",
       "    <tr>\n",
       "      <th>3</th>\n",
       "      <td>30308357</td>\n",
       "      <td>Female</td>\n",
       "      <td>1984-03-11</td>\n",
       "      <td>TN</td>\n",
       "      <td>798-631-4758</td>\n",
       "      <td>Silver</td>\n",
       "      <td>63017412</td>\n",
       "      <td>Driver error</td>\n",
       "      <td>2018-04-04</td>\n",
       "      <td>Auto</td>\n",
       "      <td>No</td>\n",
       "      <td>Material only</td>\n",
       "      <td>1950.0</td>\n",
       "      <td>6.0</td>\n",
       "      <td>No</td>\n",
       "    </tr>\n",
       "    <tr>\n",
       "      <th>4</th>\n",
       "      <td>47830476</td>\n",
       "      <td>Female</td>\n",
       "      <td>1986-05-01</td>\n",
       "      <td>MA</td>\n",
       "      <td>413-187-7945</td>\n",
       "      <td>Silver</td>\n",
       "      <td>13015401</td>\n",
       "      <td>Natural causes</td>\n",
       "      <td>2018-06-17</td>\n",
       "      <td>Auto</td>\n",
       "      <td>No</td>\n",
       "      <td>Material only</td>\n",
       "      <td>1680.0</td>\n",
       "      <td>1.0</td>\n",
       "      <td>No</td>\n",
       "    </tr>\n",
       "    <tr>\n",
       "      <th>...</th>\n",
       "      <td>...</td>\n",
       "      <td>...</td>\n",
       "      <td>...</td>\n",
       "      <td>...</td>\n",
       "      <td>...</td>\n",
       "      <td>...</td>\n",
       "      <td>...</td>\n",
       "      <td>...</td>\n",
       "      <td>...</td>\n",
       "      <td>...</td>\n",
       "      <td>...</td>\n",
       "      <td>...</td>\n",
       "      <td>...</td>\n",
       "      <td>...</td>\n",
       "      <td>...</td>\n",
       "    </tr>\n",
       "    <tr>\n",
       "      <th>1080</th>\n",
       "      <td>79539873</td>\n",
       "      <td>Female</td>\n",
       "      <td>1981-03-15</td>\n",
       "      <td>ND</td>\n",
       "      <td>459-425-4319</td>\n",
       "      <td>Platinum</td>\n",
       "      <td>62020796</td>\n",
       "      <td>Other driver error</td>\n",
       "      <td>2018-09-06</td>\n",
       "      <td>Auto</td>\n",
       "      <td>Yes</td>\n",
       "      <td>Material only</td>\n",
       "      <td>1770.0</td>\n",
       "      <td>1.0</td>\n",
       "      <td>No</td>\n",
       "    </tr>\n",
       "    <tr>\n",
       "      <th>1081</th>\n",
       "      <td>42364152</td>\n",
       "      <td>Female</td>\n",
       "      <td>1996-07-07</td>\n",
       "      <td>ID</td>\n",
       "      <td>529-462-1635</td>\n",
       "      <td>Silver</td>\n",
       "      <td>63269067</td>\n",
       "      <td>Other causes</td>\n",
       "      <td>2017-05-09</td>\n",
       "      <td>Home</td>\n",
       "      <td>No</td>\n",
       "      <td>Material only</td>\n",
       "      <td>2800.0</td>\n",
       "      <td>1.0</td>\n",
       "      <td>No</td>\n",
       "    </tr>\n",
       "    <tr>\n",
       "      <th>1082</th>\n",
       "      <td>19888166</td>\n",
       "      <td>Male</td>\n",
       "      <td>1990-04-11</td>\n",
       "      <td>WI</td>\n",
       "      <td>712-651-9613</td>\n",
       "      <td>Gold</td>\n",
       "      <td>22690595</td>\n",
       "      <td>Other driver error</td>\n",
       "      <td>2017-05-15</td>\n",
       "      <td>Auto</td>\n",
       "      <td>Yes</td>\n",
       "      <td>Injury only</td>\n",
       "      <td>33080.0</td>\n",
       "      <td>2.0</td>\n",
       "      <td>No</td>\n",
       "    </tr>\n",
       "    <tr>\n",
       "      <th>1083</th>\n",
       "      <td>11256802</td>\n",
       "      <td>Female</td>\n",
       "      <td>1964-10-22</td>\n",
       "      <td>LA</td>\n",
       "      <td>469-345-5617</td>\n",
       "      <td>Silver</td>\n",
       "      <td>12376894</td>\n",
       "      <td>Other driver error</td>\n",
       "      <td>2017-04-18</td>\n",
       "      <td>Auto</td>\n",
       "      <td>No</td>\n",
       "      <td>Material only</td>\n",
       "      <td>2840.0</td>\n",
       "      <td>4.0</td>\n",
       "      <td>No</td>\n",
       "    </tr>\n",
       "    <tr>\n",
       "      <th>1084</th>\n",
       "      <td>61575264</td>\n",
       "      <td>Male</td>\n",
       "      <td>1995-07-12</td>\n",
       "      <td>WY</td>\n",
       "      <td>182-385-1392</td>\n",
       "      <td>Gold</td>\n",
       "      <td>63226031</td>\n",
       "      <td>Natural causes</td>\n",
       "      <td>2017-03-16</td>\n",
       "      <td>Auto</td>\n",
       "      <td>No</td>\n",
       "      <td>Material only</td>\n",
       "      <td>1490.0</td>\n",
       "      <td>1.0</td>\n",
       "      <td>No</td>\n",
       "    </tr>\n",
       "  </tbody>\n",
       "</table>\n",
       "<p>1085 rows × 15 columns</p>\n",
       "</div>"
      ],
      "text/plain": [
       "       CUST_ID  gender DateOfBirth State       Contact   Segment  claim_id  \\\n",
       "0     21868593  Female  1979-01-12    VT  789-916-8172  Platinum  54004764   \n",
       "1     75740424  Female  1970-01-13    ME  265-543-1264    Silver  33985796   \n",
       "2     30308357  Female  1984-03-11    TN  798-631-4758    Silver  53522022   \n",
       "3     30308357  Female  1984-03-11    TN  798-631-4758    Silver  63017412   \n",
       "4     47830476  Female  1986-05-01    MA  413-187-7945    Silver  13015401   \n",
       "...        ...     ...         ...   ...           ...       ...       ...   \n",
       "1080  79539873  Female  1981-03-15    ND  459-425-4319  Platinum  62020796   \n",
       "1081  42364152  Female  1996-07-07    ID  529-462-1635    Silver  63269067   \n",
       "1082  19888166    Male  1990-04-11    WI  712-651-9613      Gold  22690595   \n",
       "1083  11256802  Female  1964-10-22    LA  469-345-5617    Silver  12376894   \n",
       "1084  61575264    Male  1995-07-12    WY  182-385-1392      Gold  63226031   \n",
       "\n",
       "          incident_cause claim_date claim_area police_report     claim_type  \\\n",
       "0           Driver error 2017-11-27       Auto            No  Material only   \n",
       "1                  Crime 2018-10-03       Home       Unknown  Material only   \n",
       "2     Other driver error 2018-02-02       Auto            No  Material only   \n",
       "3           Driver error 2018-04-04       Auto            No  Material only   \n",
       "4         Natural causes 2018-06-17       Auto            No  Material only   \n",
       "...                  ...        ...        ...           ...            ...   \n",
       "1080  Other driver error 2018-09-06       Auto           Yes  Material only   \n",
       "1081        Other causes 2017-05-09       Home            No  Material only   \n",
       "1082  Other driver error 2017-05-15       Auto           Yes    Injury only   \n",
       "1083  Other driver error 2017-04-18       Auto            No  Material only   \n",
       "1084      Natural causes 2017-03-16       Auto            No  Material only   \n",
       "\n",
       "      claim_amount  total_policy_claims fraudulent  \n",
       "0           2980.0                  1.0         No  \n",
       "1           2980.0                  3.0         No  \n",
       "2           3369.5                  1.0        Yes  \n",
       "3           1950.0                  6.0         No  \n",
       "4           1680.0                  1.0         No  \n",
       "...            ...                  ...        ...  \n",
       "1080        1770.0                  1.0         No  \n",
       "1081        2800.0                  1.0         No  \n",
       "1082       33080.0                  2.0         No  \n",
       "1083        2840.0                  4.0         No  \n",
       "1084        1490.0                  1.0         No  \n",
       "\n",
       "[1085 rows x 15 columns]"
      ]
     },
     "execution_count": 20,
     "metadata": {},
     "output_type": "execute_result"
    }
   ],
   "source": [
    "final_data=pd.merge(left=demographic,right=claims,left_on='CUST_ID',right_on='customer_id')\n",
    "final_data.drop(columns='customer_id',inplace=True)\n",
    "final_data"
   ]
  },
  {
   "cell_type": "code",
   "execution_count": 21,
   "id": "369759f7",
   "metadata": {},
   "outputs": [
    {
     "name": "stdout",
     "output_type": "stream",
     "text": [
      "<class 'pandas.core.frame.DataFrame'>\n",
      "RangeIndex: 1085 entries, 0 to 1084\n",
      "Data columns (total 15 columns):\n",
      " #   Column               Non-Null Count  Dtype         \n",
      "---  ------               --------------  -----         \n",
      " 0   CUST_ID              1085 non-null   int64         \n",
      " 1   gender               1085 non-null   object        \n",
      " 2   DateOfBirth          1085 non-null   datetime64[ns]\n",
      " 3   State                1085 non-null   object        \n",
      " 4   Contact              1085 non-null   object        \n",
      " 5   Segment              1085 non-null   object        \n",
      " 6   claim_id             1085 non-null   int64         \n",
      " 7   incident_cause       1085 non-null   object        \n",
      " 8   claim_date           1085 non-null   datetime64[ns]\n",
      " 9   claim_area           1085 non-null   object        \n",
      " 10  police_report        1085 non-null   object        \n",
      " 11  claim_type           1085 non-null   object        \n",
      " 12  claim_amount         1020 non-null   float32       \n",
      " 13  total_policy_claims  1075 non-null   float16       \n",
      " 14  fraudulent           1085 non-null   object        \n",
      "dtypes: datetime64[ns](2), float16(1), float32(1), int64(2), object(9)\n",
      "memory usage: 116.7+ KB\n"
     ]
    }
   ],
   "source": [
    "final_data.info()"
   ]
  },
  {
   "cell_type": "markdown",
   "id": "c9c3a39f",
   "metadata": {},
   "source": [
    "### 4. Of all the injury claims, some of them have gone unreported with the police. Create an alert flag (1,0) for all such claims"
   ]
  },
  {
   "cell_type": "code",
   "execution_count": 22,
   "id": "e8231435",
   "metadata": {},
   "outputs": [
    {
     "data": {
      "text/plain": [
       "array(['No', 'Unknown', 'Yes'], dtype=object)"
      ]
     },
     "execution_count": 22,
     "metadata": {},
     "output_type": "execute_result"
    }
   ],
   "source": [
    "final_data.police_report.unique()"
   ]
  },
  {
   "cell_type": "code",
   "execution_count": 23,
   "id": "176f3965",
   "metadata": {},
   "outputs": [],
   "source": [
    "final_data.police_report=np.where(final_data.police_report=='Yes',1,0)"
   ]
  },
  {
   "cell_type": "code",
   "execution_count": 24,
   "id": "4e741b44",
   "metadata": {},
   "outputs": [
    {
     "data": {
      "text/html": [
       "<div>\n",
       "<style scoped>\n",
       "    .dataframe tbody tr th:only-of-type {\n",
       "        vertical-align: middle;\n",
       "    }\n",
       "\n",
       "    .dataframe tbody tr th {\n",
       "        vertical-align: top;\n",
       "    }\n",
       "\n",
       "    .dataframe thead th {\n",
       "        text-align: right;\n",
       "    }\n",
       "</style>\n",
       "<table border=\"1\" class=\"dataframe\">\n",
       "  <thead>\n",
       "    <tr style=\"text-align: right;\">\n",
       "      <th></th>\n",
       "      <th>CUST_ID</th>\n",
       "      <th>gender</th>\n",
       "      <th>DateOfBirth</th>\n",
       "      <th>State</th>\n",
       "      <th>Contact</th>\n",
       "      <th>Segment</th>\n",
       "      <th>claim_id</th>\n",
       "      <th>incident_cause</th>\n",
       "      <th>claim_date</th>\n",
       "      <th>claim_area</th>\n",
       "      <th>police_report</th>\n",
       "      <th>claim_type</th>\n",
       "      <th>claim_amount</th>\n",
       "      <th>total_policy_claims</th>\n",
       "      <th>fraudulent</th>\n",
       "    </tr>\n",
       "  </thead>\n",
       "  <tbody>\n",
       "    <tr>\n",
       "      <th>33</th>\n",
       "      <td>80379865</td>\n",
       "      <td>Male</td>\n",
       "      <td>1969-02-27</td>\n",
       "      <td>NM</td>\n",
       "      <td>427-513-8479</td>\n",
       "      <td>Gold</td>\n",
       "      <td>18210740</td>\n",
       "      <td>Natural causes</td>\n",
       "      <td>2018-02-09</td>\n",
       "      <td>Auto</td>\n",
       "      <td>0</td>\n",
       "      <td>Injury only</td>\n",
       "      <td>18580.0</td>\n",
       "      <td>NaN</td>\n",
       "      <td>No</td>\n",
       "    </tr>\n",
       "    <tr>\n",
       "      <th>794</th>\n",
       "      <td>30966524</td>\n",
       "      <td>Male</td>\n",
       "      <td>1985-01-31</td>\n",
       "      <td>RI</td>\n",
       "      <td>847-169-5361</td>\n",
       "      <td>Gold</td>\n",
       "      <td>23145140</td>\n",
       "      <td>Natural causes</td>\n",
       "      <td>2018-04-17</td>\n",
       "      <td>Auto</td>\n",
       "      <td>0</td>\n",
       "      <td>Injury only</td>\n",
       "      <td>16870.0</td>\n",
       "      <td>1.0</td>\n",
       "      <td>No</td>\n",
       "    </tr>\n",
       "    <tr>\n",
       "      <th>572</th>\n",
       "      <td>62935855</td>\n",
       "      <td>Male</td>\n",
       "      <td>1993-12-16</td>\n",
       "      <td>MD</td>\n",
       "      <td>162-183-8139</td>\n",
       "      <td>Gold</td>\n",
       "      <td>53902980</td>\n",
       "      <td>Other driver error</td>\n",
       "      <td>2017-08-18</td>\n",
       "      <td>Auto</td>\n",
       "      <td>0</td>\n",
       "      <td>Material only</td>\n",
       "      <td>2370.0</td>\n",
       "      <td>1.0</td>\n",
       "      <td>No</td>\n",
       "    </tr>\n",
       "  </tbody>\n",
       "</table>\n",
       "</div>"
      ],
      "text/plain": [
       "      CUST_ID gender DateOfBirth State       Contact Segment  claim_id  \\\n",
       "33   80379865   Male  1969-02-27    NM  427-513-8479    Gold  18210740   \n",
       "794  30966524   Male  1985-01-31    RI  847-169-5361    Gold  23145140   \n",
       "572  62935855   Male  1993-12-16    MD  162-183-8139    Gold  53902980   \n",
       "\n",
       "         incident_cause claim_date claim_area  police_report     claim_type  \\\n",
       "33       Natural causes 2018-02-09       Auto              0    Injury only   \n",
       "794      Natural causes 2018-04-17       Auto              0    Injury only   \n",
       "572  Other driver error 2017-08-18       Auto              0  Material only   \n",
       "\n",
       "     claim_amount  total_policy_claims fraudulent  \n",
       "33        18580.0                  NaN         No  \n",
       "794       16870.0                  1.0         No  \n",
       "572        2370.0                  1.0         No  "
      ]
     },
     "execution_count": 24,
     "metadata": {},
     "output_type": "execute_result"
    }
   ],
   "source": [
    "final_data.sample(3)"
   ]
  },
  {
   "cell_type": "markdown",
   "id": "ae8689e9",
   "metadata": {},
   "source": [
    "### 5. One customer can claim for insurance more than once and in each claim,multiple categories of claims can be involved. However, customer ID should remain unique. \n",
    "Retain the most recent observation and delete any duplicated records in\n",
    "the data based on the customer ID column."
   ]
  },
  {
   "cell_type": "code",
   "execution_count": 25,
   "id": "7ebc8759",
   "metadata": {},
   "outputs": [
    {
     "data": {
      "text/plain": [
       "0"
      ]
     },
     "execution_count": 25,
     "metadata": {},
     "output_type": "execute_result"
    }
   ],
   "source": [
    "#NO DUPLICATE ROW\n",
    "final_data.duplicated(subset=['CUST_ID','claim_id']).sum()"
   ]
  },
  {
   "cell_type": "code",
   "execution_count": 26,
   "id": "a8fafe3a",
   "metadata": {},
   "outputs": [],
   "source": [
    "#BASED ON THE QUESTION DROPING THE OLD CLAIMS\n",
    "final_data.sort_values(by='claim_date', ascending =False,inplace=True,ignore_index=True)"
   ]
  },
  {
   "cell_type": "code",
   "execution_count": 27,
   "id": "918bed43",
   "metadata": {},
   "outputs": [
    {
     "data": {
      "text/html": [
       "<div>\n",
       "<style scoped>\n",
       "    .dataframe tbody tr th:only-of-type {\n",
       "        vertical-align: middle;\n",
       "    }\n",
       "\n",
       "    .dataframe tbody tr th {\n",
       "        vertical-align: top;\n",
       "    }\n",
       "\n",
       "    .dataframe thead th {\n",
       "        text-align: right;\n",
       "    }\n",
       "</style>\n",
       "<table border=\"1\" class=\"dataframe\">\n",
       "  <thead>\n",
       "    <tr style=\"text-align: right;\">\n",
       "      <th></th>\n",
       "      <th>CUST_ID</th>\n",
       "      <th>gender</th>\n",
       "      <th>DateOfBirth</th>\n",
       "      <th>State</th>\n",
       "      <th>Contact</th>\n",
       "      <th>Segment</th>\n",
       "      <th>claim_id</th>\n",
       "      <th>incident_cause</th>\n",
       "      <th>claim_date</th>\n",
       "      <th>claim_area</th>\n",
       "      <th>police_report</th>\n",
       "      <th>claim_type</th>\n",
       "      <th>claim_amount</th>\n",
       "      <th>total_policy_claims</th>\n",
       "      <th>fraudulent</th>\n",
       "    </tr>\n",
       "  </thead>\n",
       "  <tbody>\n",
       "    <tr>\n",
       "      <th>0</th>\n",
       "      <td>93915431</td>\n",
       "      <td>Male</td>\n",
       "      <td>1967-09-08</td>\n",
       "      <td>ME</td>\n",
       "      <td>134-785-1687</td>\n",
       "      <td>Gold</td>\n",
       "      <td>99775483</td>\n",
       "      <td>Other causes</td>\n",
       "      <td>2018-10-30</td>\n",
       "      <td>Auto</td>\n",
       "      <td>0</td>\n",
       "      <td>Material and injury</td>\n",
       "      <td>42124.5</td>\n",
       "      <td>1.0</td>\n",
       "      <td>Yes</td>\n",
       "    </tr>\n",
       "    <tr>\n",
       "      <th>1</th>\n",
       "      <td>38011078</td>\n",
       "      <td>Female</td>\n",
       "      <td>1976-05-20</td>\n",
       "      <td>NE</td>\n",
       "      <td>271-123-1475</td>\n",
       "      <td>Gold</td>\n",
       "      <td>98795403</td>\n",
       "      <td>Crime</td>\n",
       "      <td>2018-10-30</td>\n",
       "      <td>Auto</td>\n",
       "      <td>0</td>\n",
       "      <td>Material only</td>\n",
       "      <td>1940.0</td>\n",
       "      <td>1.0</td>\n",
       "      <td>No</td>\n",
       "    </tr>\n",
       "    <tr>\n",
       "      <th>2</th>\n",
       "      <td>58451506</td>\n",
       "      <td>Male</td>\n",
       "      <td>1968-04-22</td>\n",
       "      <td>FL</td>\n",
       "      <td>673-574-7823</td>\n",
       "      <td>Gold</td>\n",
       "      <td>43042986</td>\n",
       "      <td>Natural causes</td>\n",
       "      <td>2018-10-30</td>\n",
       "      <td>Auto</td>\n",
       "      <td>0</td>\n",
       "      <td>Material only</td>\n",
       "      <td>2420.0</td>\n",
       "      <td>1.0</td>\n",
       "      <td>No</td>\n",
       "    </tr>\n",
       "    <tr>\n",
       "      <th>3</th>\n",
       "      <td>46710738</td>\n",
       "      <td>Male</td>\n",
       "      <td>1977-04-28</td>\n",
       "      <td>MO</td>\n",
       "      <td>962-834-9361</td>\n",
       "      <td>Gold</td>\n",
       "      <td>74761374</td>\n",
       "      <td>Driver error</td>\n",
       "      <td>2018-10-30</td>\n",
       "      <td>Auto</td>\n",
       "      <td>0</td>\n",
       "      <td>Material only</td>\n",
       "      <td>1830.0</td>\n",
       "      <td>1.0</td>\n",
       "      <td>No</td>\n",
       "    </tr>\n",
       "    <tr>\n",
       "      <th>4</th>\n",
       "      <td>77510822</td>\n",
       "      <td>Female</td>\n",
       "      <td>1986-03-18</td>\n",
       "      <td>AK</td>\n",
       "      <td>436-934-7156</td>\n",
       "      <td>Silver</td>\n",
       "      <td>87329176</td>\n",
       "      <td>Other driver error</td>\n",
       "      <td>2018-10-30</td>\n",
       "      <td>Auto</td>\n",
       "      <td>0</td>\n",
       "      <td>Material only</td>\n",
       "      <td>NaN</td>\n",
       "      <td>2.0</td>\n",
       "      <td>No</td>\n",
       "    </tr>\n",
       "    <tr>\n",
       "      <th>...</th>\n",
       "      <td>...</td>\n",
       "      <td>...</td>\n",
       "      <td>...</td>\n",
       "      <td>...</td>\n",
       "      <td>...</td>\n",
       "      <td>...</td>\n",
       "      <td>...</td>\n",
       "      <td>...</td>\n",
       "      <td>...</td>\n",
       "      <td>...</td>\n",
       "      <td>...</td>\n",
       "      <td>...</td>\n",
       "      <td>...</td>\n",
       "      <td>...</td>\n",
       "      <td>...</td>\n",
       "    </tr>\n",
       "    <tr>\n",
       "      <th>1073</th>\n",
       "      <td>77219712</td>\n",
       "      <td>Female</td>\n",
       "      <td>1999-08-05</td>\n",
       "      <td>NH</td>\n",
       "      <td>649-592-8793</td>\n",
       "      <td>Platinum</td>\n",
       "      <td>61374372</td>\n",
       "      <td>Other causes</td>\n",
       "      <td>2017-01-01</td>\n",
       "      <td>Auto</td>\n",
       "      <td>0</td>\n",
       "      <td>Material and injury</td>\n",
       "      <td>20200.0</td>\n",
       "      <td>1.0</td>\n",
       "      <td>No</td>\n",
       "    </tr>\n",
       "    <tr>\n",
       "      <th>1074</th>\n",
       "      <td>42664554</td>\n",
       "      <td>Female</td>\n",
       "      <td>1993-08-13</td>\n",
       "      <td>TN</td>\n",
       "      <td>396-973-2531</td>\n",
       "      <td>Gold</td>\n",
       "      <td>42280334</td>\n",
       "      <td>Other causes</td>\n",
       "      <td>2017-01-01</td>\n",
       "      <td>Auto</td>\n",
       "      <td>0</td>\n",
       "      <td>Injury only</td>\n",
       "      <td>27670.0</td>\n",
       "      <td>1.0</td>\n",
       "      <td>No</td>\n",
       "    </tr>\n",
       "    <tr>\n",
       "      <th>1075</th>\n",
       "      <td>64840478</td>\n",
       "      <td>Female</td>\n",
       "      <td>1974-02-14</td>\n",
       "      <td>NM</td>\n",
       "      <td>918-174-7461</td>\n",
       "      <td>Silver</td>\n",
       "      <td>23636125</td>\n",
       "      <td>Other driver error</td>\n",
       "      <td>2017-01-01</td>\n",
       "      <td>Auto</td>\n",
       "      <td>0</td>\n",
       "      <td>Material and injury</td>\n",
       "      <td>17290.0</td>\n",
       "      <td>1.0</td>\n",
       "      <td>No</td>\n",
       "    </tr>\n",
       "    <tr>\n",
       "      <th>1076</th>\n",
       "      <td>74155265</td>\n",
       "      <td>Male</td>\n",
       "      <td>1985-11-16</td>\n",
       "      <td>TX</td>\n",
       "      <td>392-739-4873</td>\n",
       "      <td>Gold</td>\n",
       "      <td>25647821</td>\n",
       "      <td>Natural causes</td>\n",
       "      <td>2017-01-01</td>\n",
       "      <td>Auto</td>\n",
       "      <td>0</td>\n",
       "      <td>Material only</td>\n",
       "      <td>2080.0</td>\n",
       "      <td>1.0</td>\n",
       "      <td>No</td>\n",
       "    </tr>\n",
       "    <tr>\n",
       "      <th>1077</th>\n",
       "      <td>61745840</td>\n",
       "      <td>Female</td>\n",
       "      <td>1994-07-24</td>\n",
       "      <td>MA</td>\n",
       "      <td>612-684-5472</td>\n",
       "      <td>Platinum</td>\n",
       "      <td>90591192</td>\n",
       "      <td>Other driver error</td>\n",
       "      <td>2017-01-01</td>\n",
       "      <td>Home</td>\n",
       "      <td>0</td>\n",
       "      <td>Material and injury</td>\n",
       "      <td>30930.0</td>\n",
       "      <td>1.0</td>\n",
       "      <td>No</td>\n",
       "    </tr>\n",
       "  </tbody>\n",
       "</table>\n",
       "<p>1078 rows × 15 columns</p>\n",
       "</div>"
      ],
      "text/plain": [
       "       CUST_ID  gender DateOfBirth State       Contact   Segment  claim_id  \\\n",
       "0     93915431    Male  1967-09-08    ME  134-785-1687      Gold  99775483   \n",
       "1     38011078  Female  1976-05-20    NE  271-123-1475      Gold  98795403   \n",
       "2     58451506    Male  1968-04-22    FL  673-574-7823      Gold  43042986   \n",
       "3     46710738    Male  1977-04-28    MO  962-834-9361      Gold  74761374   \n",
       "4     77510822  Female  1986-03-18    AK  436-934-7156    Silver  87329176   \n",
       "...        ...     ...         ...   ...           ...       ...       ...   \n",
       "1073  77219712  Female  1999-08-05    NH  649-592-8793  Platinum  61374372   \n",
       "1074  42664554  Female  1993-08-13    TN  396-973-2531      Gold  42280334   \n",
       "1075  64840478  Female  1974-02-14    NM  918-174-7461    Silver  23636125   \n",
       "1076  74155265    Male  1985-11-16    TX  392-739-4873      Gold  25647821   \n",
       "1077  61745840  Female  1994-07-24    MA  612-684-5472  Platinum  90591192   \n",
       "\n",
       "          incident_cause claim_date claim_area  police_report  \\\n",
       "0           Other causes 2018-10-30       Auto              0   \n",
       "1                  Crime 2018-10-30       Auto              0   \n",
       "2         Natural causes 2018-10-30       Auto              0   \n",
       "3           Driver error 2018-10-30       Auto              0   \n",
       "4     Other driver error 2018-10-30       Auto              0   \n",
       "...                  ...        ...        ...            ...   \n",
       "1073        Other causes 2017-01-01       Auto              0   \n",
       "1074        Other causes 2017-01-01       Auto              0   \n",
       "1075  Other driver error 2017-01-01       Auto              0   \n",
       "1076      Natural causes 2017-01-01       Auto              0   \n",
       "1077  Other driver error 2017-01-01       Home              0   \n",
       "\n",
       "               claim_type  claim_amount  total_policy_claims fraudulent  \n",
       "0     Material and injury       42124.5                  1.0        Yes  \n",
       "1           Material only        1940.0                  1.0         No  \n",
       "2           Material only        2420.0                  1.0         No  \n",
       "3           Material only        1830.0                  1.0         No  \n",
       "4           Material only           NaN                  2.0         No  \n",
       "...                   ...           ...                  ...        ...  \n",
       "1073  Material and injury       20200.0                  1.0         No  \n",
       "1074          Injury only       27670.0                  1.0         No  \n",
       "1075  Material and injury       17290.0                  1.0         No  \n",
       "1076        Material only        2080.0                  1.0         No  \n",
       "1077  Material and injury       30930.0                  1.0         No  \n",
       "\n",
       "[1078 rows x 15 columns]"
      ]
     },
     "execution_count": 27,
     "metadata": {},
     "output_type": "execute_result"
    }
   ],
   "source": [
    "final_data.drop_duplicates(subset='CUST_ID', keep='first', ignore_index=True)"
   ]
  },
  {
   "cell_type": "markdown",
   "id": "6d376473",
   "metadata": {},
   "source": [
    "### 6. Check for missing values and impute the missing values with an appropriate value. \n",
    "(mean for continuous and mode for categorical)"
   ]
  },
  {
   "cell_type": "code",
   "execution_count": 28,
   "id": "d99f2474",
   "metadata": {},
   "outputs": [
    {
     "data": {
      "text/plain": [
       "CUST_ID                 0\n",
       "gender                  0\n",
       "DateOfBirth             0\n",
       "State                   0\n",
       "Contact                 0\n",
       "Segment                 0\n",
       "claim_id                0\n",
       "incident_cause          0\n",
       "claim_date              0\n",
       "claim_area              0\n",
       "police_report           0\n",
       "claim_type              0\n",
       "claim_amount           65\n",
       "total_policy_claims    10\n",
       "fraudulent              0\n",
       "dtype: int64"
      ]
     },
     "execution_count": 28,
     "metadata": {},
     "output_type": "execute_result"
    }
   ],
   "source": [
    "final_data.isnull().sum()"
   ]
  },
  {
   "cell_type": "code",
   "execution_count": 29,
   "id": "4112b081",
   "metadata": {},
   "outputs": [
    {
     "data": {
      "text/plain": [
       "total_policy_claims\n",
       "1.0    785\n",
       "2.0    105\n",
       "3.0     86\n",
       "4.0     59\n",
       "5.0     27\n",
       "6.0     10\n",
       "7.0      2\n",
       "8.0      1\n",
       "Name: count, dtype: int64"
      ]
     },
     "execution_count": 29,
     "metadata": {},
     "output_type": "execute_result"
    }
   ],
   "source": [
    "final_data.total_policy_claims.value_counts()"
   ]
  },
  {
   "cell_type": "code",
   "execution_count": 30,
   "id": "0b65dcd6",
   "metadata": {},
   "outputs": [
    {
     "data": {
      "text/plain": [
       "1.0"
      ]
     },
     "execution_count": 30,
     "metadata": {},
     "output_type": "execute_result"
    }
   ],
   "source": [
    "a=final_data.total_policy_claims.mode()\n",
    "a[0]"
   ]
  },
  {
   "cell_type": "code",
   "execution_count": 31,
   "id": "f1ce8fa8",
   "metadata": {},
   "outputs": [],
   "source": [
    "final_data.total_policy_claims.fillna(a[0],inplace=True)"
   ]
  },
  {
   "cell_type": "code",
   "execution_count": 32,
   "id": "18d8317e",
   "metadata": {},
   "outputs": [],
   "source": [
    "final_data.claim_amount.fillna(final_data.claim_amount.mean(),inplace=True)"
   ]
  },
  {
   "cell_type": "code",
   "execution_count": 33,
   "id": "6ed9a4e1",
   "metadata": {},
   "outputs": [
    {
     "data": {
      "text/plain": [
       "CUST_ID                0\n",
       "gender                 0\n",
       "DateOfBirth            0\n",
       "State                  0\n",
       "Contact                0\n",
       "Segment                0\n",
       "claim_id               0\n",
       "incident_cause         0\n",
       "claim_date             0\n",
       "claim_area             0\n",
       "police_report          0\n",
       "claim_type             0\n",
       "claim_amount           0\n",
       "total_policy_claims    0\n",
       "fraudulent             0\n",
       "dtype: int64"
      ]
     },
     "execution_count": 33,
     "metadata": {},
     "output_type": "execute_result"
    }
   ],
   "source": [
    "final_data.isnull().sum()"
   ]
  },
  {
   "cell_type": "markdown",
   "id": "83e97f95",
   "metadata": {},
   "source": [
    "### 7. Calculate the age of customers in years. Based on the age, categorize the customers according to the below criteria\n",
    "\n",
    "Children < 18\n",
    "\n",
    "Youth 18-30\n",
    "\n",
    "Adult 30-60\n",
    "\n",
    "Senior > 60\n"
   ]
  },
  {
   "cell_type": "code",
   "execution_count": 34,
   "id": "10945011",
   "metadata": {},
   "outputs": [
    {
     "data": {
      "text/plain": [
       "0       51.143053\n",
       "1       42.444901\n",
       "2       50.521561\n",
       "3       41.505818\n",
       "4       32.618754\n",
       "          ...    \n",
       "1080    17.409993\n",
       "1081    23.386721\n",
       "1082    42.880219\n",
       "1083    31.126626\n",
       "1084    22.442163\n",
       "Name: age, Length: 1085, dtype: float64"
      ]
     },
     "execution_count": 34,
     "metadata": {},
     "output_type": "execute_result"
    }
   ],
   "source": [
    "final_data['age']=((final_data.claim_date-final_data.DateOfBirth))\n",
    "final_data['age']=final_data.age.apply(lambda x: x.days/365.25)\n",
    "final_data.age"
   ]
  },
  {
   "cell_type": "code",
   "execution_count": 35,
   "id": "fb86d63f",
   "metadata": {},
   "outputs": [
    {
     "data": {
      "text/html": [
       "<div>\n",
       "<style scoped>\n",
       "    .dataframe tbody tr th:only-of-type {\n",
       "        vertical-align: middle;\n",
       "    }\n",
       "\n",
       "    .dataframe tbody tr th {\n",
       "        vertical-align: top;\n",
       "    }\n",
       "\n",
       "    .dataframe thead th {\n",
       "        text-align: right;\n",
       "    }\n",
       "</style>\n",
       "<table border=\"1\" class=\"dataframe\">\n",
       "  <thead>\n",
       "    <tr style=\"text-align: right;\">\n",
       "      <th></th>\n",
       "      <th>CUST_ID</th>\n",
       "      <th>gender</th>\n",
       "      <th>DateOfBirth</th>\n",
       "      <th>State</th>\n",
       "      <th>Contact</th>\n",
       "      <th>Segment</th>\n",
       "      <th>claim_id</th>\n",
       "      <th>incident_cause</th>\n",
       "      <th>claim_date</th>\n",
       "      <th>claim_area</th>\n",
       "      <th>police_report</th>\n",
       "      <th>claim_type</th>\n",
       "      <th>claim_amount</th>\n",
       "      <th>total_policy_claims</th>\n",
       "      <th>fraudulent</th>\n",
       "      <th>age</th>\n",
       "    </tr>\n",
       "  </thead>\n",
       "  <tbody>\n",
       "    <tr>\n",
       "      <th>0</th>\n",
       "      <td>93915431</td>\n",
       "      <td>Male</td>\n",
       "      <td>1967-09-08</td>\n",
       "      <td>ME</td>\n",
       "      <td>134-785-1687</td>\n",
       "      <td>Gold</td>\n",
       "      <td>99775483</td>\n",
       "      <td>Other causes</td>\n",
       "      <td>2018-10-30</td>\n",
       "      <td>Auto</td>\n",
       "      <td>0</td>\n",
       "      <td>Material and injury</td>\n",
       "      <td>42124.5</td>\n",
       "      <td>1.0</td>\n",
       "      <td>Yes</td>\n",
       "      <td>51.143053</td>\n",
       "    </tr>\n",
       "    <tr>\n",
       "      <th>1</th>\n",
       "      <td>38011078</td>\n",
       "      <td>Female</td>\n",
       "      <td>1976-05-20</td>\n",
       "      <td>NE</td>\n",
       "      <td>271-123-1475</td>\n",
       "      <td>Gold</td>\n",
       "      <td>98795403</td>\n",
       "      <td>Crime</td>\n",
       "      <td>2018-10-30</td>\n",
       "      <td>Auto</td>\n",
       "      <td>0</td>\n",
       "      <td>Material only</td>\n",
       "      <td>1940.0</td>\n",
       "      <td>1.0</td>\n",
       "      <td>No</td>\n",
       "      <td>42.444901</td>\n",
       "    </tr>\n",
       "  </tbody>\n",
       "</table>\n",
       "</div>"
      ],
      "text/plain": [
       "    CUST_ID  gender DateOfBirth State       Contact Segment  claim_id  \\\n",
       "0  93915431    Male  1967-09-08    ME  134-785-1687    Gold  99775483   \n",
       "1  38011078  Female  1976-05-20    NE  271-123-1475    Gold  98795403   \n",
       "\n",
       "  incident_cause claim_date claim_area  police_report           claim_type  \\\n",
       "0   Other causes 2018-10-30       Auto              0  Material and injury   \n",
       "1          Crime 2018-10-30       Auto              0        Material only   \n",
       "\n",
       "   claim_amount  total_policy_claims fraudulent        age  \n",
       "0       42124.5                  1.0        Yes  51.143053  \n",
       "1        1940.0                  1.0         No  42.444901  "
      ]
     },
     "execution_count": 35,
     "metadata": {},
     "output_type": "execute_result"
    }
   ],
   "source": [
    "final_data.head(2)"
   ]
  },
  {
   "cell_type": "code",
   "execution_count": 36,
   "id": "5d908691",
   "metadata": {},
   "outputs": [
    {
     "data": {
      "text/html": [
       "<div>\n",
       "<style scoped>\n",
       "    .dataframe tbody tr th:only-of-type {\n",
       "        vertical-align: middle;\n",
       "    }\n",
       "\n",
       "    .dataframe tbody tr th {\n",
       "        vertical-align: top;\n",
       "    }\n",
       "\n",
       "    .dataframe thead th {\n",
       "        text-align: right;\n",
       "    }\n",
       "</style>\n",
       "<table border=\"1\" class=\"dataframe\">\n",
       "  <thead>\n",
       "    <tr style=\"text-align: right;\">\n",
       "      <th></th>\n",
       "      <th>CUST_ID</th>\n",
       "      <th>gender</th>\n",
       "      <th>DateOfBirth</th>\n",
       "      <th>State</th>\n",
       "      <th>Contact</th>\n",
       "      <th>Segment</th>\n",
       "      <th>claim_id</th>\n",
       "      <th>incident_cause</th>\n",
       "      <th>claim_date</th>\n",
       "      <th>claim_area</th>\n",
       "      <th>police_report</th>\n",
       "      <th>claim_type</th>\n",
       "      <th>claim_amount</th>\n",
       "      <th>total_policy_claims</th>\n",
       "      <th>fraudulent</th>\n",
       "      <th>age</th>\n",
       "      <th>age_cat</th>\n",
       "    </tr>\n",
       "  </thead>\n",
       "  <tbody>\n",
       "    <tr>\n",
       "      <th>521</th>\n",
       "      <td>89965541</td>\n",
       "      <td>Male</td>\n",
       "      <td>1967-06-19</td>\n",
       "      <td>MT</td>\n",
       "      <td>359-678-4658</td>\n",
       "      <td>Silver</td>\n",
       "      <td>62487859</td>\n",
       "      <td>Driver error</td>\n",
       "      <td>2017-12-10</td>\n",
       "      <td>Auto</td>\n",
       "      <td>0</td>\n",
       "      <td>Material only</td>\n",
       "      <td>2810.0</td>\n",
       "      <td>1.0</td>\n",
       "      <td>No</td>\n",
       "      <td>50.477755</td>\n",
       "      <td>Adult 30-60</td>\n",
       "    </tr>\n",
       "    <tr>\n",
       "      <th>263</th>\n",
       "      <td>62934102</td>\n",
       "      <td>Female</td>\n",
       "      <td>1997-07-25</td>\n",
       "      <td>OR</td>\n",
       "      <td>518-352-6498</td>\n",
       "      <td>Silver</td>\n",
       "      <td>1756485</td>\n",
       "      <td>Other driver error</td>\n",
       "      <td>2018-05-21</td>\n",
       "      <td>Auto</td>\n",
       "      <td>1</td>\n",
       "      <td>Material and injury</td>\n",
       "      <td>39280.0</td>\n",
       "      <td>3.0</td>\n",
       "      <td>No</td>\n",
       "      <td>20.821355</td>\n",
       "      <td>Youth 18-30</td>\n",
       "    </tr>\n",
       "    <tr>\n",
       "      <th>175</th>\n",
       "      <td>32269248</td>\n",
       "      <td>Female</td>\n",
       "      <td>1971-06-27</td>\n",
       "      <td>NE</td>\n",
       "      <td>574-857-9387</td>\n",
       "      <td>Gold</td>\n",
       "      <td>94714143</td>\n",
       "      <td>Other driver error</td>\n",
       "      <td>2018-07-07</td>\n",
       "      <td>Auto</td>\n",
       "      <td>1</td>\n",
       "      <td>Injury only</td>\n",
       "      <td>30350.0</td>\n",
       "      <td>1.0</td>\n",
       "      <td>No</td>\n",
       "      <td>47.028063</td>\n",
       "      <td>Adult 30-60</td>\n",
       "    </tr>\n",
       "    <tr>\n",
       "      <th>1002</th>\n",
       "      <td>3955265</td>\n",
       "      <td>Male</td>\n",
       "      <td>1977-02-27</td>\n",
       "      <td>IN</td>\n",
       "      <td>324-296-9625</td>\n",
       "      <td>Platinum</td>\n",
       "      <td>30225071</td>\n",
       "      <td>Other causes</td>\n",
       "      <td>2017-02-17</td>\n",
       "      <td>Auto</td>\n",
       "      <td>0</td>\n",
       "      <td>Material and injury</td>\n",
       "      <td>37740.0</td>\n",
       "      <td>1.0</td>\n",
       "      <td>No</td>\n",
       "      <td>39.972621</td>\n",
       "      <td>Adult 30-60</td>\n",
       "    </tr>\n",
       "    <tr>\n",
       "      <th>226</th>\n",
       "      <td>6984936</td>\n",
       "      <td>Female</td>\n",
       "      <td>1992-04-21</td>\n",
       "      <td>NM</td>\n",
       "      <td>546-428-8532</td>\n",
       "      <td>Platinum</td>\n",
       "      <td>83283000</td>\n",
       "      <td>Driver error</td>\n",
       "      <td>2018-06-10</td>\n",
       "      <td>Auto</td>\n",
       "      <td>1</td>\n",
       "      <td>Material and injury</td>\n",
       "      <td>25210.0</td>\n",
       "      <td>3.0</td>\n",
       "      <td>No</td>\n",
       "      <td>26.135524</td>\n",
       "      <td>Youth 18-30</td>\n",
       "    </tr>\n",
       "  </tbody>\n",
       "</table>\n",
       "</div>"
      ],
      "text/plain": [
       "       CUST_ID  gender DateOfBirth State       Contact   Segment  claim_id  \\\n",
       "521   89965541    Male  1967-06-19    MT  359-678-4658    Silver  62487859   \n",
       "263   62934102  Female  1997-07-25    OR  518-352-6498    Silver   1756485   \n",
       "175   32269248  Female  1971-06-27    NE  574-857-9387      Gold  94714143   \n",
       "1002   3955265    Male  1977-02-27    IN  324-296-9625  Platinum  30225071   \n",
       "226    6984936  Female  1992-04-21    NM  546-428-8532  Platinum  83283000   \n",
       "\n",
       "          incident_cause claim_date claim_area  police_report  \\\n",
       "521         Driver error 2017-12-10       Auto              0   \n",
       "263   Other driver error 2018-05-21       Auto              1   \n",
       "175   Other driver error 2018-07-07       Auto              1   \n",
       "1002        Other causes 2017-02-17       Auto              0   \n",
       "226         Driver error 2018-06-10       Auto              1   \n",
       "\n",
       "               claim_type  claim_amount  total_policy_claims fraudulent  \\\n",
       "521         Material only        2810.0                  1.0         No   \n",
       "263   Material and injury       39280.0                  3.0         No   \n",
       "175           Injury only       30350.0                  1.0         No   \n",
       "1002  Material and injury       37740.0                  1.0         No   \n",
       "226   Material and injury       25210.0                  3.0         No   \n",
       "\n",
       "            age      age_cat  \n",
       "521   50.477755  Adult 30-60  \n",
       "263   20.821355  Youth 18-30  \n",
       "175   47.028063  Adult 30-60  \n",
       "1002  39.972621  Adult 30-60  \n",
       "226   26.135524  Youth 18-30  "
      ]
     },
     "execution_count": 36,
     "metadata": {},
     "output_type": "execute_result"
    }
   ],
   "source": [
    "final_data['age_cat']=pd.cut(final_data.age, bins=(0, 18, 30, 60, 100), \n",
    "                             labels=['Children < 18', 'Youth 18-30', 'Adult 30-60', 'Senior > 60'])\n",
    "final_data.sample(5)"
   ]
  },
  {
   "cell_type": "code",
   "execution_count": 37,
   "id": "b32ae74e",
   "metadata": {},
   "outputs": [
    {
     "data": {
      "text/plain": [
       "age_cat\n",
       "Adult 30-60      749\n",
       "Youth 18-30      328\n",
       "Children < 18      8\n",
       "Senior > 60        0\n",
       "Name: count, dtype: int64"
      ]
     },
     "execution_count": 37,
     "metadata": {},
     "output_type": "execute_result"
    }
   ],
   "source": [
    "final_data.age_cat.value_counts()"
   ]
  },
  {
   "cell_type": "code",
   "execution_count": 38,
   "id": "c6c64261",
   "metadata": {},
   "outputs": [
    {
     "data": {
      "image/png": "[encoded data removed]",
      "text/plain": [
       "<Figure size 640x480 with 1 Axes>"
      ]
     },
     "metadata": {},
     "output_type": "display_data"
    }
   ],
   "source": [
    "final_data.age_cat.value_counts().plot(kind='bar')\n",
    "plt.show()"
   ]
  },
  {
   "cell_type": "markdown",
   "id": "e9c59f44",
   "metadata": {},
   "source": [
    "### 8. What is the average amount claimed by the customers from various segments?\n"
   ]
  },
  {
   "cell_type": "code",
   "execution_count": 39,
   "id": "49d00d65",
   "metadata": {},
   "outputs": [
    {
     "data": {
      "text/html": [
       "<div>\n",
       "<style scoped>\n",
       "    .dataframe tbody tr th:only-of-type {\n",
       "        vertical-align: middle;\n",
       "    }\n",
       "\n",
       "    .dataframe tbody tr th {\n",
       "        vertical-align: top;\n",
       "    }\n",
       "\n",
       "    .dataframe thead th {\n",
       "        text-align: right;\n",
       "    }\n",
       "</style>\n",
       "<table border=\"1\" class=\"dataframe\">\n",
       "  <thead>\n",
       "    <tr style=\"text-align: right;\">\n",
       "      <th></th>\n",
       "      <th>claim_amount</th>\n",
       "    </tr>\n",
       "    <tr>\n",
       "      <th>Segment</th>\n",
       "      <th></th>\n",
       "    </tr>\n",
       "  </thead>\n",
       "  <tbody>\n",
       "    <tr>\n",
       "      <th>Gold</th>\n",
       "      <td>12829.631836</td>\n",
       "    </tr>\n",
       "    <tr>\n",
       "      <th>Platinum</th>\n",
       "      <td>12341.951172</td>\n",
       "    </tr>\n",
       "    <tr>\n",
       "      <th>Silver</th>\n",
       "      <td>12208.435547</td>\n",
       "    </tr>\n",
       "  </tbody>\n",
       "</table>\n",
       "</div>"
      ],
      "text/plain": [
       "          claim_amount\n",
       "Segment               \n",
       "Gold      12829.631836\n",
       "Platinum  12341.951172\n",
       "Silver    12208.435547"
      ]
     },
     "execution_count": 39,
     "metadata": {},
     "output_type": "execute_result"
    }
   ],
   "source": [
    "final_data.pivot_table(index='Segment',values='claim_amount',aggfunc='mean')"
   ]
  },
  {
   "cell_type": "code",
   "execution_count": 40,
   "id": "fbdee887",
   "metadata": {},
   "outputs": [
    {
     "data": {
      "image/png": "[encoded data removed]",
      "text/plain": [
       "<Figure size 640x480 with 1 Axes>"
      ]
     },
     "metadata": {},
     "output_type": "display_data"
    }
   ],
   "source": [
    "final_data.pivot_table(index='Segment',values='claim_amount',aggfunc='mean').plot(kind='bar')\n",
    "plt.show()"
   ]
  },
  {
   "cell_type": "markdown",
   "id": "2b9c1d8d",
   "metadata": {},
   "source": [
    "### 9. What is the total claim amount based on incident cause for all the claims that have been done at least 20 days prior to 1st of October, 2018."
   ]
  },
  {
   "cell_type": "code",
   "execution_count": 41,
   "id": "52c4096a",
   "metadata": {},
   "outputs": [
    {
     "data": {
      "text/plain": [
       "Timestamp('2018-09-11 00:00:00')"
      ]
     },
     "execution_count": 41,
     "metadata": {},
     "output_type": "execute_result"
    }
   ],
   "source": [
    "a=pd.Timestamp(year=2018,month=10,day=1)\n",
    "b=a+pd.DateOffset(days=-20)\n",
    "b"
   ]
  },
  {
   "cell_type": "code",
   "execution_count": 42,
   "id": "4f555f46",
   "metadata": {},
   "outputs": [
    {
     "data": {
      "text/plain": [
       "incident_cause\n",
       "Crime                 7.244484e+05\n",
       "Driver error          3.319952e+06\n",
       "Natural causes        1.314121e+06\n",
       "Other causes          3.724985e+06\n",
       "Other driver error    3.318770e+06\n",
       "Name: claim_amount, dtype: float32"
      ]
     },
     "execution_count": 42,
     "metadata": {},
     "output_type": "execute_result"
    }
   ],
   "source": [
    "final_data[final_data.loc[:,'claim_date']<=b].groupby('incident_cause')['claim_amount'].sum()"
   ]
  },
  {
   "cell_type": "markdown",
   "id": "6ad8c790",
   "metadata": {},
   "source": [
    "### 10. How many adults from TX, DE and AK claimed insurance for driver related issues and causes? "
   ]
  },
  {
   "cell_type": "code",
   "execution_count": 43,
   "id": "158a8c6d",
   "metadata": {},
   "outputs": [
    {
     "data": {
      "text/plain": [
       "Index(['CUST_ID', 'gender', 'DateOfBirth', 'State', 'Contact', 'Segment',\n",
       "       'claim_id', 'incident_cause', 'claim_date', 'claim_area',\n",
       "       'police_report', 'claim_type', 'claim_amount', 'total_policy_claims',\n",
       "       'fraudulent', 'age', 'age_cat'],\n",
       "      dtype='object')"
      ]
     },
     "execution_count": 43,
     "metadata": {},
     "output_type": "execute_result"
    }
   ],
   "source": [
    "final_data.columns"
   ]
  },
  {
   "cell_type": "code",
   "execution_count": 44,
   "id": "b2b69dda",
   "metadata": {},
   "outputs": [
    {
     "data": {
      "text/html": [
       "<div>\n",
       "<style scoped>\n",
       "    .dataframe tbody tr th:only-of-type {\n",
       "        vertical-align: middle;\n",
       "    }\n",
       "\n",
       "    .dataframe tbody tr th {\n",
       "        vertical-align: top;\n",
       "    }\n",
       "\n",
       "    .dataframe thead th {\n",
       "        text-align: right;\n",
       "    }\n",
       "</style>\n",
       "<table border=\"1\" class=\"dataframe\">\n",
       "  <thead>\n",
       "    <tr style=\"text-align: right;\">\n",
       "      <th></th>\n",
       "      <th>CUST_ID</th>\n",
       "      <th>gender</th>\n",
       "      <th>DateOfBirth</th>\n",
       "      <th>State</th>\n",
       "      <th>Contact</th>\n",
       "      <th>Segment</th>\n",
       "      <th>claim_id</th>\n",
       "      <th>incident_cause</th>\n",
       "      <th>claim_date</th>\n",
       "      <th>claim_area</th>\n",
       "      <th>police_report</th>\n",
       "      <th>claim_type</th>\n",
       "      <th>claim_amount</th>\n",
       "      <th>total_policy_claims</th>\n",
       "      <th>fraudulent</th>\n",
       "      <th>age</th>\n",
       "      <th>age_cat</th>\n",
       "    </tr>\n",
       "  </thead>\n",
       "  <tbody>\n",
       "    <tr>\n",
       "      <th>0</th>\n",
       "      <td>93915431</td>\n",
       "      <td>Male</td>\n",
       "      <td>1967-09-08</td>\n",
       "      <td>ME</td>\n",
       "      <td>134-785-1687</td>\n",
       "      <td>Gold</td>\n",
       "      <td>99775483</td>\n",
       "      <td>Other causes</td>\n",
       "      <td>2018-10-30</td>\n",
       "      <td>Auto</td>\n",
       "      <td>0</td>\n",
       "      <td>Material and injury</td>\n",
       "      <td>42124.500000</td>\n",
       "      <td>1.0</td>\n",
       "      <td>Yes</td>\n",
       "      <td>51.143053</td>\n",
       "      <td>Adult 30-60</td>\n",
       "    </tr>\n",
       "    <tr>\n",
       "      <th>1</th>\n",
       "      <td>38011078</td>\n",
       "      <td>Female</td>\n",
       "      <td>1976-05-20</td>\n",
       "      <td>NE</td>\n",
       "      <td>271-123-1475</td>\n",
       "      <td>Gold</td>\n",
       "      <td>98795403</td>\n",
       "      <td>Crime</td>\n",
       "      <td>2018-10-30</td>\n",
       "      <td>Auto</td>\n",
       "      <td>0</td>\n",
       "      <td>Material only</td>\n",
       "      <td>1940.000000</td>\n",
       "      <td>1.0</td>\n",
       "      <td>No</td>\n",
       "      <td>42.444901</td>\n",
       "      <td>Adult 30-60</td>\n",
       "    </tr>\n",
       "    <tr>\n",
       "      <th>2</th>\n",
       "      <td>58451506</td>\n",
       "      <td>Male</td>\n",
       "      <td>1968-04-22</td>\n",
       "      <td>FL</td>\n",
       "      <td>673-574-7823</td>\n",
       "      <td>Gold</td>\n",
       "      <td>43042986</td>\n",
       "      <td>Natural causes</td>\n",
       "      <td>2018-10-30</td>\n",
       "      <td>Auto</td>\n",
       "      <td>0</td>\n",
       "      <td>Material only</td>\n",
       "      <td>2420.000000</td>\n",
       "      <td>1.0</td>\n",
       "      <td>No</td>\n",
       "      <td>50.521561</td>\n",
       "      <td>Adult 30-60</td>\n",
       "    </tr>\n",
       "    <tr>\n",
       "      <th>3</th>\n",
       "      <td>46710738</td>\n",
       "      <td>Male</td>\n",
       "      <td>1977-04-28</td>\n",
       "      <td>MO</td>\n",
       "      <td>962-834-9361</td>\n",
       "      <td>Gold</td>\n",
       "      <td>74761374</td>\n",
       "      <td>Driver error</td>\n",
       "      <td>2018-10-30</td>\n",
       "      <td>Auto</td>\n",
       "      <td>0</td>\n",
       "      <td>Material only</td>\n",
       "      <td>1830.000000</td>\n",
       "      <td>1.0</td>\n",
       "      <td>No</td>\n",
       "      <td>41.505818</td>\n",
       "      <td>Adult 30-60</td>\n",
       "    </tr>\n",
       "    <tr>\n",
       "      <th>4</th>\n",
       "      <td>77510822</td>\n",
       "      <td>Female</td>\n",
       "      <td>1986-03-18</td>\n",
       "      <td>AK</td>\n",
       "      <td>436-934-7156</td>\n",
       "      <td>Silver</td>\n",
       "      <td>87329176</td>\n",
       "      <td>Other driver error</td>\n",
       "      <td>2018-10-30</td>\n",
       "      <td>Auto</td>\n",
       "      <td>0</td>\n",
       "      <td>Material only</td>\n",
       "      <td>12467.681641</td>\n",
       "      <td>2.0</td>\n",
       "      <td>No</td>\n",
       "      <td>32.618754</td>\n",
       "      <td>Adult 30-60</td>\n",
       "    </tr>\n",
       "  </tbody>\n",
       "</table>\n",
       "</div>"
      ],
      "text/plain": [
       "    CUST_ID  gender DateOfBirth State       Contact Segment  claim_id  \\\n",
       "0  93915431    Male  1967-09-08    ME  134-785-1687    Gold  99775483   \n",
       "1  38011078  Female  1976-05-20    NE  271-123-1475    Gold  98795403   \n",
       "2  58451506    Male  1968-04-22    FL  673-574-7823    Gold  43042986   \n",
       "3  46710738    Male  1977-04-28    MO  962-834-9361    Gold  74761374   \n",
       "4  77510822  Female  1986-03-18    AK  436-934-7156  Silver  87329176   \n",
       "\n",
       "       incident_cause claim_date claim_area  police_report  \\\n",
       "0        Other causes 2018-10-30       Auto              0   \n",
       "1               Crime 2018-10-30       Auto              0   \n",
       "2      Natural causes 2018-10-30       Auto              0   \n",
       "3        Driver error 2018-10-30       Auto              0   \n",
       "4  Other driver error 2018-10-30       Auto              0   \n",
       "\n",
       "            claim_type  claim_amount  total_policy_claims fraudulent  \\\n",
       "0  Material and injury  42124.500000                  1.0        Yes   \n",
       "1        Material only   1940.000000                  1.0         No   \n",
       "2        Material only   2420.000000                  1.0         No   \n",
       "3        Material only   1830.000000                  1.0         No   \n",
       "4        Material only  12467.681641                  2.0         No   \n",
       "\n",
       "         age      age_cat  \n",
       "0  51.143053  Adult 30-60  \n",
       "1  42.444901  Adult 30-60  \n",
       "2  50.521561  Adult 30-60  \n",
       "3  41.505818  Adult 30-60  \n",
       "4  32.618754  Adult 30-60  "
      ]
     },
     "execution_count": 44,
     "metadata": {},
     "output_type": "execute_result"
    }
   ],
   "source": [
    "final_data.head()"
   ]
  },
  {
   "cell_type": "code",
   "execution_count": 45,
   "id": "04901482",
   "metadata": {},
   "outputs": [
    {
     "data": {
      "text/plain": [
       "incident_cause\n",
       "Other causes          285\n",
       "Driver error          261\n",
       "Other driver error    245\n",
       "Natural causes        186\n",
       "Crime                 108\n",
       "Name: count, dtype: int64"
      ]
     },
     "execution_count": 45,
     "metadata": {},
     "output_type": "execute_result"
    }
   ],
   "source": [
    "final_data.incident_cause.value_counts()"
   ]
  },
  {
   "cell_type": "code",
   "execution_count": 46,
   "id": "c77d882c",
   "metadata": {},
   "outputs": [],
   "source": [
    "adults=final_data.pivot_table(index=['age_cat','State'],columns='incident_cause',values='claim_id',aggfunc=\"count\")"
   ]
  },
  {
   "cell_type": "code",
   "execution_count": 47,
   "id": "88160502",
   "metadata": {},
   "outputs": [
    {
     "data": {
      "text/plain": [
       "MultiIndex([('Children < 18', 'AK'),\n",
       "            ('Children < 18', 'AL'),\n",
       "            ('Children < 18', 'AR'),\n",
       "            ('Children < 18', 'AZ'),\n",
       "            ('Children < 18', 'CA'),\n",
       "            ('Children < 18', 'CO'),\n",
       "            ('Children < 18', 'CT'),\n",
       "            ('Children < 18', 'DE'),\n",
       "            ('Children < 18', 'FL'),\n",
       "            ('Children < 18', 'GA'),\n",
       "            ...\n",
       "            (  'Senior > 60', 'SD'),\n",
       "            (  'Senior > 60', 'TN'),\n",
       "            (  'Senior > 60', 'TX'),\n",
       "            (  'Senior > 60', 'UT'),\n",
       "            (  'Senior > 60', 'VA'),\n",
       "            (  'Senior > 60', 'VT'),\n",
       "            (  'Senior > 60', 'WA'),\n",
       "            (  'Senior > 60', 'WI'),\n",
       "            (  'Senior > 60', 'WV'),\n",
       "            (  'Senior > 60', 'WY')],\n",
       "           names=['age_cat', 'State'], length=200)"
      ]
     },
     "execution_count": 47,
     "metadata": {},
     "output_type": "execute_result"
    }
   ],
   "source": [
    "adults.index"
   ]
  },
  {
   "cell_type": "code",
   "execution_count": 48,
   "id": "38e8620b",
   "metadata": {},
   "outputs": [
    {
     "data": {
      "text/plain": [
       "Index(['Crime', 'Driver error', 'Natural causes', 'Other causes',\n",
       "       'Other driver error'],\n",
       "      dtype='object', name='incident_cause')"
      ]
     },
     "execution_count": 48,
     "metadata": {},
     "output_type": "execute_result"
    }
   ],
   "source": [
    "adults.columns"
   ]
  },
  {
   "cell_type": "code",
   "execution_count": 49,
   "id": "20da3d58",
   "metadata": {},
   "outputs": [
    {
     "data": {
      "text/html": [
       "<div>\n",
       "<style scoped>\n",
       "    .dataframe tbody tr th:only-of-type {\n",
       "        vertical-align: middle;\n",
       "    }\n",
       "\n",
       "    .dataframe tbody tr th {\n",
       "        vertical-align: top;\n",
       "    }\n",
       "\n",
       "    .dataframe thead th {\n",
       "        text-align: right;\n",
       "    }\n",
       "</style>\n",
       "<table border=\"1\" class=\"dataframe\">\n",
       "  <thead>\n",
       "    <tr style=\"text-align: right;\">\n",
       "      <th></th>\n",
       "      <th>incident_cause</th>\n",
       "      <th>Driver error</th>\n",
       "      <th>Other driver error</th>\n",
       "    </tr>\n",
       "    <tr>\n",
       "      <th>age_cat</th>\n",
       "      <th>State</th>\n",
       "      <th></th>\n",
       "      <th></th>\n",
       "    </tr>\n",
       "  </thead>\n",
       "  <tbody>\n",
       "    <tr>\n",
       "      <th rowspan=\"3\" valign=\"top\">Adult 30-60</th>\n",
       "      <th>TX</th>\n",
       "      <td>3</td>\n",
       "      <td>3</td>\n",
       "    </tr>\n",
       "    <tr>\n",
       "      <th>DE</th>\n",
       "      <td>4</td>\n",
       "      <td>5</td>\n",
       "    </tr>\n",
       "    <tr>\n",
       "      <th>AK</th>\n",
       "      <td>6</td>\n",
       "      <td>3</td>\n",
       "    </tr>\n",
       "  </tbody>\n",
       "</table>\n",
       "</div>"
      ],
      "text/plain": [
       "incident_cause     Driver error  Other driver error\n",
       "age_cat     State                                  \n",
       "Adult 30-60 TX                3                   3\n",
       "            DE                4                   5\n",
       "            AK                6                   3"
      ]
     },
     "execution_count": 49,
     "metadata": {},
     "output_type": "execute_result"
    }
   ],
   "source": [
    "adults.loc[[('Adult 30-60','TX'),('Adult 30-60','DE'),('Adult 30-60','AK')],['Driver error','Other driver error']]"
   ]
  },
  {
   "cell_type": "markdown",
   "id": "1df60c1e",
   "metadata": {},
   "source": [
    "### 11. Draw a pie chart between the aggregated value of claim amount based on gender and segment. Represent the claim amount as a percentage onthe pie chart."
   ]
  },
  {
   "cell_type": "code",
   "execution_count": 50,
   "id": "ea716f3e",
   "metadata": {},
   "outputs": [
    {
     "data": {
      "image/png": "[encoded data removed]",
      "text/plain": [
       "<Figure size 1500x800 with 3 Axes>"
      ]
     },
     "metadata": {},
     "output_type": "display_data"
    }
   ],
   "source": [
    "final_data.pivot_table(index='gender',columns='Segment',\n",
    "                       values='claim_amount',aggfunc='sum').plot(kind='pie',subplots=True,autopct='%.1f%%',figsize=(15,8))\n",
    "plt.show()"
   ]
  },
  {
   "cell_type": "code",
   "execution_count": 51,
   "id": "bca4ae36",
   "metadata": {},
   "outputs": [
    {
     "data": {
      "text/plain": [
       "<Figure size 640x480 with 0 Axes>"
      ]
     },
     "metadata": {},
     "output_type": "display_data"
    },
    {
     "data": {
      "image/png": "[encoded data removed]",
      "text/plain": [
       "<Figure size 1500x1000 with 2 Axes>"
      ]
     },
     "metadata": {},
     "output_type": "display_data"
    }
   ],
   "source": [
    "plt.figure(layout='constrained')\n",
    "final_data.pivot_table(columns='gender',index='Segment',\n",
    "                       values='claim_amount',aggfunc='sum').plot(kind='pie',subplots=True,autopct='%.1f%%',figsize=(15,10))\n",
    "\n",
    "plt.show()"
   ]
  },
  {
   "cell_type": "markdown",
   "id": "4bbd0b77",
   "metadata": {},
   "source": [
    "### 12. Among males and females, which gender had claimed the most for any type of driver related issues? E.g. This metric can be compared using a bar chart"
   ]
  },
  {
   "cell_type": "code",
   "execution_count": 52,
   "id": "def05f82",
   "metadata": {},
   "outputs": [
    {
     "data": {
      "text/html": [
       "<div>\n",
       "<style scoped>\n",
       "    .dataframe tbody tr th:only-of-type {\n",
       "        vertical-align: middle;\n",
       "    }\n",
       "\n",
       "    .dataframe tbody tr th {\n",
       "        vertical-align: top;\n",
       "    }\n",
       "\n",
       "    .dataframe thead th {\n",
       "        text-align: right;\n",
       "    }\n",
       "</style>\n",
       "<table border=\"1\" class=\"dataframe\">\n",
       "  <thead>\n",
       "    <tr style=\"text-align: right;\">\n",
       "      <th>incident_cause</th>\n",
       "      <th>Driver error</th>\n",
       "      <th>Other driver error</th>\n",
       "    </tr>\n",
       "    <tr>\n",
       "      <th>gender</th>\n",
       "      <th></th>\n",
       "      <th></th>\n",
       "    </tr>\n",
       "  </thead>\n",
       "  <tbody>\n",
       "    <tr>\n",
       "      <th>Female</th>\n",
       "      <td>73</td>\n",
       "      <td>149</td>\n",
       "    </tr>\n",
       "    <tr>\n",
       "      <th>Male</th>\n",
       "      <td>188</td>\n",
       "      <td>96</td>\n",
       "    </tr>\n",
       "  </tbody>\n",
       "</table>\n",
       "</div>"
      ],
      "text/plain": [
       "incident_cause  Driver error  Other driver error\n",
       "gender                                          \n",
       "Female                    73                 149\n",
       "Male                     188                  96"
      ]
     },
     "execution_count": 52,
     "metadata": {},
     "output_type": "execute_result"
    }
   ],
   "source": [
    "sex=final_data.pivot_table(index=['gender'],columns='incident_cause',values='claim_id',aggfunc=\"count\")\n",
    "sex.iloc[:,[1,4]]"
   ]
  },
  {
   "cell_type": "code",
   "execution_count": 53,
   "id": "ed363375",
   "metadata": {},
   "outputs": [
    {
     "data": {
      "image/png": "[encoded data removed]",
      "text/plain": [
       "<Figure size 640x480 with 1 Axes>"
      ]
     },
     "metadata": {},
     "output_type": "display_data"
    }
   ],
   "source": [
    "sex.iloc[:,[1,4]].plot(kind='bar',rot=0)\n",
    "plt.show()"
   ]
  },
  {
   "cell_type": "markdown",
   "id": "fbcb5e35",
   "metadata": {},
   "source": [
    "### 13. Which age group had the maximum fraudulent policy claims? Visualize it on a bar chart."
   ]
  },
  {
   "cell_type": "code",
   "execution_count": 54,
   "id": "d73eae4d",
   "metadata": {},
   "outputs": [
    {
     "data": {
      "image/png": "[encoded data removed]",
      "text/plain": [
       "<Figure size 640x480 with 1 Axes>"
      ]
     },
     "metadata": {},
     "output_type": "display_data"
    }
   ],
   "source": [
    "sns.countplot(data=final_data,x='age_cat',hue='fraudulent')\n",
    "plt.show()"
   ]
  },
  {
   "cell_type": "code",
   "execution_count": 55,
   "id": "0af0fb3c",
   "metadata": {},
   "outputs": [
    {
     "data": {
      "text/html": [
       "<div>\n",
       "<style scoped>\n",
       "    .dataframe tbody tr th:only-of-type {\n",
       "        vertical-align: middle;\n",
       "    }\n",
       "\n",
       "    .dataframe tbody tr th {\n",
       "        vertical-align: top;\n",
       "    }\n",
       "\n",
       "    .dataframe thead th {\n",
       "        text-align: right;\n",
       "    }\n",
       "</style>\n",
       "<table border=\"1\" class=\"dataframe\">\n",
       "  <thead>\n",
       "    <tr style=\"text-align: right;\">\n",
       "      <th>fraudulent</th>\n",
       "      <th>No</th>\n",
       "      <th>Yes</th>\n",
       "    </tr>\n",
       "    <tr>\n",
       "      <th>age_cat</th>\n",
       "      <th></th>\n",
       "      <th></th>\n",
       "    </tr>\n",
       "  </thead>\n",
       "  <tbody>\n",
       "    <tr>\n",
       "      <th>Children &lt; 18</th>\n",
       "      <td>7</td>\n",
       "      <td>1</td>\n",
       "    </tr>\n",
       "    <tr>\n",
       "      <th>Youth 18-30</th>\n",
       "      <td>255</td>\n",
       "      <td>73</td>\n",
       "    </tr>\n",
       "    <tr>\n",
       "      <th>Adult 30-60</th>\n",
       "      <td>576</td>\n",
       "      <td>173</td>\n",
       "    </tr>\n",
       "    <tr>\n",
       "      <th>Senior &gt; 60</th>\n",
       "      <td>0</td>\n",
       "      <td>0</td>\n",
       "    </tr>\n",
       "  </tbody>\n",
       "</table>\n",
       "</div>"
      ],
      "text/plain": [
       "fraudulent      No  Yes\n",
       "age_cat                \n",
       "Children < 18    7    1\n",
       "Youth 18-30    255   73\n",
       "Adult 30-60    576  173\n",
       "Senior > 60      0    0"
      ]
     },
     "execution_count": 55,
     "metadata": {},
     "output_type": "execute_result"
    }
   ],
   "source": [
    "final_data.pivot_table(index='age_cat',columns='fraudulent',values='claim_id',aggfunc=\"count\")"
   ]
  },
  {
   "cell_type": "markdown",
   "id": "d0b798e0",
   "metadata": {},
   "source": [
    "### 14. Visualize the monthly trend of the total amount that has been claimed by the customers. Ensure that on the “month” axis, the month is in a chronological order not alphabetical order. "
   ]
  },
  {
   "cell_type": "code",
   "execution_count": 56,
   "id": "4f0a578d",
   "metadata": {},
   "outputs": [],
   "source": [
    "final_data['claim_year']=final_data.claim_date.apply(lambda x: x.year)\n",
    "final_data['claim_month']=final_data.claim_date.apply(lambda x: x.month_name())"
   ]
  },
  {
   "cell_type": "code",
   "execution_count": 57,
   "id": "8699a888",
   "metadata": {},
   "outputs": [
    {
     "data": {
      "text/html": [
       "<div>\n",
       "<style scoped>\n",
       "    .dataframe tbody tr th:only-of-type {\n",
       "        vertical-align: middle;\n",
       "    }\n",
       "\n",
       "    .dataframe tbody tr th {\n",
       "        vertical-align: top;\n",
       "    }\n",
       "\n",
       "    .dataframe thead th {\n",
       "        text-align: right;\n",
       "    }\n",
       "</style>\n",
       "<table border=\"1\" class=\"dataframe\">\n",
       "  <thead>\n",
       "    <tr style=\"text-align: right;\">\n",
       "      <th></th>\n",
       "      <th>CUST_ID</th>\n",
       "      <th>gender</th>\n",
       "      <th>DateOfBirth</th>\n",
       "      <th>State</th>\n",
       "      <th>Contact</th>\n",
       "      <th>Segment</th>\n",
       "      <th>claim_id</th>\n",
       "      <th>incident_cause</th>\n",
       "      <th>claim_date</th>\n",
       "      <th>claim_area</th>\n",
       "      <th>police_report</th>\n",
       "      <th>claim_type</th>\n",
       "      <th>claim_amount</th>\n",
       "      <th>total_policy_claims</th>\n",
       "      <th>fraudulent</th>\n",
       "      <th>age</th>\n",
       "      <th>age_cat</th>\n",
       "      <th>claim_year</th>\n",
       "      <th>claim_month</th>\n",
       "    </tr>\n",
       "  </thead>\n",
       "  <tbody>\n",
       "    <tr>\n",
       "      <th>0</th>\n",
       "      <td>93915431</td>\n",
       "      <td>Male</td>\n",
       "      <td>1967-09-08</td>\n",
       "      <td>ME</td>\n",
       "      <td>134-785-1687</td>\n",
       "      <td>Gold</td>\n",
       "      <td>99775483</td>\n",
       "      <td>Other causes</td>\n",
       "      <td>2018-10-30</td>\n",
       "      <td>Auto</td>\n",
       "      <td>0</td>\n",
       "      <td>Material and injury</td>\n",
       "      <td>42124.5</td>\n",
       "      <td>1.0</td>\n",
       "      <td>Yes</td>\n",
       "      <td>51.143053</td>\n",
       "      <td>Adult 30-60</td>\n",
       "      <td>2018</td>\n",
       "      <td>October</td>\n",
       "    </tr>\n",
       "    <tr>\n",
       "      <th>1</th>\n",
       "      <td>38011078</td>\n",
       "      <td>Female</td>\n",
       "      <td>1976-05-20</td>\n",
       "      <td>NE</td>\n",
       "      <td>271-123-1475</td>\n",
       "      <td>Gold</td>\n",
       "      <td>98795403</td>\n",
       "      <td>Crime</td>\n",
       "      <td>2018-10-30</td>\n",
       "      <td>Auto</td>\n",
       "      <td>0</td>\n",
       "      <td>Material only</td>\n",
       "      <td>1940.0</td>\n",
       "      <td>1.0</td>\n",
       "      <td>No</td>\n",
       "      <td>42.444901</td>\n",
       "      <td>Adult 30-60</td>\n",
       "      <td>2018</td>\n",
       "      <td>October</td>\n",
       "    </tr>\n",
       "  </tbody>\n",
       "</table>\n",
       "</div>"
      ],
      "text/plain": [
       "    CUST_ID  gender DateOfBirth State       Contact Segment  claim_id  \\\n",
       "0  93915431    Male  1967-09-08    ME  134-785-1687    Gold  99775483   \n",
       "1  38011078  Female  1976-05-20    NE  271-123-1475    Gold  98795403   \n",
       "\n",
       "  incident_cause claim_date claim_area  police_report           claim_type  \\\n",
       "0   Other causes 2018-10-30       Auto              0  Material and injury   \n",
       "1          Crime 2018-10-30       Auto              0        Material only   \n",
       "\n",
       "   claim_amount  total_policy_claims fraudulent        age      age_cat  \\\n",
       "0       42124.5                  1.0        Yes  51.143053  Adult 30-60   \n",
       "1        1940.0                  1.0         No  42.444901  Adult 30-60   \n",
       "\n",
       "   claim_year claim_month  \n",
       "0        2018     October  \n",
       "1        2018     October  "
      ]
     },
     "execution_count": 57,
     "metadata": {},
     "output_type": "execute_result"
    }
   ],
   "source": [
    "final_data.head(2)"
   ]
  },
  {
   "cell_type": "code",
   "execution_count": 58,
   "id": "f1c56cd9",
   "metadata": {},
   "outputs": [
    {
     "data": {
      "image/png": "[encoded data removed]",
      "text/plain": [
       "<Figure size 1000x500 with 1 Axes>"
      ]
     },
     "metadata": {},
     "output_type": "display_data"
    }
   ],
   "source": [
    "#MONTHS ACCORDING TO FINANCIAL YEAR\n",
    "plt.figure(figsize=(10,5))\n",
    "months = ['April','May','June','July', 'August','September', \n",
    "          'October','November','December','January', 'February','March']\n",
    "cat = pd.CategoricalDtype(months, ordered=True)\n",
    "#considering both the years\n",
    "sns.lineplot(data=final_data.astype({'claim_month': cat}),x='claim_month',y='claim_amount',errorbar=None)\n",
    "plt.xticks(rotation=90)\n",
    "plt.grid()\n",
    "plt.show()"
   ]
  },
  {
   "cell_type": "code",
   "execution_count": 59,
   "id": "209376cd",
   "metadata": {},
   "outputs": [
    {
     "data": {
      "image/png": "[encoded data removed]",
      "text/plain": [
       "<Figure size 640x480 with 1 Axes>"
      ]
     },
     "metadata": {},
     "output_type": "display_data"
    }
   ],
   "source": [
    "#breaking down into years\n",
    "sns.lineplot(data=final_data.astype({'claim_month': cat}),x='claim_month',y='claim_amount',errorbar=None,hue='claim_year')\n",
    "plt.xticks(rotation=90)\n",
    "plt.grid()\n",
    "plt.show()"
   ]
  },
  {
   "cell_type": "markdown",
   "id": "2ae90a2c",
   "metadata": {},
   "source": [
    "### 15. What is the average claim amount for gender and age categories and suitably represent the above using a facetted bar chart, one facet that represents fraudulent claims and the other for non-fraudulent claims."
   ]
  },
  {
   "cell_type": "code",
   "execution_count": 60,
   "id": "392aba57",
   "metadata": {},
   "outputs": [
    {
     "data": {
      "text/html": [
       "<div>\n",
       "<style scoped>\n",
       "    .dataframe tbody tr th:only-of-type {\n",
       "        vertical-align: middle;\n",
       "    }\n",
       "\n",
       "    .dataframe tbody tr th {\n",
       "        vertical-align: top;\n",
       "    }\n",
       "\n",
       "    .dataframe thead th {\n",
       "        text-align: right;\n",
       "    }\n",
       "</style>\n",
       "<table border=\"1\" class=\"dataframe\">\n",
       "  <thead>\n",
       "    <tr style=\"text-align: right;\">\n",
       "      <th></th>\n",
       "      <th>gender</th>\n",
       "      <th>age_cat</th>\n",
       "      <th>fraudulent</th>\n",
       "      <th>claim_amount</th>\n",
       "    </tr>\n",
       "  </thead>\n",
       "  <tbody>\n",
       "    <tr>\n",
       "      <th>0</th>\n",
       "      <td>Female</td>\n",
       "      <td>Children &lt; 18</td>\n",
       "      <td>No</td>\n",
       "      <td>11210.000000</td>\n",
       "    </tr>\n",
       "    <tr>\n",
       "      <th>1</th>\n",
       "      <td>Female</td>\n",
       "      <td>Children &lt; 18</td>\n",
       "      <td>Yes</td>\n",
       "      <td>NaN</td>\n",
       "    </tr>\n",
       "    <tr>\n",
       "      <th>2</th>\n",
       "      <td>Female</td>\n",
       "      <td>Youth 18-30</td>\n",
       "      <td>No</td>\n",
       "      <td>12390.372070</td>\n",
       "    </tr>\n",
       "    <tr>\n",
       "      <th>3</th>\n",
       "      <td>Female</td>\n",
       "      <td>Youth 18-30</td>\n",
       "      <td>Yes</td>\n",
       "      <td>7598.811523</td>\n",
       "    </tr>\n",
       "    <tr>\n",
       "      <th>4</th>\n",
       "      <td>Female</td>\n",
       "      <td>Adult 30-60</td>\n",
       "      <td>No</td>\n",
       "      <td>12372.093750</td>\n",
       "    </tr>\n",
       "    <tr>\n",
       "      <th>5</th>\n",
       "      <td>Female</td>\n",
       "      <td>Adult 30-60</td>\n",
       "      <td>Yes</td>\n",
       "      <td>12461.895508</td>\n",
       "    </tr>\n",
       "    <tr>\n",
       "      <th>6</th>\n",
       "      <td>Female</td>\n",
       "      <td>Senior &gt; 60</td>\n",
       "      <td>No</td>\n",
       "      <td>NaN</td>\n",
       "    </tr>\n",
       "    <tr>\n",
       "      <th>7</th>\n",
       "      <td>Female</td>\n",
       "      <td>Senior &gt; 60</td>\n",
       "      <td>Yes</td>\n",
       "      <td>NaN</td>\n",
       "    </tr>\n",
       "    <tr>\n",
       "      <th>8</th>\n",
       "      <td>Male</td>\n",
       "      <td>Children &lt; 18</td>\n",
       "      <td>No</td>\n",
       "      <td>18316.000000</td>\n",
       "    </tr>\n",
       "    <tr>\n",
       "      <th>9</th>\n",
       "      <td>Male</td>\n",
       "      <td>Children &lt; 18</td>\n",
       "      <td>Yes</td>\n",
       "      <td>32407.000000</td>\n",
       "    </tr>\n",
       "    <tr>\n",
       "      <th>10</th>\n",
       "      <td>Male</td>\n",
       "      <td>Youth 18-30</td>\n",
       "      <td>No</td>\n",
       "      <td>12295.833008</td>\n",
       "    </tr>\n",
       "    <tr>\n",
       "      <th>11</th>\n",
       "      <td>Male</td>\n",
       "      <td>Youth 18-30</td>\n",
       "      <td>Yes</td>\n",
       "      <td>10096.203125</td>\n",
       "    </tr>\n",
       "    <tr>\n",
       "      <th>12</th>\n",
       "      <td>Male</td>\n",
       "      <td>Adult 30-60</td>\n",
       "      <td>No</td>\n",
       "      <td>12116.798828</td>\n",
       "    </tr>\n",
       "    <tr>\n",
       "      <th>13</th>\n",
       "      <td>Male</td>\n",
       "      <td>Adult 30-60</td>\n",
       "      <td>Yes</td>\n",
       "      <td>17062.062500</td>\n",
       "    </tr>\n",
       "    <tr>\n",
       "      <th>14</th>\n",
       "      <td>Male</td>\n",
       "      <td>Senior &gt; 60</td>\n",
       "      <td>No</td>\n",
       "      <td>NaN</td>\n",
       "    </tr>\n",
       "    <tr>\n",
       "      <th>15</th>\n",
       "      <td>Male</td>\n",
       "      <td>Senior &gt; 60</td>\n",
       "      <td>Yes</td>\n",
       "      <td>NaN</td>\n",
       "    </tr>\n",
       "  </tbody>\n",
       "</table>\n",
       "</div>"
      ],
      "text/plain": [
       "    gender        age_cat fraudulent  claim_amount\n",
       "0   Female  Children < 18         No  11210.000000\n",
       "1   Female  Children < 18        Yes           NaN\n",
       "2   Female    Youth 18-30         No  12390.372070\n",
       "3   Female    Youth 18-30        Yes   7598.811523\n",
       "4   Female    Adult 30-60         No  12372.093750\n",
       "5   Female    Adult 30-60        Yes  12461.895508\n",
       "6   Female    Senior > 60         No           NaN\n",
       "7   Female    Senior > 60        Yes           NaN\n",
       "8     Male  Children < 18         No  18316.000000\n",
       "9     Male  Children < 18        Yes  32407.000000\n",
       "10    Male    Youth 18-30         No  12295.833008\n",
       "11    Male    Youth 18-30        Yes  10096.203125\n",
       "12    Male    Adult 30-60         No  12116.798828\n",
       "13    Male    Adult 30-60        Yes  17062.062500\n",
       "14    Male    Senior > 60         No           NaN\n",
       "15    Male    Senior > 60        Yes           NaN"
      ]
     },
     "execution_count": 60,
     "metadata": {},
     "output_type": "execute_result"
    }
   ],
   "source": [
    "final_data_avg=final_data.groupby(['gender','age_cat','fraudulent'])[['claim_amount']].mean().reset_index()\n",
    "final_data_avg"
   ]
  },
  {
   "cell_type": "code",
   "execution_count": 61,
   "id": "9a0a786e",
   "metadata": {},
   "outputs": [
    {
     "name": "stderr",
     "output_type": "stream",
     "text": [
      "C:\\Users\\SG.SAYANPC\\anaconda3\\Lib\\site-packages\\seaborn\\axisgrid.py:118: UserWarning: The figure layout has changed to tight\n",
      "  self._figure.tight_layout(*args, **kwargs)\n"
     ]
    },
    {
     "data": {
      "text/plain": [
       "<seaborn.axisgrid.FacetGrid at 0x1d9cfcdb050>"
      ]
     },
     "execution_count": 61,
     "metadata": {},
     "output_type": "execute_result"
    },
    {
     "data": {
      "text/plain": [
       "<Figure size 1000x1000 with 0 Axes>"
      ]
     },
     "metadata": {},
     "output_type": "display_data"
    },
    {
     "data": {
      "image/png": "[encoded data removed]",
      "text/plain": [
       "<Figure size 800x800 with 4 Axes>"
      ]
     },
     "metadata": {},
     "output_type": "display_data"
    }
   ],
   "source": [
    "plt.figure(layout='constrained',figsize=(10,10))\n",
    "MAP=sns.FacetGrid(final_data_avg, row=\"fraudulent\", col=\"gender\",height=4)\n",
    "MAP.map_dataframe(sns.barplot, \"claim_amount\",\"age_cat\")\n"
   ]
  },
  {
   "cell_type": "markdown",
   "id": "a8e9bcc9",
   "metadata": {},
   "source": [
    "Based on the conclusions from exploratory analysis as well as suitable \n",
    "statistical tests, answer the below questions. Please include a detailed \n",
    "write-up on the parameters taken into consideration, the Hypothesis \n",
    "testing steps, conclusion from the p-values and the business implications of \n",
    "the statements. "
   ]
  },
  {
   "cell_type": "markdown",
   "id": "8c18d086",
   "metadata": {},
   "source": [
    "### 16. Is there any similarity in the amount claimed by males and females?"
   ]
  },
  {
   "cell_type": "code",
   "execution_count": 62,
   "id": "28592cac",
   "metadata": {},
   "outputs": [],
   "source": [
    "#State the Null hypothesis and Alternate hypothesis\n",
    "#Ho=There is similarity in the amount claimed by males and females (mean_male=mean_female)\n",
    "#Ha=there is no similarity in the amount claimed by males and females (mean_male<>mean_female)\n",
    "\n",
    "#CI=95%\n",
    "#the level of siginificance(p-Value=0.05)"
   ]
  },
  {
   "cell_type": "code",
   "execution_count": 63,
   "id": "6ecd7a5c",
   "metadata": {},
   "outputs": [
    {
     "data": {
      "text/html": [
       "<div>\n",
       "<style scoped>\n",
       "    .dataframe tbody tr th:only-of-type {\n",
       "        vertical-align: middle;\n",
       "    }\n",
       "\n",
       "    .dataframe tbody tr th {\n",
       "        vertical-align: top;\n",
       "    }\n",
       "\n",
       "    .dataframe thead th {\n",
       "        text-align: right;\n",
       "    }\n",
       "</style>\n",
       "<table border=\"1\" class=\"dataframe\">\n",
       "  <thead>\n",
       "    <tr style=\"text-align: right;\">\n",
       "      <th></th>\n",
       "      <th>claim_amount</th>\n",
       "    </tr>\n",
       "    <tr>\n",
       "      <th>gender</th>\n",
       "      <th></th>\n",
       "    </tr>\n",
       "  </thead>\n",
       "  <tbody>\n",
       "    <tr>\n",
       "      <th>Female</th>\n",
       "      <td>12062.634766</td>\n",
       "    </tr>\n",
       "    <tr>\n",
       "      <th>Male</th>\n",
       "      <td>12853.058594</td>\n",
       "    </tr>\n",
       "  </tbody>\n",
       "</table>\n",
       "</div>"
      ],
      "text/plain": [
       "        claim_amount\n",
       "gender              \n",
       "Female  12062.634766\n",
       "Male    12853.058594"
      ]
     },
     "execution_count": 63,
     "metadata": {},
     "output_type": "execute_result"
    }
   ],
   "source": [
    "final_data.pivot_table(index='gender',values='claim_amount')"
   ]
  },
  {
   "cell_type": "code",
   "execution_count": 64,
   "id": "bc43a1c9",
   "metadata": {},
   "outputs": [],
   "source": [
    "claim_amount_male=final_data[final_data.loc[:,'gender']=='Male']['claim_amount']\n",
    "claim_amount_female=final_data[final_data.loc[:,'gender']=='Female']['claim_amount']"
   ]
  },
  {
   "cell_type": "code",
   "execution_count": 65,
   "id": "7409e653",
   "metadata": {},
   "outputs": [
    {
     "data": {
      "text/plain": [
       "TtestResult(statistic=0.9738150480468969, pvalue=0.33036583274640774, df=1083.0)"
      ]
     },
     "execution_count": 65,
     "metadata": {},
     "output_type": "execute_result"
    }
   ],
   "source": [
    "#These are independent samples and continuous. Thus , we need to perform the two tail t-test for independed sample\n",
    "stats.ttest_ind(claim_amount_male,claim_amount_female)\n",
    "#SINCE P VALUE IS >0.05,WE FAILED TO REJECT THE NULL HYPOTHESIS\n",
    "\n",
    "#BUSINESS OUTCOME : There is similarity in usege of male and female"
   ]
  },
  {
   "cell_type": "markdown",
   "id": "9fe05dc8",
   "metadata": {},
   "source": [
    "### 17. Is there any relationship between age category and segment?\n"
   ]
  },
  {
   "cell_type": "code",
   "execution_count": 66,
   "id": "4aeaebde",
   "metadata": {},
   "outputs": [],
   "source": [
    "#State the Null hypothesis and Alternate hypothesis\n",
    "#Ho=There is no relationship between age category and segment\n",
    "#Ha=There is relationship between age category and segment\n",
    "\n",
    "#CI=95%\n",
    "#the level of siginificance(p-Value=0.05)"
   ]
  },
  {
   "cell_type": "code",
   "execution_count": 67,
   "id": "c7333a26",
   "metadata": {},
   "outputs": [
    {
     "data": {
      "text/html": [
       "<div>\n",
       "<style scoped>\n",
       "    .dataframe tbody tr th:only-of-type {\n",
       "        vertical-align: middle;\n",
       "    }\n",
       "\n",
       "    .dataframe tbody tr th {\n",
       "        vertical-align: top;\n",
       "    }\n",
       "\n",
       "    .dataframe thead th {\n",
       "        text-align: right;\n",
       "    }\n",
       "</style>\n",
       "<table border=\"1\" class=\"dataframe\">\n",
       "  <thead>\n",
       "    <tr style=\"text-align: right;\">\n",
       "      <th>Segment</th>\n",
       "      <th>Gold</th>\n",
       "      <th>Platinum</th>\n",
       "      <th>Silver</th>\n",
       "    </tr>\n",
       "    <tr>\n",
       "      <th>age_cat</th>\n",
       "      <th></th>\n",
       "      <th></th>\n",
       "      <th></th>\n",
       "    </tr>\n",
       "  </thead>\n",
       "  <tbody>\n",
       "    <tr>\n",
       "      <th>Children &lt; 18</th>\n",
       "      <td>4</td>\n",
       "      <td>4</td>\n",
       "      <td>0</td>\n",
       "    </tr>\n",
       "    <tr>\n",
       "      <th>Youth 18-30</th>\n",
       "      <td>106</td>\n",
       "      <td>117</td>\n",
       "      <td>105</td>\n",
       "    </tr>\n",
       "    <tr>\n",
       "      <th>Adult 30-60</th>\n",
       "      <td>265</td>\n",
       "      <td>241</td>\n",
       "      <td>243</td>\n",
       "    </tr>\n",
       "  </tbody>\n",
       "</table>\n",
       "</div>"
      ],
      "text/plain": [
       "Segment        Gold  Platinum  Silver\n",
       "age_cat                              \n",
       "Children < 18     4         4       0\n",
       "Youth 18-30     106       117     105\n",
       "Adult 30-60     265       241     243"
      ]
     },
     "execution_count": 67,
     "metadata": {},
     "output_type": "execute_result"
    }
   ],
   "source": [
    "#We are comparing two categorical datas, so need to use Chi Square Test\n",
    "contngcy_table=pd.crosstab(index = final_data.age_cat, columns = final_data.Segment)\n",
    "contngcy_table"
   ]
  },
  {
   "cell_type": "code",
   "execution_count": 68,
   "id": "25b78826",
   "metadata": {},
   "outputs": [
    {
     "data": {
      "text/plain": [
       "Chi2ContingencyResult(statistic=5.276713250756647, pvalue=0.26006478076298034, dof=4, expected_freq=array([[  2.76497696,   2.66912442,   2.56589862],\n",
       "       [113.3640553 , 109.43410138, 105.20184332],\n",
       "       [258.87096774, 249.89677419, 240.23225806]]))"
      ]
     },
     "execution_count": 68,
     "metadata": {},
     "output_type": "execute_result"
    }
   ],
   "source": [
    "stats.chi2_contingency(contngcy_table)\n",
    "#SINCE P VALUE IS >0.05,WE FAILED TO REJECT THE NULL HYPOTHESIS\n",
    "\n",
    "#BUSINESS OUTCOME : There is no relationship between age category and segment"
   ]
  },
  {
   "cell_type": "markdown",
   "id": "a4af521b",
   "metadata": {},
   "source": [
    "### 18. The current year has shown a significant rise in claim amounts as compared to 2016-17 fiscal average which was $10,000."
   ]
  },
  {
   "cell_type": "code",
   "execution_count": 75,
   "id": "d52d487b",
   "metadata": {},
   "outputs": [
    {
     "data": {
      "text/html": [
       "<div>\n",
       "<style scoped>\n",
       "    .dataframe tbody tr th:only-of-type {\n",
       "        vertical-align: middle;\n",
       "    }\n",
       "\n",
       "    .dataframe tbody tr th {\n",
       "        vertical-align: top;\n",
       "    }\n",
       "\n",
       "    .dataframe thead th {\n",
       "        text-align: right;\n",
       "    }\n",
       "</style>\n",
       "<table border=\"1\" class=\"dataframe\">\n",
       "  <thead>\n",
       "    <tr style=\"text-align: right;\">\n",
       "      <th></th>\n",
       "      <th>CUST_ID</th>\n",
       "      <th>gender</th>\n",
       "      <th>DateOfBirth</th>\n",
       "      <th>State</th>\n",
       "      <th>Contact</th>\n",
       "      <th>Segment</th>\n",
       "      <th>claim_id</th>\n",
       "      <th>incident_cause</th>\n",
       "      <th>claim_date</th>\n",
       "      <th>claim_area</th>\n",
       "      <th>police_report</th>\n",
       "      <th>claim_type</th>\n",
       "      <th>claim_amount</th>\n",
       "      <th>total_policy_claims</th>\n",
       "      <th>fraudulent</th>\n",
       "      <th>age</th>\n",
       "      <th>age_cat</th>\n",
       "      <th>claim_year</th>\n",
       "      <th>claim_month</th>\n",
       "    </tr>\n",
       "  </thead>\n",
       "  <tbody>\n",
       "    <tr>\n",
       "      <th>0</th>\n",
       "      <td>93915431</td>\n",
       "      <td>Male</td>\n",
       "      <td>1967-09-08</td>\n",
       "      <td>ME</td>\n",
       "      <td>134-785-1687</td>\n",
       "      <td>Gold</td>\n",
       "      <td>99775483</td>\n",
       "      <td>Other causes</td>\n",
       "      <td>2018-10-30</td>\n",
       "      <td>Auto</td>\n",
       "      <td>0</td>\n",
       "      <td>Material and injury</td>\n",
       "      <td>42124.5</td>\n",
       "      <td>1.0</td>\n",
       "      <td>Yes</td>\n",
       "      <td>51.143053</td>\n",
       "      <td>Adult 30-60</td>\n",
       "      <td>2018</td>\n",
       "      <td>October</td>\n",
       "    </tr>\n",
       "    <tr>\n",
       "      <th>1</th>\n",
       "      <td>38011078</td>\n",
       "      <td>Female</td>\n",
       "      <td>1976-05-20</td>\n",
       "      <td>NE</td>\n",
       "      <td>271-123-1475</td>\n",
       "      <td>Gold</td>\n",
       "      <td>98795403</td>\n",
       "      <td>Crime</td>\n",
       "      <td>2018-10-30</td>\n",
       "      <td>Auto</td>\n",
       "      <td>0</td>\n",
       "      <td>Material only</td>\n",
       "      <td>1940.0</td>\n",
       "      <td>1.0</td>\n",
       "      <td>No</td>\n",
       "      <td>42.444901</td>\n",
       "      <td>Adult 30-60</td>\n",
       "      <td>2018</td>\n",
       "      <td>October</td>\n",
       "    </tr>\n",
       "  </tbody>\n",
       "</table>\n",
       "</div>"
      ],
      "text/plain": [
       "    CUST_ID  gender DateOfBirth State       Contact Segment  claim_id  \\\n",
       "0  93915431    Male  1967-09-08    ME  134-785-1687    Gold  99775483   \n",
       "1  38011078  Female  1976-05-20    NE  271-123-1475    Gold  98795403   \n",
       "\n",
       "  incident_cause claim_date claim_area  police_report           claim_type  \\\n",
       "0   Other causes 2018-10-30       Auto              0  Material and injury   \n",
       "1          Crime 2018-10-30       Auto              0        Material only   \n",
       "\n",
       "   claim_amount  total_policy_claims fraudulent        age      age_cat  \\\n",
       "0       42124.5                  1.0        Yes  51.143053  Adult 30-60   \n",
       "1        1940.0                  1.0         No  42.444901  Adult 30-60   \n",
       "\n",
       "   claim_year claim_month  \n",
       "0        2018     October  \n",
       "1        2018     October  "
      ]
     },
     "execution_count": 75,
     "metadata": {},
     "output_type": "execute_result"
    }
   ],
   "source": [
    "final_data.head(2)"
   ]
  },
  {
   "cell_type": "code",
   "execution_count": 82,
   "id": "03b21325",
   "metadata": {},
   "outputs": [
    {
     "data": {
      "text/plain": [
       "12948.369"
      ]
     },
     "execution_count": 82,
     "metadata": {},
     "output_type": "execute_result"
    }
   ],
   "source": [
    "sample_17_18=final_data[(final_data.claim_date>=('2017-04-01')) & (final_data.claim_date<=('2018-03-31'))].claim_amount\n",
    "sample_17_18.mean()"
   ]
  },
  {
   "cell_type": "code",
   "execution_count": null,
   "id": "1a9e4747",
   "metadata": {},
   "outputs": [],
   "source": [
    "#State the Null hypothesis and Alternate hypothesis\n",
    "#Ho= There is no significant rise in the claim amount.\n",
    "#Ha=There is siginciant rise in the claim amount.\n",
    "\n",
    "#CI=95%\n",
    "#the level of siginificance(p-Value=0.05)"
   ]
  },
  {
   "cell_type": "code",
   "execution_count": 84,
   "id": "a9554b49",
   "metadata": {},
   "outputs": [
    {
     "data": {
      "text/plain": [
       "TtestResult(statistic=5.159250007393531, pvalue=3.420259153688494e-07, df=574)"
      ]
     },
     "execution_count": 84,
     "metadata": {},
     "output_type": "execute_result"
    }
   ],
   "source": [
    "#Comparing the mean of two samples\n",
    "pop_mean=10000\n",
    "stats.ttest_1samp(sample_17_18, popmean=pop_mean)\n",
    "#SINCE P VALUE IS <0.05,WE REJECT THE NULL HYPOTHESIS\n",
    "\n",
    "#BUSINESS OUTCOME : There is siginciant rise in the claim amount in 2017-2018 fiscal year as compared to 2016-17 fiscal year"
   ]
  },
  {
   "cell_type": "markdown",
   "id": "0a9cf946",
   "metadata": {},
   "source": [
    "### 19. Is there any difference between age groups and insurance claims?"
   ]
  },
  {
   "cell_type": "code",
   "execution_count": 85,
   "id": "def10057",
   "metadata": {},
   "outputs": [
    {
     "data": {
      "text/plain": [
       "age_cat\n",
       "Adult 30-60      749\n",
       "Youth 18-30      328\n",
       "Children < 18      8\n",
       "Senior > 60        0\n",
       "Name: count, dtype: int64"
      ]
     },
     "execution_count": 85,
     "metadata": {},
     "output_type": "execute_result"
    }
   ],
   "source": [
    "final_data.age_cat.value_counts()\n",
    "#I WILL NEGLECT SENIOR>60 GROUP"
   ]
  },
  {
   "cell_type": "code",
   "execution_count": 89,
   "id": "2328dda9",
   "metadata": {},
   "outputs": [],
   "source": [
    "#State the Null hypothesis and Alternate hypothesis\n",
    "#Ho= There is no difference between age groups and insurance claims .\n",
    "#Ha=There is siginciant difference between age groups and insurance claims .\n",
    "\n",
    "#CI=95%\n",
    "#the level of siginificance(p-Value=0.05)\n",
    "\n",
    "adult=final_data[final_data.loc[:,'age_cat']=='Adult 30-60'].loc[:,'claim_amount']\n",
    "youth=final_data[final_data.loc[:,'age_cat']=='Youth 18-30'].loc[:,'claim_amount']\n",
    "children=final_data[final_data.loc[:,'age_cat']=='Children < 18'].loc[:,'claim_amount']"
   ]
  },
  {
   "cell_type": "code",
   "execution_count": 90,
   "id": "0e6d45ad",
   "metadata": {},
   "outputs": [
    {
     "data": {
      "text/plain": [
       "F_onewayResult(statistic=1.7347645162644099, pvalue=0.17693212234328473)"
      ]
     },
     "execution_count": 90,
     "metadata": {},
     "output_type": "execute_result"
    }
   ],
   "source": [
    "#There are more than two variables. so we will perform the ANOVA/f-Test\n",
    "stats.f_oneway(adult,youth,children)\n",
    "\n",
    "#SINCE P VALUE IS >0.05,WE FAILED TO REJECT THE NULL HYPOTHESIS\n",
    "\n",
    "#BUSINESS OUTCOME : There is no difference between age groups and insurance claims."
   ]
  },
  {
   "cell_type": "markdown",
   "id": "92ae5686",
   "metadata": {},
   "source": [
    "### 20. Is there any relationship between total number of policy claims and the claimed amount?"
   ]
  },
  {
   "cell_type": "code",
   "execution_count": null,
   "id": "4a4af7ac",
   "metadata": {},
   "outputs": [],
   "source": [
    "#State the Null hypothesis and Alternate hypothesis\n",
    "#Ho= There is no relationship between total number of policy claims and the claimed amount.\n",
    "#Ha= There is significant relationship between total number of policy claims and the claimed amount.\n",
    "\n",
    "#CI=95%\n",
    "#the level of siginificance(p-Value=0.05)"
   ]
  },
  {
   "cell_type": "code",
   "execution_count": 91,
   "id": "94e792a6",
   "metadata": {},
   "outputs": [
    {
     "data": {
      "text/plain": [
       "0       1.0\n",
       "1       1.0\n",
       "2       1.0\n",
       "3       1.0\n",
       "4       2.0\n",
       "       ... \n",
       "1080    1.0\n",
       "1081    1.0\n",
       "1082    1.0\n",
       "1083    1.0\n",
       "1084    1.0\n",
       "Name: total_policy_claims, Length: 1085, dtype: float16"
      ]
     },
     "execution_count": 91,
     "metadata": {},
     "output_type": "execute_result"
    }
   ],
   "source": [
    "final_data.total_policy_claims"
   ]
  },
  {
   "cell_type": "code",
   "execution_count": 92,
   "id": "6fe38c2b",
   "metadata": {},
   "outputs": [
    {
     "data": {
      "text/plain": [
       "0       42124.500000\n",
       "1        1940.000000\n",
       "2        2420.000000\n",
       "3        1830.000000\n",
       "4       12467.681641\n",
       "            ...     \n",
       "1080    20200.000000\n",
       "1081    27670.000000\n",
       "1082    17290.000000\n",
       "1083     2080.000000\n",
       "1084    30930.000000\n",
       "Name: claim_amount, Length: 1085, dtype: float32"
      ]
     },
     "execution_count": 92,
     "metadata": {},
     "output_type": "execute_result"
    }
   ],
   "source": [
    "final_data.claim_amount"
   ]
  },
  {
   "cell_type": "code",
   "execution_count": 93,
   "id": "175dc404",
   "metadata": {},
   "outputs": [
    {
     "data": {
      "text/plain": [
       "PearsonRResult(statistic=-0.017952953364268578, pvalue=0.5547051236390917)"
      ]
     },
     "execution_count": 93,
     "metadata": {},
     "output_type": "execute_result"
    }
   ],
   "source": [
    "#We have two continuous variables, so we will perform Pearson's test\n",
    "stats.pearsonr(final_data.claim_amount,final_data.total_policy_claims)\n",
    "\n",
    "#SINCE P VALUE IS >0.05,WE FAILED TO REJECT THE NULL HYPOTHESIS\n",
    "\n",
    "#BUSINESS OUTCOME :  There is no relationship between total number of policy claims and the claimed amount."
   ]
  }
 ],
 "metadata": {
  "kernelspec": {
   "display_name": "Python 3 (ipykernel)",
   "language": "python",
   "name": "python3"
  },
  "language_info": {
   "codemirror_mode": {
    "name": "ipython",
    "version": 3
   },
   "file_extension": ".py",
   "mimetype": "text/x-python",
   "name": "python",
   "nbconvert_exporter": "python",
   "pygments_lexer": "ipython3",
   "version": "3.11.5"
  }
 },
 "nbformat": 4,
 "nbformat_minor": 5
}
